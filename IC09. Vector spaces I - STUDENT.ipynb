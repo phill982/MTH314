{
 "cells": [
  {
   "cell_type": "markdown",
   "id": "5f519515",
   "metadata": {},
   "source": [
    "# Vector spaces I"
   ]
  },
  {
   "cell_type": "markdown",
   "id": "524a4fcd",
   "metadata": {},
   "source": [
    "**<font color=red>QUESTION:</font>** What is the span of two vectors that point in the same direction?\n"
   ]
  },
  {
   "cell_type": "code",
   "execution_count": null,
   "id": "a5c5bdbd",
   "metadata": {},
   "outputs": [],
   "source": [
    "#Put your answer to the above question here"
   ]
  },
  {
   "cell_type": "markdown",
   "id": "c05b138d",
   "metadata": {},
   "source": [
    "**<font color=red>QUESTION:</font>** Can the following vectors span $\\mathbb{R}^3$? Why?\n",
    "\n",
    "$(1,-2,3),\\quad (-2,4,-6),\\quad (0,6,4)$"
   ]
  },
  {
   "cell_type": "code",
   "execution_count": null,
   "id": "24884576",
   "metadata": {},
   "outputs": [],
   "source": [
    "#Put your answer to the above question here"
   ]
  },
  {
   "cell_type": "markdown",
   "id": "0c2049ab",
   "metadata": {},
   "source": [
    "If some vectors **SPAN** a space AND they are **LINEARLY INDEPENDENT**, then they form a **BASIS** for this space."
   ]
  },
  {
   "cell_type": "markdown",
   "id": "5007c4e4",
   "metadata": {},
   "source": [
    "**<font color=red>DO THIS:</font>** The goal is to determine a basis for $\\mathbb{R}^3$ and verify some equivalent statements to what a basis is. Create a $3 \\times 3$ numpy matrix $A$ where the columns of $A$ are basis vectors of $\\mathbb{R}^3$. \n",
    "1. Using python, calculate the determinant of matrix $A$ to verify that we have a basis. What will the determinant be if it's not a basis? Repeat this step until you have a basis.\n",
    "2. Using python, calculate the inverse of $A$ after you have found a basis. Why is the matrix invertible? (What is the meaning of this inverse matrix? To be answered in a few more classes.)\n",
    "3. Using python, calculate the reduced row echelon form of $A$. What do we expect to get since we know the matrix is invertible?\n",
    "4. How many leading ones are there in the above reduced row echelon form? What did we expect since A is invertible? (What is the rank of A? according to the definition below?)\n",
    "\n",
    "**Definition.** The rank of a matrix $A$ is the number of leading ones in the reduced row echelon form of $A$. We denote it by $\\text{rank}(A)$.\n",
    "Using the function ```np.linalg.matrix_rank()``` to calculate the rank of $A$.\n",
    "\n",
    "5. Using the matrix $A$ that you created above and the vector $b=(1,3,2)$.  What is the solution to $Ax=b$?  How many solutions do we expect this system to have?"
   ]
  },
  {
   "cell_type": "code",
   "execution_count": null,
   "id": "f8507ce5",
   "metadata": {},
   "outputs": [],
   "source": [
    "#Put your answer to the above question here"
   ]
  },
  {
   "cell_type": "markdown",
   "id": "ef61a31e",
   "metadata": {},
   "source": [
    "Turns out a matrix where column vectors are formed from basis vectors a lot of interesting properties and the following statements are equivalent.\n",
    "\n",
    "0. The column vectors of $A$ form a basis for $\\mathbb R^n$\n",
    "1. $|A| \\ne 0$ \n",
    "2. $A$ is invertible.\n",
    "3. $A$ is row equivalent to $I_n$ (i.e. its reduced row echelon form is $I_n$)\n",
    "4. $\\text{rank}(A) = n$\n",
    "5.  The system of equations $Ax = b$ has a unique solution.\n",
    "\n",
    "Not all matrices follow the above statements, but the ones that do are used throughout linear algebra, so it is important to we know these properties. \n"
   ]
  },
  {
   "cell_type": "markdown",
   "id": "c4268e0e",
   "metadata": {},
   "source": [
    "  \n"
   ]
  },
  {
   "cell_type": "markdown",
   "id": "a8fe2249",
   "metadata": {},
   "source": [
    "**<font color=red>QUESTION:</font>** For each of the following subsets of $\\mathbb{R}^3$, determine if they (i) are linearly independent, (ii) span $\\mathbb{R}^3$, (iii) are bases of $\\mathbb{R}^3$:\n",
    "\n",
    "(a) $U=\\left\\{\\begin{bmatrix}1\\\\0\\\\0\\end{bmatrix},\\begin{bmatrix}2\\\\3\\\\0\\end{bmatrix}\\right\\}$ \n",
    "\n",
    "(b) $V=\\left\\{\\begin{bmatrix}1\\\\0\\\\0\\end{bmatrix},\\begin{bmatrix}2\\\\3\\\\0\\end{bmatrix},\\begin{bmatrix}4\\\\5\\\\6\\end{bmatrix}\\right\\}$\n",
    "\n",
    "\n",
    "\n",
    "(c) $W=\\left\\{ \\begin{bmatrix}1\\\\0\\\\0\\end{bmatrix},\\begin{bmatrix}2\\\\3\\\\0\\end{bmatrix},\\begin{bmatrix}4\\\\5\\\\6\\end{bmatrix},\\begin{bmatrix}7\\\\8\\\\6\\end{bmatrix}\\right\\}$\n"
   ]
  },
  {
   "cell_type": "code",
   "execution_count": null,
   "id": "ea287af8",
   "metadata": {},
   "outputs": [],
   "source": [
    "#Put your answer to the above question here"
   ]
  },
  {
   "cell_type": "markdown",
   "id": "68119285",
   "metadata": {},
   "source": [
    "\n",
    "<font color='blue'>**Example**. Consider the following matrix, which is in the reduced row echelon form.\n",
    "$ \n",
    "\\left[\n",
    "\\begin{matrix}\n",
    "    1   & 0 & 0 & 7  \\\\\n",
    "    0   & 1 & 0 & 4  \\\\\n",
    "    0   & 0 & 1 & 3\n",
    "\\end{matrix}\n",
    "\\right] \n",
    "$\\\n",
    "(a) Show that the row vectors form a linearly independent set:\n"
   ]
  },
  {
   "cell_type": "code",
   "execution_count": null,
   "id": "246486bc",
   "metadata": {},
   "outputs": [],
   "source": [
    "#Put your answer here"
   ]
  },
  {
   "cell_type": "markdown",
   "id": "e07e1f89",
   "metadata": {},
   "source": [
    "<font color='blue'>(b) Is the set of nonzero row vectors of any matrix in reduced row echelon form linearly independent? "
   ]
  },
  {
   "cell_type": "code",
   "execution_count": 5,
   "id": "21a5d80e",
   "metadata": {},
   "outputs": [],
   "source": [
    "#Put your answer here"
   ]
  },
  {
   "cell_type": "markdown",
   "id": "8d445f18",
   "metadata": {},
   "source": [
    "<font color=blue>**Example**.  Write a function that will have as input a list of vectors. Then it will decide if this list is a basis to some $\\mathbb{R}^n$."
   ]
  },
  {
   "cell_type": "code",
   "execution_count": 12,
   "id": "c297bcd0",
   "metadata": {},
   "outputs": [],
   "source": [
    "import numpy as np\n",
    "def basis(X:list):\n",
    "    #first check if the lengths of the vectors match. \n",
    "    #If not, return a message saying that the vectors do not have the same length.\n",
    "    equal_length=all(len(vec)==len(X[0]) for vec in X)\n",
    "    ..\n",
    "    #If all the vectors have the same length, \n",
    "    #check if the number of the vectors is enough (or more than enough) to have a basis.\n",
    "    #Remember how many vectors we need to have a basis in R^n.\n",
    "    if len(X)==..\n",
    "    \n",
    "    \n",
    "    #If all the vectors have the same length place and they are of the number we want,\n",
    "    #place them in a numpy array and by calculating\n",
    "    #the determinant of the matrix (or any other way you like) decide if the vectors form a basis.\n",
    "    A=np.array(..)\n",
    "    detA=..\n",
    "    \n",
    "    "
   ]
  },
  {
   "cell_type": "markdown",
   "id": "0c160c72",
   "metadata": {},
   "source": [
    "**<font color=red>DO THIS:</font>** Verify that the function is working by testing it with different vectors."
   ]
  },
  {
   "cell_type": "code",
   "execution_count": 13,
   "id": "6ab323ee",
   "metadata": {},
   "outputs": [
    {
     "name": "stdout",
     "output_type": "stream",
     "text": [
      "The vectors are NOT a basis of IR^ 2\n"
     ]
    }
   ],
   "source": [
    "X=[[1,0],[0,1],[1,2]]\n",
    "basis(X)"
   ]
  },
  {
   "cell_type": "markdown",
   "id": "d5380302",
   "metadata": {},
   "source": [
    "**<font color=red>DO THIS:</font>** Let $v$, $v_1$, and $v_2$ be vectors in a vector space $V$. \n",
    "Let $v$ be a linear combination of $v_1$ and $v_2$. \n",
    "If $c_1$ and $c_2$ are nonzero real numbers, show that $v$ is also a linear combination of $c_1v_1$ and $c_2v_2$."
   ]
  },
  {
   "cell_type": "code",
   "execution_count": null,
   "id": "88e61d56",
   "metadata": {},
   "outputs": [],
   "source": [
    "#Put your answer here"
   ]
  },
  {
   "cell_type": "markdown",
   "id": "2837d7e7",
   "metadata": {},
   "source": [
    "**<font color=red>DO THIS:</font>** Let $v_1$ and $v_2$ span a vector space $V$. \n",
    "Let $v_3$ be any other vector in $V$. \n",
    "Show that $v_1$, $v_2$, and $v_3$ also span $V$."
   ]
  },
  {
   "cell_type": "code",
   "execution_count": 1,
   "id": "0c1f2d76",
   "metadata": {},
   "outputs": [],
   "source": [
    "#Put your answer here"
   ]
  },
  {
   "cell_type": "code",
   "execution_count": null,
   "id": "0be044ed",
   "metadata": {},
   "outputs": [],
   "source": []
  }
 ],
 "metadata": {
  "kernelspec": {
   "display_name": "Python 3 (ipykernel)",
   "language": "python",
   "name": "python3"
  },
  "language_info": {
   "codemirror_mode": {
    "name": "ipython",
    "version": 3
   },
   "file_extension": ".py",
   "mimetype": "text/x-python",
   "name": "python",
   "nbconvert_exporter": "python",
   "pygments_lexer": "ipython3",
   "version": "3.10.9"
  }
 },
 "nbformat": 4,
 "nbformat_minor": 5
}
