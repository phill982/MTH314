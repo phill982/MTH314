{
 "cells": [
  {
   "cell_type": "markdown",
   "id": "ba8aee52",
   "metadata": {},
   "source": [
    "# Determinants"
   ]
  },
  {
   "cell_type": "markdown",
   "id": "997f4ded",
   "metadata": {},
   "source": [
    "\n",
    "The determinant of a $ 2 \\times 2$ matrix can be calculated as follows:  $\n",
    "\\det \n",
    "\\left[\n",
    "\\begin{matrix}\n",
    "    a_{11} & a_{12}  \\\\\n",
    "    a_{21} & a_{22}\n",
    "\\end{matrix}\n",
    "\\right] \n",
    "= a_{11}a_{22} - a_{12}a_{21}\n",
    "$"
   ]
  },
  {
   "cell_type": "markdown",
   "id": "6ad2d2f6",
   "metadata": {},
   "source": [
    "\n",
    "<font color='blue'> **Example 1:** Calculate the determinant of the following matrix by hand: \n",
    "$ \n",
    "\\left[\n",
    "\\begin{matrix}\n",
    "    3 & -2  \\\\\n",
    "    1 & 2\n",
    "\\end{matrix}\n",
    "\\right] \n",
    "$"
   ]
  },
  {
   "cell_type": "code",
   "execution_count": null,
   "id": "197de3eb",
   "metadata": {},
   "outputs": [],
   "source": [
    "# put your answer here"
   ]
  },
  {
   "cell_type": "markdown",
   "id": "4b812f0a",
   "metadata": {},
   "source": [
    "The determinant of a $3\\times3$ matrix can be calculated as follows:\n",
    "\n",
    "$$\n",
    "\\begin{align*}\n",
    "\\det\\  \\left[\n",
    "\\begin{matrix}\n",
    "    a_{11} & a_{12} & a_{13} \\\\\n",
    "    a_{21} & a_{22} & a_{23} \\\\\n",
    "    a_{31} & a_{32} & a_{33} \n",
    "\\end{matrix}\n",
    "\\right] &= \n",
    "a_{11} \\left|\n",
    "\\begin{matrix}\n",
    "    \\square & \\square  & \\square  \\\\\n",
    "    \\square  & a_{22} & a_{23} \\\\\n",
    "    \\square  & a_{32} & a_{33} \n",
    "\\end{matrix}\n",
    "\\right|\n",
    "-\n",
    "a_{12}\\left|\n",
    "\\begin{matrix}\n",
    "    \\square & \\square  & \\square  \\\\\n",
    "    a_{21} & \\square & a_{23} \\\\\n",
    "    a_{31} & \\square & a_{33} \n",
    "\\end{matrix}\n",
    "\\right|\n",
    "+\n",
    "a_{13} \\left|\n",
    "\\begin{matrix}\n",
    "    \\square & \\square  & \\square  \\\\\n",
    "    a_{21} & a_{22} & \\square \\\\\n",
    "    a_{31} & a_{32} & \\square\n",
    "\\end{matrix}\n",
    "\\right|\\\\\\\\\n",
    "&=\n",
    "a_{11}\\left|\n",
    "\\begin{matrix}\n",
    "    a_{22} & a_{23}  \\\\\n",
    "    a_{32} & a_{33}\n",
    "\\end{matrix}\n",
    "\\right|\n",
    "-\n",
    "a_{12}\\left|\n",
    "\\begin{matrix}\n",
    "    a_{21} & a_{23}  \\\\\n",
    "    a_{31} & a_{33}\n",
    "\\end{matrix}\n",
    "\\right|\n",
    "+\n",
    "a_{13}\n",
    "\\left|\n",
    "\\begin{matrix}\n",
    "    a_{21} & a_{22}  \\\\\n",
    "    a_{31} & a_{32}\n",
    "\\end{matrix}\n",
    "\\right| \\\\ \\\\ \n",
    " &= \n",
    "a_{11}(a_{22}a_{33} - a_{23}a_{32})\n",
    "-\n",
    "a_{12}(a_{21}a_{33} - a_{23}a_{31})\n",
    "+\n",
    "a_{13}(a_{21}a_{32} - a_{22}a_{31})\n",
    "\\end{align*}\n",
    "$$"
   ]
  },
  {
   "cell_type": "markdown",
   "id": "c4bc1af5",
   "metadata": {},
   "source": [
    "<font color='blue'> **Example 2:** Calculate the determinant of the following matrix by hand:\n",
    "$\n",
    "\\left[\n",
    "\\begin{matrix}\n",
    "    1 & 2 & -3  \\\\\n",
    "    5 & 0 & 6  \\\\\n",
    "    7 & 1 & -4\n",
    "\\end{matrix}\n",
    "\\right] \n",
    "$"
   ]
  },
  {
   "cell_type": "code",
   "execution_count": null,
   "id": "93fe32c1",
   "metadata": {},
   "outputs": [],
   "source": [
    "#put your answer here"
   ]
  },
  {
   "cell_type": "markdown",
   "id": "9ec17e13",
   "metadata": {},
   "source": [
    "---\n",
    "## Algorithm to calculate the determinant\n",
    "Consider the following recursive algorithm (algorithm that calls itself) to determine the determinant of a $n\\times n$ matrix $A$ (denoted $|A|$), which is the sum of the products of the elements of any row or column. i.e.:\n",
    "\n",
    "$$i^{th}\\text{ row expansion:     } |A| = a_{i1}C_{i1} + a_{i2}C_{i2} + \\ldots + a_{in}C_{in} $$\n",
    "$$j^{th}\\text{ column expansion:     } |A| = a_{1j}C_{1j} + a_{2j}C_{2j} + \\ldots + a_{nj}C_{nj} $$\n",
    "\n",
    "where $C_{ij}$ is the cofactor of $a_{ij}$ and is given by:\n",
    "\n",
    "$$ C_{ij} = (-1)^{i+j}|M_{ij}|$$\n",
    "\n",
    "and $M_{ij}$ is the matrix that remains after deleting row $i$ and column $j$ of $A$.\n",
    "\n",
    "Here is some code that tries to implement this algorithm.  "
   ]
  },
  {
   "cell_type": "markdown",
   "id": "a6c1a5b9",
   "metadata": {},
   "source": [
    "Calculating the determinant of a larger matrix is a \"recursive\" problem which involves combining the determinants of smaller and smaller sub-matrices until you have a $2 \\times 2$ matrix which is then calculated using the above formula.  Here is some Pseudocode to calculate a determinant.  To simplify the example the code assumes there is a matrix function ```deleterow``` which will remove the $x$th row from a matrix  (always the first row in this example) and ```deletecol``` will remove the $x$th column from a matrix. When used together (as shown below) they will take an $n \\times n$ matrix and turn it into a $ (n-1) \\times (n-1)$ matrix.  \n",
    "\n",
    "\n",
    "```bash\n",
    "function determinant(A, n)\n",
    "   det = 0\n",
    "   if (n == 1)\n",
    "      det = matrix[1,1]\n",
    "   else if (n == 2)\n",
    "      det = matrix[1,1] * matrix[2,2] - matrix[1,2] * matrix[2,1]\n",
    "   else \n",
    "      for x from 1 to n\n",
    "          submatrix = deleterow(matrix, 1)\n",
    "          submatrix = deletecol(submatrix, x)\n",
    "          det = det + (-1)**(x+1) * matrix[1,x] * determinant(submatrix, n-1)\n",
    "      next x\n",
    "   endif\n",
    "   \n",
    "   return det\n",
    "```"
   ]
  },
  {
   "cell_type": "markdown",
   "id": "9b6c9de6",
   "metadata": {},
   "source": [
    "Now write a function in python that calculates the determinant of a square matrix:"
   ]
  },
  {
   "cell_type": "code",
   "execution_count": 31,
   "id": "4e7646ee",
   "metadata": {},
   "outputs": [],
   "source": [
    "## Import our standard packages packages\n",
    "%matplotlib inline\n",
    "import numpy as np\n",
    "import matplotlib.pyplot as plt\n",
    "import sympy as sym\n",
    "sym.init_printing(use_unicode=True)"
   ]
  },
  {
   "cell_type": "code",
   "execution_count": 32,
   "id": "b08a44fb",
   "metadata": {},
   "outputs": [],
   "source": [
    "import copy\n",
    "import random\n",
    "\n",
    "def makeM(A,i,j):\n",
    "    ''' Deletes the ith row and jth column from A'''\n",
    "    M = copy.deepcopy(A)\n",
    "    del M[i]\n",
    "    for k in range(len(M)):\n",
    "        del M[k][j]\n",
    "    return M\n",
    "\n",
    "def mydet(A):\n",
    "    '''Calculate the determinant from list-of-lists matrix A'''\n",
    "    if type(A) == np.matrix:\n",
    "        A = A.tolist()   \n",
    "    n = len(A)\n",
    "    if n == 2:\n",
    "        det = .... \n",
    "        return det\n",
    "    det = 0\n",
    "    i = 0\n",
    "    for j in range(n):\n",
    "        M = makeM(A,i,j)\n",
    "        \n",
    "        #Calculate the determinant\n",
    "        det = ....\n",
    "    return det"
   ]
  },
  {
   "cell_type": "markdown",
   "id": "eb57a283",
   "metadata": {},
   "source": [
    "The following code generates an $n \\times n$ matrix with random values from 0 to 10.  \n",
    "Run the code multiple times to get different matrices:"
   ]
  },
  {
   "cell_type": "code",
   "execution_count": null,
   "id": "6769d47d",
   "metadata": {},
   "outputs": [],
   "source": [
    "#generate Random Matrix and calculate its determinant using numpy\n",
    "n = 5\n",
    "s = 10\n",
    "A = [[round(random.random()*s) for i in range(n)] for j in range(n)]\n",
    "A = np.matrix(A)\n",
    "#print matrix\n",
    "sym.Matrix(A)\n"
   ]
  },
  {
   "cell_type": "markdown",
   "id": "d0a72a46",
   "metadata": {},
   "source": [
    "To calculate the determinant of a square matrix in python we can use numpy, as usual. For example,\n",
    "```bash\n",
    "import numpy\n",
    "A = np.array([[1,2][-1,1]])\n",
    "det = numpy.linalg.det(A)\n",
    "``` "
   ]
  },
  {
   "cell_type": "markdown",
   "id": "a755480b",
   "metadata": {},
   "source": [
    "**<font color='red'>DO THIS:</font>** Use the randomly generated matrix ($A$) to test the above ```mydet``` function and compare your result to the ```numpy.linalg.det``` function."
   ]
  },
  {
   "cell_type": "code",
   "execution_count": null,
   "id": "ab3fa353",
   "metadata": {},
   "outputs": [],
   "source": [
    "print(\"my answer is \", mydet(A))"
   ]
  },
  {
   "cell_type": "code",
   "execution_count": null,
   "id": "3d1e5a90",
   "metadata": {},
   "outputs": [],
   "source": [
    "#Solve using numpy\n",
    "print(\"numpy answer is \",....)"
   ]
  },
  {
   "cell_type": "markdown",
   "id": "8e6b7893",
   "metadata": {},
   "source": [
    "**<font color=red>QUESTION:</font>** Are the answers to ```mydet``` and ```numpy.linalg.det``` exactly the same every time you generate a different random matrix?  If not, explain why."
   ]
  },
  {
   "cell_type": "code",
   "execution_count": null,
   "id": "0cc74ceb",
   "metadata": {},
   "outputs": [],
   "source": [
    "#Put your answer here"
   ]
  },
  {
   "cell_type": "markdown",
   "id": "0eba6feb",
   "metadata": {},
   "source": [
    "**<font color=red>QUESTION:</font>** On line 26 of the above code, you can see that algorithm calls itself.  Explain why this doesn't run forever."
   ]
  },
  {
   "cell_type": "code",
   "execution_count": null,
   "id": "397be9c2",
   "metadata": {},
   "outputs": [],
   "source": [
    "#Put your answer here"
   ]
  },
  {
   "cell_type": "markdown",
   "id": "f2c76967",
   "metadata": {},
   "source": [
    "<font color=blue>**Example**. Using python, find the determinant of $\n",
    "\\left[\n",
    "\\begin{matrix}\n",
    "    2 & 0 & 1 & -5  \\\\\n",
    "    8 & -1 & 2 & 1  \\\\\n",
    "    4 & -3 & -5 & 0 \\\\\n",
    "    1 & 4 & 8 & 2\n",
    "\\end{matrix}\n",
    "\\right] \n",
    "$"
   ]
  },
  {
   "cell_type": "code",
   "execution_count": null,
   "id": "046e3928",
   "metadata": {},
   "outputs": [],
   "source": [
    "#Put your answer here. YOu can use both numpy and mydet to calculate the deteminant."
   ]
  },
  {
   "cell_type": "markdown",
   "id": "b1cfa5bc",
   "metadata": {},
   "source": [
    "\n",
    "## Properties of Determinants\n",
    "\n",
    "Let $A$ be an $n \\times n$ matrix and $c$ be a nonzero scalar. Let $|A|$ be a simplified syntax for writing the determinant of $A$: \n",
    "\n",
    "1. If a matrix $B$ is obtained from $A$ by multiplying a row (or column) by $c$ then $|B| = c|A|$.\n",
    "2. If a matrix $B$ is obtained from $A$ by interchanging two rows (or columns) then $|B| = -|A|$.\n",
    "3. if a matrix $B$ is obtained from $A$ by adding a multiple of one row (column) to another row (column), then $|B| = |A|$.\n",
    "\n"
   ]
  },
  {
   "cell_type": "markdown",
   "id": "e62b0b54",
   "metadata": {},
   "source": [
    "<font color=blue>**Example**.   Let $A$ be an $n \\times n$ matrix. What is the determinant of $A$ if any of the following is true?\n",
    "\n",
    "<font color=blue> 1. all the elements of a row (or column) are zero.\\\n",
    "2. two rows (or columns) are equal.\\\n",
    "3. two rows (or columns) are proportional. i.e. one row (column) is the same as another row (column) multiplied by $c$."
   ]
  },
  {
   "cell_type": "code",
   "execution_count": null,
   "id": "1298a5b2",
   "metadata": {},
   "outputs": [],
   "source": [
    "#Put your answer here"
   ]
  },
  {
   "cell_type": "markdown",
   "id": "8c8bd786",
   "metadata": {},
   "source": [
    "<font color=blue>**Example**.  If $A$ and $B$ are $3\\times 3$ matrices with $|A| = -3, |B|=2$ , use the properties of determinants to compute the following determinant:\n",
    "\n",
    "$$|2A|, \\quad |A^2|, \\quad |AB|, \\quad |2AB^{-1}|$$"
   ]
  },
  {
   "cell_type": "code",
   "execution_count": null,
   "id": "be810b39",
   "metadata": {},
   "outputs": [],
   "source": [
    "#Put your answer here"
   ]
  },
  {
   "cell_type": "markdown",
   "id": "72f5c4c1",
   "metadata": {},
   "source": [
    "<font color=blue>**Example**.  Without doing any calculation, what is the determinant of $\n",
    "\\left[\n",
    "\\begin{matrix}\n",
    "    1 & 5 & 5  \\\\\n",
    "    0 & -2 & -2  \\\\\n",
    "    3 & 1 & 1\n",
    "\\end{matrix}\n",
    "\\right] \n",
    "$? Justify your answer.\n",
    "\n"
   ]
  },
  {
   "cell_type": "code",
   "execution_count": null,
   "id": "a1f0b772",
   "metadata": {},
   "outputs": [],
   "source": [
    "#Put your answer here."
   ]
  },
  {
   "cell_type": "markdown",
   "id": "2620a02f",
   "metadata": {},
   "source": [
    "<font color=blue>**Example**.  Without doing any calculation, what is the determinant of the $\n",
    "\\left[\n",
    "\\begin{matrix}\n",
    "    1 & 0 & 4  \\\\\n",
    "    0 & 1 & 9  \\\\\n",
    "    0 & 0 & 0\n",
    "\\end{matrix}\n",
    "\\right] \n",
    "$? Justify your answer.\n"
   ]
  },
  {
   "cell_type": "code",
   "execution_count": null,
   "id": "1320e549",
   "metadata": {},
   "outputs": [],
   "source": [
    "#Put your answer here."
   ]
  },
  {
   "cell_type": "markdown",
   "id": "10bee770",
   "metadata": {},
   "source": [
    "<font color=blue>**Example**.  If $A$ is an $n\\times n$ matrix with the property $A^2=I$, where $I$ is the identity $n\\times n$ matrix, what are the possible values of $|A|$?"
   ]
  },
  {
   "cell_type": "code",
   "execution_count": null,
   "id": "1018db9d",
   "metadata": {},
   "outputs": [],
   "source": [
    "#Put your answer here."
   ]
  },
  {
   "cell_type": "markdown",
   "id": "277d0e95",
   "metadata": {},
   "source": [
    "**Definition:** An **upper triangular matrix** has nonzero elements lie on or above the main diagonal and zero elements below the main diagonal. For example:\n",
    "\n",
    "\n",
    "$$ \n",
    "\\left[\n",
    "\\begin{matrix}\n",
    "    2 & -1 & 9 & 4  \\\\\n",
    "    0 & 3 & 0 & 6 \\\\\n",
    "    0 & 0 & -5 & 3 \\\\\n",
    "    0 & 0 & 0 & 1\n",
    "\\end{matrix}\n",
    "\\right] \n",
    "$$\n",
    "\n",
    "**<font color=green>Comment. The determinant of an *upper triangular matrix* $A$ is the product of the diagonal elements of the matrix $A$.**  \n",
    "\n",
    "<font color=green> Also, since the Determinant is the same for a matrix and its transpose (i.e.  $|A^t| = |A|$, see definition above) the determinant of a *lower triangular matrix* is also the product of the diagonal elements. "
   ]
  },
  {
   "cell_type": "markdown",
   "id": "1f1ca4cb",
   "metadata": {},
   "source": [
    "<font color=blue>**Example**.  What is the determinant of matrix above without python?"
   ]
  },
  {
   "cell_type": "code",
   "execution_count": null,
   "id": "3fac70b7",
   "metadata": {},
   "outputs": [],
   "source": [
    "# Put your answer here"
   ]
  },
  {
   "cell_type": "markdown",
   "id": "2e18311f",
   "metadata": {},
   "source": [
    "---\n",
    "# Applications of determinants\n",
    "\n",
    "\n",
    "## 1. Using Cramer's rule to solve $Ax=b$\n",
    "\n",
    "Let $Ax = b$ be a system of $n$ linear equations in $n$ variables such that $|A| \\neq 0$. The system has a unique solution given by:\n",
    "\n",
    "$$x_1 = \\frac{|A_1|}{|A|}, x_2 = \\frac{|A_2|}{|A|}, \\ldots,  x_n = \\frac{|A_n|}{|A|}$$\n",
    "\n",
    "where $A_i$ is the matrix obtained by replacing column $i$ of $A$ with $b$. The following function generates $A_i$ by replacing the $i$th column of $A$ with $b$:"
   ]
  },
  {
   "cell_type": "code",
   "execution_count": 17,
   "id": "1bf86bb1",
   "metadata": {},
   "outputs": [],
   "source": [
    "import copy\n",
    "def makeAi(A,i,b):\n",
    "    '''Replace the ith column in A with b'''\n",
    "    if type(A) == np.matrix:\n",
    "        A = A.tolist()\n",
    "    if type(b) == np.matrix:\n",
    "        b = b.tolist()\n",
    "    Ai = copy.deepcopy(A)\n",
    "    for j in range(len(Ai)):\n",
    "        Ai[j][i] = b[j]\n",
    "    return Ai"
   ]
  },
  {
   "cell_type": "markdown",
   "id": "c85295f9",
   "metadata": {},
   "source": [
    "**<font color=red>DO THIS:</font>** Create a new function called ```cramersRule```, which takes $A$ and $b$ and returns $x$ using the Cramer's rule."
   ]
  },
  {
   "cell_type": "code",
   "execution_count": 21,
   "id": "b1b91e9d",
   "metadata": {},
   "outputs": [],
   "source": [
    "# Stub code. Replace the np.linalg.solve code with your answer\n",
    "import numpy as np\n",
    "def cramersRule(A,b):\n",
    "    detA = ...\n",
    "    x = [] \n",
    "    for i in range(len(b)):\n",
    "        Ai = makeAi(A,i,b)\n",
    "        x.append(...)\n",
    "    return x"
   ]
  },
  {
   "cell_type": "markdown",
   "id": "8f20fc65",
   "metadata": {},
   "source": [
    "<font color=blue>**Example**. Test your ```cramersRule``` function on the following system of linear equations:\n",
    "\n",
    "$$ x_1 + 2x_2 = 3$$\n",
    "$$3x_1 + x_2 = -1$$"
   ]
  },
  {
   "cell_type": "code",
   "execution_count": 22,
   "id": "d82cd2d7",
   "metadata": {},
   "outputs": [
    {
     "data": {
      "text/plain": [
       "[-1.0, 2.0]"
      ]
     },
     "execution_count": 22,
     "metadata": {},
     "output_type": "execute_result"
    }
   ],
   "source": [
    "A=np.array([[1,2],[3,1]])\n",
    "b=np.array([3,-1])\n",
    "cramersRule(A,b)"
   ]
  },
  {
   "cell_type": "markdown",
   "id": "20b1e06d",
   "metadata": {},
   "source": [
    "<font color=blue> Verify the above answer by using the ```np.linalg.solve``` function:"
   ]
  },
  {
   "cell_type": "code",
   "execution_count": 23,
   "id": "2d40280d",
   "metadata": {},
   "outputs": [
    {
     "data": {
      "text/plain": [
       "array([-1.,  2.])"
      ]
     },
     "execution_count": 23,
     "metadata": {},
     "output_type": "execute_result"
    }
   ],
   "source": [
    "np.linalg.solve(A,b)"
   ]
  },
  {
   "cell_type": "markdown",
   "id": "c78156f5",
   "metadata": {},
   "source": [
    "<font color=blue> Test your ```cramersRule``` function on the following system of linear equations and verify the answer by using the ```np.linalg.solve``` function: \n",
    "\n",
    "$$ x_1 + 2x_2 +x_3 = 9$$\n",
    "$$ x_1 + 3x_2 - x_3 = 4$$\n",
    "$$ x_1 + 4x_2 - x_3 = 7$$"
   ]
  },
  {
   "cell_type": "code",
   "execution_count": null,
   "id": "5da31d64",
   "metadata": {},
   "outputs": [],
   "source": [
    "#Put your answer to the above question here"
   ]
  },
  {
   "cell_type": "markdown",
   "id": "3c0210b0",
   "metadata": {},
   "source": [
    "<font color=green>**Comment:** Cramer's rule is a $O(n!)$ algorithm and the Gauss elimination is $O(n^3)$. That means that it's easier for the computer to perform Gauss over Cramer's rule."
   ]
  },
  {
   "cell_type": "markdown",
   "id": "208b8782",
   "metadata": {},
   "source": [
    "## 2. Determinant and areas"
   ]
  },
  {
   "cell_type": "markdown",
   "id": "240e87d2",
   "metadata": {},
   "source": [
    "**Fact:** If $A$ is a $2\\times 2$ matrix, the area of the parallelogram determined by the columns of $A$ is $|\\det A|$. \n",
    "\n",
    "<img src=\"https://i.ibb.co/C70Wfqb/Determinant-Parallelogram.png\" width=300>"
   ]
  },
  {
   "cell_type": "markdown",
   "id": "cf5fb48a",
   "metadata": {},
   "source": [
    "<font color=blue>**Example**. Calculate the area of the parallelogram determined by the points\n",
    "$(-2,-2)$, $(0,3)$, $(4,-1)$ and $(6, 4)$, by first translating the parallelogram to one having the origin as a vertex, and then applying the formula above.\n",
    "\n",
    "<img src=\"https://i.ibb.co/ZV5XjJq/Untitled.png\" width=400>"
   ]
  },
  {
   "cell_type": "code",
   "execution_count": null,
   "id": "1e6de286",
   "metadata": {},
   "outputs": [],
   "source": [
    "#Put your answer here"
   ]
  },
  {
   "cell_type": "markdown",
   "id": "a36c5564",
   "metadata": {},
   "source": [
    "<font color=blue>**Example**.  Find a formula for the area of the triangle whose vertices are $(0,0)$, $(a_{11},a_{21})$, and $(a_{12},a_{22})$.\n",
    "\n",
    "**Hint**: Think about how the area of the triangle is related to the area of the parallelogram  with vertices $(0,0)$, $(a_{11},a_{21})$, $(a_{11}+a_{12},a_{21}+a_{22})$, and $(a_{12},a_{22})$."
   ]
  },
  {
   "cell_type": "code",
   "execution_count": null,
   "id": "63406897",
   "metadata": {},
   "outputs": [],
   "source": [
    "#Put your answer here"
   ]
  },
  {
   "cell_type": "markdown",
   "id": "5a8568e3",
   "metadata": {},
   "source": [
    "## 3. Determinant and volumes"
   ]
  },
  {
   "cell_type": "markdown",
   "id": "6590609a",
   "metadata": {},
   "source": [
    "Similarly, if $A$ is a $3\\times3$ matrix, its columns determine three vectors. The **volume of the parallelepiped** formed by these three vectors is equal to $|\\det(A)|$."
   ]
  },
  {
   "cell_type": "markdown",
   "id": "dfba4159",
   "metadata": {},
   "source": [
    "You can watch the following video to elaborate more on the determinants."
   ]
  },
  {
   "cell_type": "code",
   "execution_count": null,
   "id": "e0742884",
   "metadata": {},
   "outputs": [],
   "source": [
    "from IPython.display import YouTubeVideo\n",
    "YouTubeVideo(\"Ip3X9LOh2dk\",width=640,height=360, cc_load_policy=True)"
   ]
  },
  {
   "cell_type": "markdown",
   "id": "c1858079",
   "metadata": {},
   "source": [
    "For fun, we will recreate some of the video's visualizations in Python. \n",
    "It was a little tricky to get the aspect ratios correct but here is some code I managed to get it work. "
   ]
  },
  {
   "cell_type": "code",
   "execution_count": 24,
   "id": "7d55743b",
   "metadata": {},
   "outputs": [],
   "source": [
    "%matplotlib inline\n",
    "import matplotlib.pyplot as plt\n",
    "from mpl_toolkits.mplot3d import Axes3D\n",
    "from mpl_toolkits.mplot3d.art3d import Poly3DCollection, Line3DCollection\n",
    "import numpy as np\n",
    "import sympy as sym"
   ]
  },
  {
   "cell_type": "code",
   "execution_count": 25,
   "id": "5039321b",
   "metadata": {},
   "outputs": [],
   "source": [
    "# Lets define somme points that form a Unit Cube\n",
    "points = np.array([[0, 0, 0],\n",
    "                  [1, 0, 0 ],\n",
    "                  [1, 1, 0],\n",
    "                  [0, 1, 0],\n",
    "                  [0, 0, 1],\n",
    "                  [1, 0, 1 ],\n",
    "                  [1, 1, 1],\n",
    "                  [0, 1, 1]])\n",
    "\n",
    "points = np.matrix(points)"
   ]
  },
  {
   "cell_type": "code",
   "execution_count": 26,
   "id": "1cc559e1",
   "metadata": {},
   "outputs": [
    {
     "data": {
      "image/png": "[encoded data removed]",
      "text/plain": [
       "<Figure size 640x480 with 1 Axes>"
      ]
     },
     "metadata": {},
     "output_type": "display_data"
    }
   ],
   "source": [
    "#Here is some code to build cube from https://stackoverflow.com/questions/44881885/python-draw-3d-cube\n",
    "\n",
    "def plot3dcube(Z):\n",
    "    \n",
    "    if type(Z) == np.matrix:\n",
    "        Z = np.asarray(Z)\n",
    "\n",
    "    fig = plt.figure()\n",
    "    ax = fig.add_subplot(111, projection='3d')\n",
    "\n",
    "    r = [-1,1]\n",
    "\n",
    "    X, Y = np.meshgrid(r, r)\n",
    "    # plot vertices\n",
    "    ax.scatter3D(Z[:, 0], Z[:, 1], Z[:, 2])\n",
    "\n",
    "    # list of sides' polygons of figure\n",
    "    verts = [[Z[0],Z[1],Z[2],Z[3]],\n",
    "     [Z[4],Z[5],Z[6],Z[7]], \n",
    "     [Z[0],Z[1],Z[5],Z[4]], \n",
    "     [Z[2],Z[3],Z[7],Z[6]], \n",
    "     [Z[1],Z[2],Z[6],Z[5]],\n",
    "     [Z[4],Z[7],Z[3],Z[0]], \n",
    "     [Z[2],Z[3],Z[7],Z[6]]]\n",
    "\n",
    "    #alpha transparency was't working found fix here: \n",
    "    # https://stackoverflow.com/questions/23403293/3d-surface-not-transparent-inspite-of-setting-alpha\n",
    "    # plot sides\n",
    "    ax.add_collection3d(Poly3DCollection(verts, \n",
    "     facecolors=(0,0,1,0.25), linewidths=1, edgecolors='r'))\n",
    "    \n",
    "    ax.set_xlabel('X')\n",
    "    ax.set_ylabel('Y')\n",
    "    ax.set_zlabel('Z')\n",
    "    \n",
    "    ## Weird trick to get the axpect ratio to work.\n",
    "    ## From https://stackoverflow.com/questions/13685386/matplotlib-equal-unit-length-with-equal-aspect-ratio-z-axis-is-not-equal-to\n",
    "    mx = np.amax(Z, axis=0)\n",
    "    mn = np.amin(Z, axis=0)\n",
    "    max_range = mx-mn\n",
    "\n",
    "    # Create cubic bounding box to simulate equal aspect ratio\n",
    "    Xb = 0.5*max_range.max()*np.mgrid[-1:2:2,-1:2:2,-1:2:2][0].flatten() + 0.5*(max_range[0])\n",
    "    Yb = 0.5*max_range.max()*np.mgrid[-1:2:2,-1:2:2,-1:2:2][1].flatten() + 0.5*(max_range[1])\n",
    "    Zb = 0.5*max_range.max()*np.mgrid[-1:2:2,-1:2:2,-1:2:2][2].flatten() + 0.5*(max_range[2])\n",
    "    # Comment or uncomment following both lines to test the fake bounding box:\n",
    "    for xb, yb, zb in zip(Xb, Yb, Zb):\n",
    "        ax.plot([xb], [yb], [zb], 'w')\n",
    "\n",
    "    plt.show()\n",
    "    \n",
    "plot3dcube(points)"
   ]
  },
  {
   "cell_type": "markdown",
   "id": "18d50aca",
   "metadata": {},
   "source": [
    "**<font color='red'>DO THIS:</font>** Apply the following matrix to the unit cube and use the ```plot3dcube``` to show the resulting transformed points. "
   ]
  },
  {
   "cell_type": "code",
   "execution_count": 27,
   "id": "de6b3539",
   "metadata": {},
   "outputs": [
    {
     "data": {
      "image/png": "[encoded data removed]",
      "text/plain": [
       "<Figure size 640x480 with 1 Axes>"
      ]
     },
     "metadata": {},
     "output_type": "display_data"
    }
   ],
   "source": [
    "T = np.matrix([[1 , 0 ,  1],\n",
    "               [0.5 ,1 ,1.5],\n",
    "               [1 , 0 ,  1]])\n",
    "\n",
    "sym.Matrix(T)\n",
    "\n",
    "New_points = T @ points.transpose()\n",
    "\n",
    "plot3dcube(New_points.transpose())\n"
   ]
  },
  {
   "cell_type": "markdown",
   "id": "14251e92",
   "metadata": {},
   "source": [
    "<font color=blue>**Example**. Find the volume of the above shape "
   ]
  },
  {
   "cell_type": "code",
   "execution_count": null,
   "id": "c0a56f65",
   "metadata": {},
   "outputs": [],
   "source": [
    "np.linalg.det(T)"
   ]
  },
  {
   "cell_type": "markdown",
   "id": "2bece81c",
   "metadata": {},
   "source": [
    "<font color=blue>**Example**. Find the volume of the above shape that is produced, if we use the following matrix:"
   ]
  },
  {
   "cell_type": "code",
   "execution_count": 30,
   "id": "179ae251",
   "metadata": {},
   "outputs": [],
   "source": [
    "Q = np.matrix([[1 , 0 ,  0.5],\n",
    "               [0.5 ,1 ,1.5],\n",
    "               [1 , 0 ,  1]])\n"
   ]
  },
  {
   "cell_type": "code",
   "execution_count": null,
   "id": "1c7bb050",
   "metadata": {},
   "outputs": [],
   "source": [
    "np.linalg.det(Q)"
   ]
  },
  {
   "cell_type": "code",
   "execution_count": null,
   "id": "fc53d808",
   "metadata": {},
   "outputs": [],
   "source": []
  }
 ],
 "metadata": {
  "kernelspec": {
   "display_name": "Python 3 (ipykernel)",
   "language": "python",
   "name": "python3"
  },
  "language_info": {
   "codemirror_mode": {
    "name": "ipython",
    "version": 3
   },
   "file_extension": ".py",
   "mimetype": "text/x-python",
   "name": "python",
   "nbconvert_exporter": "python",
   "pygments_lexer": "ipython3",
   "version": "3.11.3"
  }
 },
 "nbformat": 4,
 "nbformat_minor": 5
}
