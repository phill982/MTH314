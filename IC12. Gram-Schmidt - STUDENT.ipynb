{
 "cells": [
  {
   "cell_type": "code",
   "execution_count": null,
   "id": "a612713c",
   "metadata": {},
   "outputs": [],
   "source": [
    "import numpy as np"
   ]
  },
  {
   "cell_type": "markdown",
   "id": "0d6568fa",
   "metadata": {},
   "source": [
    "Recall the projection of a vector v onto u. Complete the following:"
   ]
  },
  {
   "cell_type": "code",
   "execution_count": null,
   "id": "4715ce69",
   "metadata": {},
   "outputs": [],
   "source": [
    "def projection(v,u):\n",
    "    u=np.array(u)\n",
    "    v=\n",
    "    if len(u)==len(v):\n",
    "        return ...\n",
    "    else:\n",
    "        print('The vectors are not of equal dimension')"
   ]
  },
  {
   "cell_type": "markdown",
   "id": "84ffd7f7",
   "metadata": {},
   "source": [
    "---\n",
    "## Gram-Schmidt Orthogonalization Process\n",
    "\n",
    "<font color=blue>**Example:** Implement the Gram-Schmidt orthoganalization process to find an **orthogonal basis** of $\\mathbb{R}^3$ from the given set of linearly independent vectors $\\{b_1=[1,1,1],\\ b_2=[1,1,-2],\\ b_3=[0,2,-1]\\}$    "
   ]
  },
  {
   "cell_type": "code",
   "execution_count": null,
   "id": "24c9e657",
   "metadata": {},
   "outputs": [],
   "source": [
    "b1=[1,1,1]\n",
    "b2=\n",
    "b3=\n",
    "v1= np.array(b1)\n",
    "v2= \n",
    "v3= \n",
    "print(v1,v2,v3)"
   ]
  },
  {
   "cell_type": "markdown",
   "id": "970ff675",
   "metadata": {},
   "source": [
    "<font color=blue> Now make the basis you found above **orthonormal**."
   ]
  },
  {
   "cell_type": "code",
   "execution_count": null,
   "id": "4d81af19",
   "metadata": {},
   "outputs": [],
   "source": [
    "u1= \n",
    "u2= \n",
    "u3= "
   ]
  },
  {
   "cell_type": "markdown",
   "id": "53d87c3a",
   "metadata": {},
   "source": [
    "<font color=blue>**Example:** We will create a function that implements the Gram-Schmidt process:\\\n",
    "This function takes a $m \\times n$ Matrix $A$ with **linearly independent** columns as input and returns an $m \\times n$ Matrix $G$ with orthogonal column vectors. \n",
    "    \n",
    "The basic algorithm works as follows:\n",
    "\n",
    "- `AT = transpose(A)` (this process works with the columns of the matrix so it is easier to work with the transpose. Think about a list of lists, it is easy to get a row (a list)).  \n",
    "- Make a new empty list of the same size as ```AT``` and call it ```GT``` (G transpose)\n",
    "- Loop index ```i``` over all of the rows in AT (i.e. columns of A) \n",
    "\n",
    "    - ```GT[i] = AT[i]```\n",
    "    - Loop index ```j``` from 0 to ```i```\n",
    "        - ```GT[i] -= proj(AT[i], GT[j])```\n",
    "        \n",
    "        \n",
    "- ```G = transpose(GT)```\n",
    "\n",
    "Use the above definition as a template:"
   ]
  },
  {
   "cell_type": "code",
   "execution_count": null,
   "id": "f342697c",
   "metadata": {},
   "outputs": [],
   "source": [
    "def GramSchmidt(A):\n",
    "    A=np.array(A)\n",
    "    # Get the transpose of A\n",
    "    AT = \n",
    "\n",
    "    # Create a new empty matrix GT\n",
    "    GT = \n",
    "\n",
    "    # Loop over the rows of AT\n",
    "    \n",
    "\n",
    "        # Loop over the previous rows of GT\n",
    "        for j in range(i):\n",
    "           \n",
    "\n",
    "    # Transpose GT to get the orthogonal matrix G\n",
    "    G = \n",
    "\n",
    "    return G"
   ]
  },
  {
   "cell_type": "markdown",
   "id": "6961be3d",
   "metadata": {},
   "source": [
    "Here, we are going to test your function using the vectors:"
   ]
  },
  {
   "cell_type": "code",
   "execution_count": null,
   "id": "568905b4",
   "metadata": {},
   "outputs": [],
   "source": [
    "A2 = [[-4,-6],[3,5]]\n",
    "G2 = GramSchmidt(...)\n",
    "G2"
   ]
  },
  {
   "cell_type": "code",
   "execution_count": null,
   "id": "52f7568a",
   "metadata": {},
   "outputs": [],
   "source": [
    "B3 = [[1,1,1],[1,1,-2],[0,2,-1]]\n",
    "A3 = np.array(B3).T\n",
    "G3 = GramSchmidt(A3)\n",
    "G3"
   ]
  },
  {
   "cell_type": "code",
   "execution_count": null,
   "id": "02a2ab7b",
   "metadata": {},
   "outputs": [],
   "source": [
    "A4 = [[1,4,8],[2,0,1],[0,5,5],[3,8,6]]\n",
    "G4 = GramSchmidt(...)\n",
    "G4"
   ]
  },
  {
   "cell_type": "markdown",
   "id": "6ea736d7",
   "metadata": {},
   "source": [
    "Try also the following example. What goes wrong?"
   ]
  },
  {
   "cell_type": "code",
   "execution_count": null,
   "id": "2eb18663",
   "metadata": {},
   "outputs": [],
   "source": [
    "B5 = [[1,1,1], [2,2,2],[1,1,-2]]\n",
    "A5 = np.array(B5).T\n",
    "G5 = GramSchmidt(A5)\n",
    "G5"
   ]
  },
  {
   "cell_type": "markdown",
   "id": "fc8882ec",
   "metadata": {},
   "source": [
    "<font color=green>**Comment**. Notice that the the function you created works for linearly independent vectors. \n",
    "    \n",
    "Create a new function called ```generalGS``` that checks first if the given vectors are linearly independent. If they are not, it keeps the linearly independent and returns an orthogonal basis for the space they span. "
   ]
  },
  {
   "cell_type": "code",
   "execution_count": null,
   "id": "3327bb1b",
   "metadata": {},
   "outputs": [],
   "source": [
    "def generalGS(A):\n",
    "    # Get the transpose of A\n",
    "    \n",
    "    #Delete the zero elements of A\n",
    "    A=A[~np.all(A == 0, axis=1)]\n",
    "    \n",
    "    #Set GT to be the first element of A.\n",
    "    \n",
    "    \n",
    "    #Keep a counter of the number of elements in GT. Currently we have 1.\n",
    "    \n",
    "    \n",
    "    # Loop over the rows of AT\n",
    "    \n",
    "        # Loop over the previous rows of GT to calculate the projection.\n",
    "        \n",
    "            # Subtract the projection of AT[i] onto GT[j]\n",
    "            \n",
    "        #If the element we got is not zero append it to the matrix.\n",
    "        \n",
    "            \n",
    "          \n",
    "#     Transpose GT to get the orthogonal matrix G\n",
    "    G = GT.T\n",
    "\n",
    "    return G"
   ]
  },
  {
   "cell_type": "code",
   "execution_count": null,
   "id": "468fa332",
   "metadata": {},
   "outputs": [],
   "source": [
    "B5 = [[1,1,1], [2,2,2],[1,1,-2]]\n",
    "A5 = np.array(B5).T\n",
    "G5 = generalGS(...)\n",
    "G5"
   ]
  },
  {
   "cell_type": "code",
   "execution_count": null,
   "id": "e57992ea",
   "metadata": {},
   "outputs": [],
   "source": []
  }
 ],
 "metadata": {
  "kernelspec": {
   "display_name": "Python 3 (ipykernel)",
   "language": "python",
   "name": "python3"
  },
  "language_info": {
   "codemirror_mode": {
    "name": "ipython",
    "version": 3
   },
   "file_extension": ".py",
   "mimetype": "text/x-python",
   "name": "python",
   "nbconvert_exporter": "python",
   "pygments_lexer": "ipython3",
   "version": "3.9.12"
  }
 },
 "nbformat": 4,
 "nbformat_minor": 5
}
