{
 "cells": [
  {
   "cell_type": "markdown",
   "id": "1e724f9d",
   "metadata": {},
   "source": [
    "# Singular value decomposition"
   ]
  },
  {
   "cell_type": "markdown",
   "id": "deac63a9",
   "metadata": {},
   "source": [
    "## 1. Orthogonal matrices"
   ]
  },
  {
   "cell_type": "markdown",
   "id": "39137c44",
   "metadata": {},
   "source": [
    "\n",
    "**Definition:** A *square* matrix is **orthogonal** if $A^{-1}=A^\\top$.\n",
    "\n",
    "Let $A$ be a square matrix. The following three statements are equivalent.\n",
    "\n",
    "(a) $A$ is orthogonal. \n",
    "\n",
    "(b) The column vectors of $A$ form an orthonormal set. \n",
    "\n",
    "(c) The row vectors of $A$ form an orthonormal set.\n",
    "\n",
    "(d) $A^{-1}$ is orthogonal. \n",
    "\n",
    "(e) $A^\\top$ is orthogonal.\n",
    "\n",
    "**Fact:** If $A$ is an orthogonal matrix, then we have $|A|=\\pm 1$."
   ]
  },
  {
   "cell_type": "markdown",
   "id": "9cdbe2d4",
   "metadata": {},
   "source": [
    "<font color=blue>**Example:** Consider the vectors $u_1=\\begin{bmatrix}1 \\\\ 0 \\\\ 0\\end{bmatrix}, u_2=\\begin{bmatrix}  0\\\\ \\dfrac{1}{\\sqrt{2}}\\\\ \\dfrac{1}{\\sqrt{2}}\\end{bmatrix}, u_3=\\begin{bmatrix}  0\\\\ \\dfrac{1}{\\sqrt{2}}\\\\ -\\dfrac{1}{\\sqrt{2}}   \\end{bmatrix} $ that form a basis for $\\mathbb R^3$. "
   ]
  },
  {
   "cell_type": "markdown",
   "id": "fabe1900",
   "metadata": {},
   "source": [
    "<font color=blue> Show that the vectors $u_1$, $u_2$, and $u_3$ are linearly independent "
   ]
  },
  {
   "cell_type": "code",
   "execution_count": null,
   "id": "a05e01f7",
   "metadata": {},
   "outputs": [],
   "source": [
    "#Put your answer to the above here"
   ]
  },
  {
   "cell_type": "markdown",
   "id": "5a5cecba",
   "metadata": {},
   "source": [
    "<font color=blue>Show that $u_1$, $u_2$, and $u_3$ are orthogonal"
   ]
  },
  {
   "cell_type": "code",
   "execution_count": null,
   "id": "d8f9fdea",
   "metadata": {},
   "outputs": [],
   "source": [
    "#Put your answer to the above question here"
   ]
  },
  {
   "cell_type": "markdown",
   "id": "f854c84f",
   "metadata": {},
   "source": [
    "<font color=blue>Show that $u_1$, $u_2$, and $u_3$ are unit vectors"
   ]
  },
  {
   "cell_type": "code",
   "execution_count": null,
   "id": "74f55cc9",
   "metadata": {},
   "outputs": [],
   "source": [
    "#Put your answer to the above question here"
   ]
  },
  {
   "cell_type": "markdown",
   "id": "ba3872d1",
   "metadata": {},
   "source": [
    "<font color=blue>Express the vector $v = (7,5,-1)$ as a linear combination of the $u_1$, $u_2$, and $u_3$ basis vectors:"
   ]
  },
  {
   "cell_type": "code",
   "execution_count": null,
   "id": "d2b212e2",
   "metadata": {},
   "outputs": [],
   "source": [
    "# Put your answer here"
   ]
  },
  {
   "cell_type": "markdown",
   "id": "72aeca2a",
   "metadata": {},
   "source": [
    "---\n",
    "<font color=blue>**Example:** Caluclate the $P$ matrix for the following matrix $A$ such that $A=PDP^{-1}$"
   ]
  },
  {
   "cell_type": "code",
   "execution_count": null,
   "id": "b036753c",
   "metadata": {
    "scrolled": true
   },
   "outputs": [],
   "source": [
    "A = np.matrix([[6,-2,-1],[-2,6,-1], [-1,-1,5]])\n",
    "sym.Matrix(A)"
   ]
  },
  {
   "cell_type": "markdown",
   "id": "154a6f00",
   "metadata": {},
   "source": [
    "<font color=red>**DO THIS:**</font> Check the columns of $P$. Are they orthogonal?"
   ]
  },
  {
   "cell_type": "code",
   "execution_count": null,
   "id": "02d8fb98",
   "metadata": {},
   "outputs": [],
   "source": [
    "# Put your answer here"
   ]
  },
  {
   "cell_type": "markdown",
   "id": "ae4bdea6",
   "metadata": {},
   "source": [
    "<font color=red>**DO THIS:**</font> Show that in this special case (Where $A$ is symmetric) $A=PDP^\\top$ with a special $P$."
   ]
  },
  {
   "cell_type": "code",
   "execution_count": null,
   "id": "796904cb",
   "metadata": {},
   "outputs": [],
   "source": [
    "# Put your answer here"
   ]
  },
  {
   "cell_type": "markdown",
   "id": "177d0343",
   "metadata": {},
   "source": [
    "<font color=red>**QUESTION:**</font> What do you need to do to invert an arbitrary $n \\times n$ matrix?"
   ]
  },
  {
   "cell_type": "code",
   "execution_count": null,
   "id": "a6d7402e",
   "metadata": {},
   "outputs": [],
   "source": [
    "# Put your answer here"
   ]
  },
  {
   "cell_type": "markdown",
   "id": "caa12c59",
   "metadata": {},
   "source": [
    "<font color=red>**QUESTION:**</font> What do you need to do to invert a $n \\times n$ **orthonormal** matrix?"
   ]
  },
  {
   "cell_type": "code",
   "execution_count": null,
   "id": "0dd25cbf",
   "metadata": {},
   "outputs": [],
   "source": []
  },
  {
   "cell_type": "markdown",
   "id": "eeb0e100",
   "metadata": {},
   "source": [
    "---\n",
    "<font color=blue>**Example:** Find all the values of $\\alpha$, if possible, such that the matrix $\\begin{bmatrix}\\dfrac{1}{2} & \\dfrac{1}{\\sqrt{2}}\\\\ \\alpha& -\\dfrac{1}{\\sqrt{2}} \\end{bmatrix}$ is orthogonal."
   ]
  },
  {
   "cell_type": "code",
   "execution_count": null,
   "id": "0663e9c9",
   "metadata": {},
   "outputs": [],
   "source": [
    "# Put your answer here"
   ]
  },
  {
   "cell_type": "markdown",
   "id": "c034c644",
   "metadata": {},
   "source": [
    "<font color=blue>**Example:** Create a function that accepts a matrix either as a list of lists of numpy array and:\\\n",
    "(a) Checks if the matrix is square.\\\n",
    "(b) Checks if the matrix is orthogonal."
   ]
  },
  {
   "cell_type": "code",
   "execution_count": null,
   "id": "f3a06b0c",
   "metadata": {},
   "outputs": [],
   "source": [
    "# Put your answer here\n",
    "def orthogonal_matrix(M):\n",
    "    M=np.array(M)\n",
    "    if M.shape[0]!=...:\n",
    "        print(\"The matrix is not square hence not orthogonal.\")\n",
    "    else:\n",
    "        A=M.T@...\n",
    "        if np.allclose(A,...):\n",
    "            print(\"The matrix is square and orthogonal.\")\n",
    "        else:\n",
    "            print(\"The matrix is square but not orthogonal.\")"
   ]
  },
  {
   "cell_type": "markdown",
   "id": "ac45a03e",
   "metadata": {},
   "source": [
    "<font color=blue>**Example:** Python has built-in functions to create orthogonal matrices. Use the following piece of code to create an orthogonal matrix and check that the matrix you got is indeed orthogonal.\n",
    "    \n",
    "```bash\n",
    "import numpy as np\n",
    "from scipy.stats import ortho_group\n",
    "\n",
    "A = ortho_group.rvs(dim=5)\n",
    "```"
   ]
  },
  {
   "cell_type": "code",
   "execution_count": null,
   "id": "1934adcd",
   "metadata": {
    "scrolled": true
   },
   "outputs": [],
   "source": [
    "# Put your answer here\n",
    "import numpy as np\n",
    "from scipy.stats import ortho_group\n",
    "A = ortho_group.rvs(dim=5)\n"
   ]
  },
  {
   "cell_type": "markdown",
   "id": "132ce15a",
   "metadata": {},
   "source": [
    "---\n",
    "## 2. Singular Value Decomposition (SVD) \n",
    "\n",
    "SVD is not restricted to diagonalizable matrices, for example it can be applied to square non-diagonalizable matrices, as well as to non-square matrices.\n",
    "\n",
    "Now consider the non-square $n \\times m$ matrix $A$"
   ]
  },
  {
   "cell_type": "code",
   "execution_count": null,
   "id": "fb2ac8f9",
   "metadata": {},
   "outputs": [],
   "source": [
    "import sympy as sym\n",
    "A = np.matrix([[4, 11, 14], [8, 7, -2]])\n",
    "sym.Matrix(A)"
   ]
  },
  {
   "cell_type": "markdown",
   "id": "748f5768",
   "metadata": {},
   "source": [
    "The following code calculates $A^\\top A=VDV^\\top$:"
   ]
  },
  {
   "cell_type": "code",
   "execution_count": null,
   "id": "23bfbcb6",
   "metadata": {},
   "outputs": [],
   "source": [
    "sym.Matrix(A.T*A)"
   ]
  },
  {
   "cell_type": "code",
   "execution_count": null,
   "id": "ea651cb0",
   "metadata": {},
   "outputs": [],
   "source": [
    "eigvals, eigvecs = np.linalg.eig(A.T*A)\n",
    "idx = eigvals.argsort()[::-1]   \n",
    "eigvals = eigvals[idx]\n",
    "eigvecs = eigvecs[:,idx]\n",
    "\n",
    "V = \n",
    "sym.Matrix(V)"
   ]
  },
  {
   "cell_type": "markdown",
   "id": "d3ffbc22",
   "metadata": {},
   "source": [
    "<font color=red>**DO THIS:**</font>  Calculate $AA^\\top=UDU^\\top$:"
   ]
  },
  {
   "cell_type": "code",
   "execution_count": null,
   "id": "7fde87da",
   "metadata": {},
   "outputs": [],
   "source": [
    "#Put your answer here"
   ]
  },
  {
   "cell_type": "markdown",
   "id": "7cca7806",
   "metadata": {},
   "source": [
    "The following code calculates $\\Sigma$ by putting the singular values on the diagonal of an $n \\times m$ zero matrix: "
   ]
  },
  {
   "cell_type": "code",
   "execution_count": null,
   "id": "5d6a7949",
   "metadata": {
    "scrolled": true
   },
   "outputs": [],
   "source": [
    "E = np.zeros(A.shape)\n",
    "\n",
    "for i in range(len(...)):\n",
    "    E[i,i] = np.sqrt(...[i])\n",
    "    \n",
    "sym.Matrix(E)"
   ]
  },
  {
   "cell_type": "markdown",
   "id": "a831584a",
   "metadata": {},
   "source": [
    "<font color=red>**DO THIS:**</font>  Verify that $A=U \\Sigma V^\\top$ or $A=-U\\Sigma V^\\top$. \n",
    "\n",
    "**Note:** $\\sigma_i^2=\\lambda_i$ is an eigenvalue of $A^TA$ and also $AA^T$. When we put the singular values in descending order, $\\sigma_1\\geq \\sigma_2 \\geq \\dots \\sigma_r>0$, they are uniquely determined."
   ]
  },
  {
   "cell_type": "code",
   "execution_count": null,
   "id": "d1ed416a",
   "metadata": {},
   "outputs": [],
   "source": [
    "#Put your answer here"
   ]
  },
  {
   "cell_type": "markdown",
   "id": "96f998be",
   "metadata": {},
   "source": [
    "Compare the above with the result coming from the built-in function ```np.linalg.svd()```."
   ]
  },
  {
   "cell_type": "code",
   "execution_count": null,
   "id": "707023cd",
   "metadata": {},
   "outputs": [],
   "source": [
    "SVD = np.linalg.svd(A)"
   ]
  },
  {
   "cell_type": "markdown",
   "id": "beebfde3",
   "metadata": {},
   "source": [
    "----\n",
    "\n",
    "### Using SVD for image compression\n",
    "\n",
    "<img src=\"https://i.ibb.co/kVnpwf9/sparty.jpg\" width=\"50%\">\n",
    "\n",
    "\n",
    "In this IC, you will be working with the above image. If you are running this notebook on your local machine, please download `sparty.jpg` from https://i.ibb.co/kVnpwf9/sparty.jpg and save it in the same folder as this notebook. If you are running this notebook on JupyterHub, you will need to first download `sparty.jpg` from the link, and then upload it to JupyterHub in the same folder as this notebook. \n",
    "\n",
    "After saving `sparty.jpg` in the same folder as this notebook, the following code will read the image file, discard the red and blue channels and pulls out the 'green' component of the image in a `numpy` matrix called `A`. We will treat this numpy array as a grayscale image. "
   ]
  },
  {
   "cell_type": "code",
   "execution_count": null,
   "id": "e781e5e1",
   "metadata": {},
   "outputs": [],
   "source": [
    "# Here are some libraries you may need to use\n",
    "%matplotlib inline\n",
    "import matplotlib.pylab as plt\n",
    "import matplotlib.image as img\n",
    "import numpy as np\n",
    "import sympy as sym\n",
    "import math\n",
    "sym.init_printing()"
   ]
  },
  {
   "cell_type": "code",
   "execution_count": null,
   "id": "6d738432",
   "metadata": {},
   "outputs": [],
   "source": [
    "# load image as pixel array\n",
    "A_RGB = img.imread('sparty.jpg')\n",
    "print(\"Dimensions of image array:\",A_RGB.shape)\n",
    "plt.imshow(A_RGB);"
   ]
  },
  {
   "cell_type": "code",
   "execution_count": null,
   "id": "2876b952",
   "metadata": {
    "scrolled": true
   },
   "outputs": [],
   "source": [
    "A = np.matrix(A_RGB[:,:,1].astype(float))\n",
    "print(\"Dimensions of green layer:\",A.shape)\n",
    "plt.imshow(A, cmap='gray');"
   ]
  },
  {
   "cell_type": "markdown",
   "id": "b856679e",
   "metadata": {},
   "source": [
    "To perform image compression, we will need to compute the SVD of the matrix `A`, which is a $1365 \\times 2048$ matrix. Hopefully, your computer is fast enough to do this in a couple seconds. But if it isn't, uncomment out these lines of code and run the cell to make a smaller version of this image."
   ]
  },
  {
   "cell_type": "code",
   "execution_count": null,
   "id": "a0a3a743",
   "metadata": {},
   "outputs": [],
   "source": [
    "#ONLY UNCOMMENT THESE LINES OF CODE AND RUN THIS CELL IF THE SVD STEP BELOW TAKES TOO LONG\n",
    "\n",
    "#from PIL import Image\n",
    "#A = np.array(Image.fromarray(A).resize((204,136)))\n",
    "#print(\"Dimensions of green layer:\",A.shape)\n",
    "#plt.imshow(A, cmap='gray');\n",
    "\n",
    "#ONLY UNCOMMENT THESE LINES OF CODE AND RUN THIS CELL IF THE SVD STEP BELOW TAKES TOO LONG"
   ]
  },
  {
   "cell_type": "markdown",
   "id": "64902685",
   "metadata": {},
   "source": [
    "### Step 1: Singular Value Decomposition\n",
    "The following code does a singular value decomposition (SVD) of the image matrix $A$. \n",
    "\n",
    "$$A = U\\Sigma V^\\top$$\n",
    "\n",
    "**Note:** The following cell may take a while to run.......hopefully you should only need to do this once..."
   ]
  },
  {
   "cell_type": "code",
   "execution_count": null,
   "id": "c0fa7cfb",
   "metadata": {},
   "outputs": [],
   "source": [
    "U, e, Vt = np.linalg.svd(A)\n",
    "U = np.matrix(U)\n",
    "Vt = np.matrix(Vt)\n",
    "print(\"Dimensions of matrix with left singular vectors:\",U.shape)\n",
    "print(\"Dimensions of matrix with right singular vectors:\",Vt.shape)\n",
    "print(\"Dimensions of array with singular values:\",e.shape)"
   ]
  },
  {
   "cell_type": "markdown",
   "id": "bf449ed7",
   "metadata": {},
   "source": [
    "**<font color=red>QUESTION</font>** Remember that the numpy ```svd``` function returns an $m \\times m$ matrix $U$, a vector of singular values $[\\sigma_1,\\ldots,\\sigma_{\\min(m,n)}]$ and an $n \\times n$ matrix $V^T$. "
   ]
  },
  {
   "cell_type": "markdown",
   "id": "50d1f8dd",
   "metadata": {},
   "source": [
    "First, the code below calculates the matrix $\\Sigma$, which we will call $S$."
   ]
  },
  {
   "cell_type": "code",
   "execution_count": null,
   "id": "87e622dd",
   "metadata": {},
   "outputs": [],
   "source": [
    "# Sigma matrix should be the same size as the original A matrix with mostly zero values\n",
    "S = np.zeros(A.shape)\n",
    "\n",
    "# The upper left diagonal of the Sigma matrix should be the singular values\n",
    "S[:len(e), :len(e)] = np.diag(e)"
   ]
  },
  {
   "cell_type": "markdown",
   "id": "57172cb0",
   "metadata": {},
   "source": [
    " Verify the success of the decomposition by regenerating $A$ from the calculated components and comparing the regenerated $A$ to the original image $A$ using the numpy ```allclose``` function."
   ]
  },
  {
   "cell_type": "markdown",
   "id": "70672862",
   "metadata": {},
   "source": [
    "**<font color=red>Question:</font>** We use the `np.allclose` function instead of a simple python equality (==) to account for small errors in calculation. Where do these errors come from?  "
   ]
  },
  {
   "cell_type": "code",
   "execution_count": null,
   "id": "2f896197",
   "metadata": {},
   "outputs": [],
   "source": []
  },
  {
   "cell_type": "markdown",
   "id": "caf4f39c",
   "metadata": {},
   "source": [
    "### Step 2: Removing small singular values."
   ]
  },
  {
   "cell_type": "markdown",
   "id": "2f7481a8",
   "metadata": {},
   "source": [
    "We are now going to make a new image but only keep the $r$ biggest singular values while setting all of the rest to zero. First we define a new vector (```s```) consisting of the first $r=10$ singular values:"
   ]
  },
  {
   "cell_type": "code",
   "execution_count": null,
   "id": "0206c75d",
   "metadata": {
    "scrolled": true
   },
   "outputs": [],
   "source": [
    "#Put your answer here"
   ]
  },
  {
   "cell_type": "markdown",
   "id": "334aa318",
   "metadata": {},
   "source": [
    "Now let's remake the $\\Sigma$ matrix using $s$. We will call this new $\\Sigma$ matrix ```S``` (capital ```S```). We will use ```S``` to generate a new image and show the rsults:"
   ]
  },
  {
   "cell_type": "code",
   "execution_count": null,
   "id": "94f4231a",
   "metadata": {
    "scrolled": true
   },
   "outputs": [],
   "source": [
    "# Sigma matrix should be the same size as the original A matrix with mostly zero values\n",
    "S = np.zeros(A.shape)\n",
    "\n",
    "# The upper left diagonal of the Sigma matrix should be the singular values\n",
    "S[:len(s), :len(s)] = np.diag(s)\n",
    "\n",
    "#new image\n",
    "A_new = U*S*Vt\n",
    "\n",
    "plt.imshow(A_new, cmap='gray')"
   ]
  },
  {
   "cell_type": "markdown",
   "id": "756e84ca",
   "metadata": {},
   "source": [
    "We can plot the difference between the original image and the image generated with only $r = 10$ singular values. This represents the error in the image at each pixel."
   ]
  },
  {
   "cell_type": "code",
   "execution_count": null,
   "id": "9f41e3bd",
   "metadata": {
    "scrolled": false
   },
   "outputs": [],
   "source": [
    "# Plot difference\n",
    "plt.imshow(A-A_new)"
   ]
  },
  {
   "cell_type": "markdown",
   "id": "c8a3bab1",
   "metadata": {},
   "source": [
    "The following calculates the relative mean squared error for the image. "
   ]
  },
  {
   "cell_type": "code",
   "execution_count": null,
   "id": "9c7ea8ff",
   "metadata": {},
   "outputs": [],
   "source": [
    "rel_mse = np.sum(np.array(A-A_new)**2)/np.sum(np.array(A)**2)\n",
    "rel_mse"
   ]
  },
  {
   "cell_type": "markdown",
   "id": "0470c21d",
   "metadata": {},
   "source": [
    "Although $10$ values seems like a good number, you can really see some distortion in the second image.  We want to find a better number for $r$. The following code makes a plot of the singular values to get an idea of the scale. Note that this plot has a $y$-axis that is logarithmic. "
   ]
  },
  {
   "cell_type": "code",
   "execution_count": null,
   "id": "84fcc1b7",
   "metadata": {
    "scrolled": true
   },
   "outputs": [],
   "source": [
    "plt.plot(e)\n",
    "plt.gca().set_yscale('log')\n",
    "plt.xlabel('index')\n",
    "plt.ylabel('singular value')\n"
   ]
  },
  {
   "cell_type": "markdown",
   "id": "3740188b",
   "metadata": {},
   "source": [
    "**<font color=red>Question:</font>** Next, Modify the code in **Step 2** to pick a different value for $r$ such that it is hard to tell the difference between the new image and the original image. Try to make this $r$ as small as possible. Describe The procedure you used to come up with a new value for $r$.  "
   ]
  },
  {
   "cell_type": "code",
   "execution_count": null,
   "id": "fabc0ccc",
   "metadata": {},
   "outputs": [],
   "source": []
  },
  {
   "cell_type": "markdown",
   "id": "d9686fdc",
   "metadata": {},
   "source": [
    "### Step 3: Compression\n",
    "\n",
    "The reason we set a bunch of singular values to zero is to save memory.  However, so far we haven't saved anything.  We can make an estimate of storage of the original image $A$ by multiplying the number of the rows by the number of columns (i.e this is how many numbers we need to store to recreate the image):"
   ]
  },
  {
   "cell_type": "code",
   "execution_count": null,
   "id": "455f03d8",
   "metadata": {},
   "outputs": [],
   "source": [
    "A.shape[0]*A.shape[1]"
   ]
  },
  {
   "cell_type": "markdown",
   "id": "d7daf4bf",
   "metadata": {},
   "source": [
    "Our new SVD representation uses the matrices `U`, `V`, and the vector `s`, which requires even more space to store the same information!"
   ]
  },
  {
   "cell_type": "code",
   "execution_count": null,
   "id": "3d961c30",
   "metadata": {
    "scrolled": false
   },
   "outputs": [],
   "source": [
    "U.shape[0]*U.shape[1] + len(s) + Vt.shape[0] * Vt.shape[1]"
   ]
  },
  {
   "cell_type": "markdown",
   "id": "eb0d379f",
   "metadata": {},
   "source": [
    "However, the trick is that singular values of zero  don't add anything to the calculation and the zeros propagate though the math.  We can now make a new set of matrices, ```U_hat```,  ```S_hat``` and ```Vt_hat``` which are much smaller than ```U```, ```s```, ```Vt``` because we can remove the rows and columns that turn out to be zero in the math. "
   ]
  },
  {
   "cell_type": "code",
   "execution_count": null,
   "id": "733a0674",
   "metadata": {},
   "outputs": [],
   "source": [
    "U_hat = np.matrix(U[:,:len(s)])\n",
    "S_hat = np.diag(s)\n",
    "Vt_hat = np.matrix(Vt[:len(s),:])\n",
    "\n",
    "#Compressed image\n",
    "A_compressed = U_hat*S_hat*Vt_hat\n",
    "print(np.allclose(A_compressed,A_new)) # This is true if A_compressed = U_hat*S_hat*Vt_hat is close to A_new\n",
    "plt.imshow(A_compressed, cmap='gray')"
   ]
  },
  {
   "cell_type": "markdown",
   "id": "ae3ea894",
   "metadata": {},
   "source": [
    "**<font color=red>Question:</font>** How much space is required to store ```U_hat```, ```s```, and ```Vt_hat```? "
   ]
  },
  {
   "cell_type": "code",
   "execution_count": null,
   "id": "9ff519d1",
   "metadata": {},
   "outputs": [],
   "source": [
    "## Put your answer here"
   ]
  },
  {
   "cell_type": "markdown",
   "id": "6afebe8d",
   "metadata": {},
   "source": [
    "**<font color=red>Question:</font>** Calculate the compression ratio, i.e. the amount of space required to store the original image divided by the amount of space required to store the SVD representation."
   ]
  },
  {
   "cell_type": "code",
   "execution_count": null,
   "id": "bef32cac",
   "metadata": {},
   "outputs": [],
   "source": [
    "## Put your answer here"
   ]
  },
  {
   "cell_type": "markdown",
   "id": "cc15c653",
   "metadata": {},
   "source": [
    "**<font color=red>Question:</font>** If everything from above is correct, then we demonstrated that converting an image to a reduced SVD format will save in memory storage. Describe at least two disadvantages of using SVD for image compression."
   ]
  },
  {
   "cell_type": "code",
   "execution_count": null,
   "id": "d9b5fb53",
   "metadata": {},
   "outputs": [],
   "source": []
  }
 ],
 "metadata": {
  "kernelspec": {
   "display_name": "Python 3 (ipykernel)",
   "language": "python",
   "name": "python3"
  },
  "language_info": {
   "codemirror_mode": {
    "name": "ipython",
    "version": 3
   },
   "file_extension": ".py",
   "mimetype": "text/x-python",
   "name": "python",
   "nbconvert_exporter": "python",
   "pygments_lexer": "ipython3",
   "version": "3.11.3"
  }
 },
 "nbformat": 4,
 "nbformat_minor": 5
}
