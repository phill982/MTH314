{
 "cells": [
  {
   "cell_type": "markdown",
   "id": "8e075caa",
   "metadata": {},
   "source": [
    "# Linear systems I"
   ]
  },
  {
   "cell_type": "markdown",
   "id": "c3e131df",
   "metadata": {},
   "source": [
    "<a name=\"Visualizing_the_problem\"></a>\n",
    "## 1.  Visualizing the problem\n",
    "We can visualize the solution to a system of linear equations in a graph. "
   ]
  },
  {
   "cell_type": "markdown",
   "id": "1f9faa55",
   "metadata": {},
   "source": [
    "### Matplotlib \n",
    "Matplotlib is one of the most widely used libraries in python. It is used from making graphs to pie charts. We will use it here mostly for plotting linear functions. It can be used of course to plot any function. First we need to import it:"
   ]
  },
  {
   "cell_type": "code",
   "execution_count": null,
   "id": "9769bfb5",
   "metadata": {},
   "outputs": [],
   "source": [
    "%matplotlib inline\n",
    "import matplotlib.pylab as plt\n",
    "import numpy as np"
   ]
  },
  {
   "cell_type": "markdown",
   "id": "a31b94e0",
   "metadata": {},
   "source": [
    "<font color='blue'> **Example**: Is the following system consistent? If yes, how many solutions does it have?\n",
    "    $$b+c=30$$\n",
    "    $$25b+20c=690$$ </font>\n",
    "    \n",
    "To answer that, let's look at the graph of the system using the following code:"
   ]
  },
  {
   "cell_type": "code",
   "execution_count": null,
   "id": "261dd95d",
   "metadata": {},
   "outputs": [],
   "source": [
    "c = np.linspace(0,20)\n",
    "\n",
    "b1 = 30-c\n",
    "b2 = "
   ]
  },
  {
   "cell_type": "code",
   "execution_count": null,
   "id": "3b208af0",
   "metadata": {},
   "outputs": [],
   "source": [
    "plt.plot(c,b1)\n",
    "plt.plot(c,b2)\n",
    "plt.xlabel('c ')\n",
    "plt.ylabel('b', rotation=0)"
   ]
  },
  {
   "cell_type": "markdown",
   "id": "33f665f0",
   "metadata": {},
   "source": [
    "\n",
    "<font color='blue'> **Example**: Is the following system consistent? If yes, how many solutions does it have?\n",
    "$$-2x+y=3$$\n",
    "$$-4x+2y=2$$\n",
    "Complete the following code to get your answer.\n"
   ]
  },
  {
   "cell_type": "code",
   "execution_count": null,
   "id": "35d99cd4",
   "metadata": {},
   "outputs": [],
   "source": [
    "x = np.linspace(-10,10)\n",
    "y1 = \n",
    "y2 = \n",
    "plt.plot(...)\n",
    "plt.plot(...);\n",
    "plt.xlabel('x ')\n",
    "plt.ylabel('y', rotation=0)"
   ]
  },
  {
   "cell_type": "markdown",
   "id": "88d6a0a9",
   "metadata": {},
   "source": [
    "<font color='blue'> **Example**: Is the following system consistent? If yes, how many solutions does it have?\n",
    "$$4x-2y=6$$\n",
    "$$6x-3y=9$$\n",
    "Complete the following code to get your answer."
   ]
  },
  {
   "cell_type": "code",
   "execution_count": null,
   "id": "91058543",
   "metadata": {},
   "outputs": [],
   "source": [
    "x = np.linspace(-10,10)\n",
    "y1 = \n",
    "y2 = \n",
    "plt.plot(...)\n",
    "plt.plot(...)"
   ]
  },
  {
   "cell_type": "markdown",
   "id": "56e62e64",
   "metadata": {},
   "source": [
    "<font color='blue'> **Example**: Solve the following systems **by hand**:"
   ]
  },
  {
   "cell_type": "markdown",
   "id": "c77298a0",
   "metadata": {},
   "source": [
    "<font color='blue'>  $\\left\\{\n",
    "\\begin{array}{ll}\n",
    "     x_1- 3x_2 + 7x_3 = 0\\\\\n",
    "     -2 x_1 + x_2-4 x_3 =0\\\\\n",
    "     x_1+ 2x_2+9 x_3=0\\\\\n",
    "\\end{array} \n",
    "\\right.\\quad$"
   ]
  },
  {
   "cell_type": "code",
   "execution_count": null,
   "id": "ab24c05b",
   "metadata": {},
   "outputs": [],
   "source": []
  },
  {
   "cell_type": "markdown",
   "id": "31219014",
   "metadata": {},
   "source": [
    "<font color='blue'>  $\\left\\{\n",
    "\\begin{array}{ll}\n",
    "     5x_1+8x_2 + 7x_3 = 2\\\\\n",
    "      x_2- x_3 =-3\\\\\n",
    "     x_1+ 3x_2=2\\\\\n",
    "\\end{array} \n",
    "\\right.\\quad$"
   ]
  },
  {
   "cell_type": "code",
   "execution_count": null,
   "id": "26ff62f5",
   "metadata": {},
   "outputs": [],
   "source": []
  },
  {
   "cell_type": "markdown",
   "id": "98e3e89a",
   "metadata": {},
   "source": [
    "<font color='blue'>  $\\left\\{\n",
    "\\begin{array}{ll}\n",
    "     x_1+4x_2 -5x_3 = 0\\\\\n",
    "     2 x_1 - x_2+8 x_3 =9\\\\\n",
    "\\end{array} \n",
    "\\right.\\quad$"
   ]
  },
  {
   "cell_type": "code",
   "execution_count": null,
   "id": "6a6ac810",
   "metadata": {},
   "outputs": [],
   "source": []
  },
  {
   "cell_type": "markdown",
   "id": "5cc8ddb6",
   "metadata": {},
   "source": [
    "<font color='blue'> $\\left\\{\n",
    "\\begin{array}{ll}\n",
    "     3x_1+ 5x_2 -4x_3+ 3x_4 = 2\\\\\n",
    "     -3 x_1 -2x_2+4 x_3-3 x_4 =2\\\\\n",
    "     6x_1+ x_2-8 x_3+6 x_4 =-8\\\\\n",
    "\\end{array} \n",
    "\\right.\\quad$"
   ]
  },
  {
   "cell_type": "code",
   "execution_count": null,
   "id": "8d410113",
   "metadata": {},
   "outputs": [],
   "source": []
  }
 ],
 "metadata": {
  "kernelspec": {
   "display_name": "Python 3 (ipykernel)",
   "language": "python",
   "name": "python3"
  },
  "language_info": {
   "codemirror_mode": {
    "name": "ipython",
    "version": 3
   },
   "file_extension": ".py",
   "mimetype": "text/x-python",
   "name": "python",
   "nbconvert_exporter": "python",
   "pygments_lexer": "ipython3",
   "version": "3.9.12"
  }
 },
 "nbformat": 4,
 "nbformat_minor": 5
}
