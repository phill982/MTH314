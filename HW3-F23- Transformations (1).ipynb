{
 "cells": [
  {
   "cell_type": "markdown",
   "metadata": {},
   "source": [
    "**Deadline:** In order to successfully complete this assignment, you must follow all the instructions in this notebook and upload your edited ipynb file to [D2L](http://d2l.msu.edu/) with your answers on or before **Friday, October 27 at 11:59pm ET**."
   ]
  },
  {
   "cell_type": "markdown",
   "metadata": {},
   "source": [
    "# Homework 3: "
   ]
  },
  {
   "cell_type": "markdown",
   "metadata": {},
   "source": [
    "\n",
    "\n",
    "These problems are intended to give students exposure to the style of some of the questions asked on quizzes and help you practice. Please finish the entire Jupyter Notebook and turn in your edited file on D2L.\n",
    "\n",
    "You may collaborate with other students in this course. However, you may only share ideas with each other, not code or answers.\n",
    "\n",
    "**Also, note that your section's TA will run your code cells in order (top to bottom) in order to grade your homework submission. So please make sure your code cells work as you intend when you run them in order.**\n",
    "\n",
    "**BIG HINT:** Read the entire homework before starting.  "
   ]
  },
  {
   "cell_type": "code",
   "execution_count": 1,
   "metadata": {},
   "outputs": [],
   "source": [
    "%matplotlib inline\n",
    "import matplotlib.pylab as plt\n",
    "\n",
    "import numpy as np\n",
    "import sympy as sym"
   ]
  },
  {
   "cell_type": "markdown",
   "metadata": {},
   "source": [
    "---"
   ]
  },
  {
   "cell_type": "markdown",
   "metadata": {},
   "source": [
    "# 1.  (7 pts) Linear Transform"
   ]
  },
  {
   "cell_type": "markdown",
   "metadata": {},
   "source": [
    "Let us consider a square with its vertices located at  $(-3,0)$, $(-3,3)$, $(0,3)$ and $(0,0)$ and find the transformation that maps it onto a diamond with vertices at $(1,0)$, $(0,1)$, $(1,2)$ and $(2,1)$. Run the following code to see a picture:"
   ]
  },
  {
   "cell_type": "code",
   "execution_count": 2,
   "metadata": {},
   "outputs": [
    {
     "data": {
      "text/plain": [
       "(-5.75, 5.75, -3.0, 6.0)"
      ]
     },
     "execution_count": 2,
     "metadata": {},
     "output_type": "execute_result"
    },
    {
     "data": {
      "image/png": "[encoded data removed]",
      "text/plain": [
       "<Figure size 432x288 with 1 Axes>"
      ]
     },
     "metadata": {
      "needs_background": "light"
     },
     "output_type": "display_data"
    }
   ],
   "source": [
    "# original points \n",
    "x  = [ -3, -3, 0, 0, -3 ]\n",
    "y  = [ 0, 3, 3, 0, 0 ]\n",
    "# transformed points\n",
    "xp = [ 0, 1, 2, 1, 0 ]\n",
    "yp = [ 1, 2, 1, 0, 1 ]\n",
    "# plot\n",
    "plt.plot( x, y, \"*-\" )    #square\n",
    "plt.plot( xp, yp, \"*-\" )  #diamond\n",
    "plt.axis( [-5.75,5.75,-3,6])"
   ]
  },
  {
   "cell_type": "markdown",
   "metadata": {},
   "source": [
    "**<font color=red>QUESTION 1.1:</font>** <font color=blue> We will find a transformation $T$ that maps the square onto the diamond. The transformation would look like $T(\\mathbf{x})=M\\mathbf{x}+\\mathbf{b}$, or, in other words\n",
    "$$\n",
    "T\\left(\\begin{bmatrix}x\\\\y\\end{bmatrix}\\right)= \\begin{bmatrix}m_{11}&m_{12}\\\\m_{21}&m_{22}\\end{bmatrix}\\begin{bmatrix}x\\\\y\\end{bmatrix} + \\begin{bmatrix}b_1\\\\b_2\\end{bmatrix} $$\n",
    "    \n",
    "<font color=blue> We need at least three points to determine the matrix $M$ and the vector $\\mathbf{b}$. So, suppose that $T$ maps \n",
    "- <font color=blue> $(0,0)$ to $(0,1)$, \n",
    "- <font color=blue> $(-3,0)$ to $(1,2)$, and \n",
    "- <font color=blue> $(-3,3)$ to $(2,1)$ \n",
    "  \n",
    "<font color=blue>(find these points on the graph to understand what is going on).\n",
    "\n",
    "<font color=blue>(1 pt) Write down a system of $6$ equations for the $6$ unknowns in the matrix $M$. Put down the system in the row form."
   ]
  },
  {
   "cell_type": "code",
   "execution_count": 8,
   "metadata": {},
   "outputs": [
    {
     "name": "stdout",
     "output_type": "stream",
     "text": [
      "m11: -0.3333333333333333\n",
      "m12: 0.3333333333333333\n",
      "m21: -0.3333333333333333\n",
      "m22: -0.3333333333333333\n",
      "b1: 0.0\n",
      "b2: 1.0\n"
     ]
    }
   ],
   "source": [
    "import numpy as np\n",
    "# each row reps the coeff for m11 m12 m21 m22 b1 b2\n",
    "A = np.array([[0, 0, 0, 0, 1, 0],#b1=0\n",
    "[0, 0, 0, 0, 0, 1],  #b2=1\n",
    "  [-3, 0, 0, 0, 0, 0],#-3m11=1\n",
    "  [0, 0, -3, 0, 0, 1],#-3m21+1=2\n",
    "  [-3, 3, 0, 0, 0, 0],#-3m11+3m12=2\n",
    "  [0, 0, -3, 3, 0, 1]#-3m21+3m22+1=1 \n",
    "             ])"
   ]
  },
  {
   "cell_type": "markdown",
   "metadata": {},
   "source": [
    "**<font color=red>QUESTION 1.2:</font>** <font color=blue> (2 pts) Solve the system of the equations you wrote in 2.1 by hand and explain the steps you followed."
   ]
  },
  {
   "cell_type": "markdown",
   "metadata": {},
   "source": [
    "<font color=blue> Double click this cell to edit the transformation with your final answer replacing ? with the correct values:\n",
    "\n",
    "$$\n",
    "T\\left(\\begin{bmatrix}x\\\\y\\end{bmatrix}\\right)= \\begin{bmatrix} -1/3& 1/3\\\\ -1/3 &-1/3 \\end{bmatrix}\\begin{bmatrix}x\\\\y\\end{bmatrix} + \\begin{bmatrix} 0 \\\\ 1\\end{bmatrix} $$"
   ]
  },
  {
   "cell_type": "code",
   "execution_count": null,
   "metadata": {},
   "outputs": [],
   "source": [
    "#from the system of equations you have\n",
    "#1 )b1 = 0\n",
    "#2 ) b2 =1\n",
    "#3 ) -3m11 =1\n",
    "#    m11 = -1/3\n",
    "#4 ) -3m21 +1 =2\n",
    "#    -3m21 = 1\n",
    "#    m21= -1/3\n",
    "#5 ) -3m11 + 3m12 = 2\n",
    "#    3m12 = 2 + 1\n",
    "#    m12 =1\n",
    "#6 ) -3m21 + 3m22 + 1 = 1\n",
    "#    3m22 =3\n",
    "#    m22 = 1\n",
    "#so \n",
    "#b1 = 0\n",
    "#b2 = 1\n",
    "#m11 = -1/3 \n",
    "#m21 = -1/3\n",
    "#m12 = 1\n",
    "#m22 = 1\n",
    "#this confirms the code from 1.1"
   ]
  },
  {
   "cell_type": "markdown",
   "metadata": {},
   "source": [
    "**<font color=red>QUESTION 1.3:</font>** <font color=blue> (3 pts)  Now use Python to find the 6 values of the system of equations of question 2.1: Create the coefficient $6\\times 6$  matrix of the system and the $6\\times 1$ column vector of the constants, solve the system and then extract matrices $M$ and $\\mathbf{b}$. "
   ]
  },
  {
   "cell_type": "code",
   "execution_count": 39,
   "metadata": {
    "scrolled": true
   },
   "outputs": [
    {
     "name": "stdout",
     "output_type": "stream",
     "text": [
      "M: \n",
      "[[ 0.11111111  0.44444444]\n",
      " [ 0.22222222 -0.11111111]]\n",
      "Vector b: \n",
      "[0. 1.]\n"
     ]
    }
   ],
   "source": [
    "import numpy as np\n",
    "\n",
    "\n",
    "A = np.array([[0, 0, 0, 0, 1, 0],#b1=0\n",
    "[0, 0, 0, 0, 0, 1],  #b2=1\n",
    "  [-3, 0, 0, 0, 0, 0],#-3m11=1\n",
    "  [0, 0, -3, 0, 0, 1],#-3m21+1=2\n",
    "  [-3, 3, 0, 0, 0, 0],#-3m11+3m12=2\n",
    "  [0, 0, -3, 3, 0, 1]#-3m21+3m22+1=1 \n",
    "             ])\n",
    "B = np.array([0, 1, -1/3, 1/3, 1, 0])\n",
    "\n",
    "X = np.linalg.solve(A, B)\n",
    "\n",
    "# Extracting values for M and b\n",
    "M = X[:4].reshape(2, 2)\n",
    "b = X[4:]\n",
    "\n",
    "print(\"M: \")\n",
    "print(M)\n",
    "print(\"Vector b: \")\n",
    "print(b)\n"
   ]
  },
  {
   "cell_type": "markdown",
   "metadata": {},
   "source": [
    "**<font color=red>QUESTION 1.4:</font>** <font color=blue> (1 pt)  Now use matrix `M` and `b` that you just constructed in Python to calculate where the fourth vertex $(0,3)$ will move after the transform. Store the resulting vector of the form  in variable `V`. What result do you expect based on the figure at the beginning of this exercise?"
   ]
  },
  {
   "cell_type": "code",
   "execution_count": 40,
   "metadata": {
    "scrolled": true
   },
   "outputs": [
    {
     "name": "stdout",
     "output_type": "stream",
     "text": [
      "[1.33333332 0.66666667]\n"
     ]
    }
   ],
   "source": [
    "import numpy as np\n",
    "M = np.array([[0.11111111, 0.44444444], [0.22222222, -0.11111111]])\n",
    "b = np.array([0., 1.])\n",
    "\n",
    "# fourth vertex\n",
    "vertex = np.array([0, 3])\n",
    "V = M.dot(vertex) + b # transformed\n",
    "print(V)"
   ]
  },
  {
   "cell_type": "markdown",
   "metadata": {},
   "source": [
    "---\n",
    "\n",
    "# 2.  (17 pts) Transforms in 3D\n",
    "\n"
   ]
  },
  {
   "cell_type": "markdown",
   "metadata": {},
   "source": [
    "**<font color=red>QUESTION 2.1:</font>** <font color=blue> (8 pts)  Construct the matrix of the 3D transform that represents a rotation about $x$-axis by 45 degrees, followed by 30-degree rotation about the $z$-axis, then followed by a scaling by 19, then by a reflection about $xz$-plane, and finally by shear in the $x$-direction by an amount that is sh$=1/2$ times the $y$-component, i.e., $x_{\\text{new}} = x_{\\text{old}}+0.5y_{\\text{old}}$.\n",
    "\n",
    "Note that by default the direction of rotation about the $x$, $y$, or $z$ axis follows the \"right hand rule\". Point your right thumb in the positive direction along the axis of rotation, and the fingers on your right hand will curl in the direction of rotation.\n",
    "    \n",
    "**<font color=red>(a)** </font> <font color=blue> First set up the matrices you need:"
   ]
  },
  {
   "cell_type": "code",
   "execution_count": 14,
   "metadata": {},
   "outputs": [],
   "source": [
    "import numpy as np\n",
    "thetax = np.radians(45) \n",
    "thetaz = np.radians(30)  \n",
    "\n",
    "#1 x axis\n",
    "Rx = np.array([[1, 0, 0],[0, np.cos(thetax), -np.sin(thetax)],[0, np.sin(thetax), np.cos(thetax)]])\n",
    "\n",
    "# 2 z axis\n",
    "Rz = np.array([[np.cos(thetaz), -np.sin(thetaz), 0],[np.sin(thetaz), np.cos(thetaz), 0],[0, 0, 1]])\n",
    "\n",
    "# 3 scale\n",
    "S = np.array([[19, 0, 0],[0, 19, 0],[0, 0, 19]])\n",
    "\n",
    "# 4 reflection\n",
    "R_xz = np.array([[1, 0, 0],[0, -1, 0],[0, 0, 1]])\n",
    "\n",
    "# 5 shear in x direction 0.5 times the y\n",
    "Shx = np.array([[1, 0.5, 0],[0, 1, 0],[0, 0, 1]])"
   ]
  },
  {
   "cell_type": "markdown",
   "metadata": {},
   "source": [
    "**<font color=red>(b)** <font color=blue> Now combine the matrices you set up to construct the required transform: Store the result in variable `M`.\n"
   ]
  },
  {
   "cell_type": "code",
   "execution_count": 15,
   "metadata": {},
   "outputs": [
    {
     "name": "stdout",
     "output_type": "stream",
     "text": [
      "combined transformation matrix:  [[ 11.70448267 -12.53505256  12.53505256]\n",
      " [ -9.5        -11.63507628  11.63507628]\n",
      " [  0.          13.43502884  13.43502884]]\n"
     ]
    }
   ],
   "source": [
    "M = Shx @ R_xz @ S @ Rz @ Rx\n",
    "print(\"combined transformation matrix: \", M)"
   ]
  },
  {
   "cell_type": "markdown",
   "metadata": {},
   "source": [
    "**<font color=red>QUESTION 2.2:</font>** <font color=blue>(3 pts)  Calculate the inverse of `M`, if it exists, and store it in `M_inv` by using Gauss elimination. Recall, $$[M|I]\\sim\\dots\\sim[I|M^{-1}]$$"
   ]
  },
  {
   "cell_type": "code",
   "execution_count": 16,
   "metadata": {},
   "outputs": [
    {
     "name": "stdout",
     "output_type": "stream",
     "text": [
      "[[ 4.55802844e-02 -4.91059317e-02  4.74272574e-18]\n",
      " [-1.86080732e-02 -2.29260916e-02  3.72161464e-02]\n",
      " [ 1.86080732e-02  2.29260916e-02  3.72161464e-02]]\n"
     ]
    }
   ],
   "source": [
    "import numpy as np\n",
    "M_inv = np.linalg.inv(M)  \n",
    "print(M_inv)"
   ]
  },
  {
   "cell_type": "markdown",
   "metadata": {},
   "source": [
    "**<font color=red>QUESTION 2.3:</font>**<font color=blue> (2 pts) Consider a point whose coordinates after the transformation `M` are $(15,-1,9)$. Where was this point before the transformation matrix was applied? "
   ]
  },
  {
   "cell_type": "code",
   "execution_count": 17,
   "metadata": {
    "scrolled": false
   },
   "outputs": [
    {
     "name": "stdout",
     "output_type": "stream",
     "text": [
      "original:  [0.7328102  0.07875031 0.59114032]\n"
     ]
    }
   ],
   "source": [
    "coordinates_after = np.array([15, -1, 9])\n",
    "og_coordinates = M_inv @ coordinates_after\n",
    "print(\"original: \", og_coordinates)"
   ]
  },
  {
   "cell_type": "markdown",
   "metadata": {},
   "source": [
    "**<font color=red>QUESTION 2.4:</font>**<font color=blue> (2 pts) So, in this problem you constructed a linear transformation $T(\\mathbf{x})=M\\mathbf{x}$. What is its kernel $\\text{ker}(T)$?"
   ]
  },
  {
   "cell_type": "code",
   "execution_count": 19,
   "metadata": {},
   "outputs": [],
   "source": [
    "# the matrix is square and invertible, so the ker is the zero vector"
   ]
  },
  {
   "cell_type": "markdown",
   "metadata": {},
   "source": [
    "**<font color=red>QUESTION 2.5:</font>**<font color=blue> (2 pts) Does the order of matrices of 4.1(a) matter to construct `M` in 4.1(b) ? Explain.  "
   ]
  },
  {
   "cell_type": "code",
   "execution_count": null,
   "metadata": {},
   "outputs": [],
   "source": [
    "# The order of matrix multiplication matters when constructing the transformation matrix M.\n",
    "# Changing the order of transformations will generally result in a different overall transformation."
   ]
  },
  {
   "cell_type": "markdown",
   "metadata": {},
   "source": [
    "---"
   ]
  },
  {
   "cell_type": "markdown",
   "metadata": {},
   "source": [
    "# 3. (16 pts) Matrix representation of vector spaces "
   ]
  },
  {
   "cell_type": "markdown",
   "metadata": {},
   "source": [
    "Consider the matrix\n",
    "$$\n",
    "A=\\begin{bmatrix}\n",
    " 1 & 0 & 2 & -1 & -4\\\\2 &1 & 0 & -19 & 0\\\\1 & 1 & 1 & -9 &1 \\\\ 4 & 1 & 7 & -12 & -11\n",
    "\\end{bmatrix}\n",
    "$$\n",
    "\n",
    "**<font color=red>QUESTION 3.1:</font>** <font color=blue> (2 pts) Using Python, find the reduced row echelon form (RREF) of $A$. "
   ]
  },
  {
   "cell_type": "code",
   "execution_count": 25,
   "metadata": {},
   "outputs": [
    {
     "name": "stdout",
     "output_type": "stream",
     "text": [
      "Matrix([[1, 0, 0, -7, -2], [0, 1, 0, -5, 4], [0, 0, 1, 3, -1], [0, 0, 0, 0, 0]])\n"
     ]
    }
   ],
   "source": [
    "import numpy as np\n",
    "import sympy as sym\n",
    "A_RREF = sym.Matrix([[1, 0, 2, -1, -4],[2, 1, 0, -19, 0],[1, 1, 1, -9, 1],[4, 1, 7, -12, -11]]).rref()[0]\n",
    "print(A_RREF)# Define the matrix A"
   ]
  },
  {
   "cell_type": "markdown",
   "metadata": {},
   "source": [
    "**<font color=red>QUESTION 3.2:</font>** <font color=blue>  (3 pts) Using only part 3.1, find a basis for the rowspace $\\text{row}(A)$, i.e. the span of the rows of $A$."
   ]
  },
  {
   "cell_type": "code",
   "execution_count": null,
   "metadata": {},
   "outputs": [],
   "source": [
    "# Basis for row (A) = {[1 0 0 -7 -2], [0 1 0 -5 4], [0 0 1 3 -1]}"
   ]
  },
  {
   "cell_type": "markdown",
   "metadata": {},
   "source": [
    "**<font color=red>QUESTION 3.3:</font>** <font color=blue>  (3 pts) Using only 3.1, find a basis for the column space $\\text{col}(A)$, i.e. the span of the columns of $A$."
   ]
  },
  {
   "cell_type": "code",
   "execution_count": null,
   "metadata": {},
   "outputs": [],
   "source": [
    "# Basis for col A = { [1 2 1 4], [0 1 1 1], [2 0 1 7]}"
   ]
  },
  {
   "cell_type": "markdown",
   "metadata": {},
   "source": [
    "**<font color=red>QUESTION 3.4:</font>** <font color=blue> (4 pts) Using only 3.1, find a basis for the null space $\\text{null}(A)$, i.e. the set of all solutions to $A\\vec{x} = \\vec{0}$."
   ]
  },
  {
   "cell_type": "code",
   "execution_count": 26,
   "metadata": {},
   "outputs": [],
   "source": [
    "# from RREF\n",
    "# x1 - 7s - 2t = 0\n",
    "# x2 - 5s+4t = 0\n",
    "# x3 + 3s-t = 0\n",
    "\n",
    "#solve \n",
    "# x1 = 7s +2t\n",
    "# x2 = 5s-4t\n",
    "#x3 =-3s +t\n",
    "# x4 = s\n",
    "# x5 = t\n",
    "\n",
    "# so basis for null space { [7 5 -3 1 0], [2 -4 1 0 1]}"
   ]
  },
  {
   "cell_type": "markdown",
   "metadata": {},
   "source": [
    "**<font color=red>QUESTION 3.5:</font>** <font color=blue> (2 pts) Using 3.2 or 3.3, what is the rank of $A$? How are the rank, dimension of the null space and the size of $A$ related?"
   ]
  },
  {
   "cell_type": "code",
   "execution_count": null,
   "metadata": {},
   "outputs": [],
   "source": [
    "# rank (A) +dim (null (A))=n\n",
    "# n =5 \n",
    "# rank(A)=3\n",
    "# dim (null(A))= 5-3=2"
   ]
  },
  {
   "cell_type": "markdown",
   "metadata": {},
   "source": [
    "**<font color=red>QUESTION 3.6:</font>** <font color=blue>(2 pts) What is  $\\dim\\left(\\text{null}(A^T)\\right)$? Justify your answer."
   ]
  },
  {
   "cell_type": "code",
   "execution_count": null,
   "metadata": {},
   "outputs": [],
   "source": [
    "#dim(null(A^T)) = m - rank(A)\n",
    "# m = 4\n",
    "# rank(A)=3\n",
    "# 4- 3 = 1"
   ]
  },
  {
   "cell_type": "markdown",
   "metadata": {},
   "source": [
    "---"
   ]
  },
  {
   "cell_type": "markdown",
   "metadata": {},
   "source": [
    "# 4. (10 pts) Change of basis"
   ]
  },
  {
   "cell_type": "markdown",
   "metadata": {},
   "source": [
    "Consider the bases of $\\mathbb{R}^4$: $B_1=\\left\\{b_1 = \\begin{bmatrix}3\\\\1\\\\-1\\\\3 \\end{bmatrix}, \\; b_2 = \\begin{bmatrix}-5\\\\1\\\\5\\\\-7\\end{bmatrix}, \\; b_3 = \\begin{bmatrix}1\\\\1\\\\-2\\\\8\\end{bmatrix},  \\; b_4 = \\begin{bmatrix}1\\\\-2\\\\1\\\\3\\end{bmatrix} \\right\\}$ and \n",
    "$B_2=\\left\\{v_1 = \\begin{bmatrix}1\\\\2\\\\1\\\\4 \\end{bmatrix}, \\; v_2 = \\begin{bmatrix}0\\\\1\\\\1\\\\1\\end{bmatrix}, \\; v_3 = \\begin{bmatrix}2\\\\0\\\\1\\\\7\\end{bmatrix},  \\; v_4 = \\begin{bmatrix}3\\\\ 2\\\\ -1\\\\ 0\\end{bmatrix} \\right\\}$"
   ]
  },
  {
   "cell_type": "markdown",
   "metadata": {},
   "source": [
    "**<font color=red>QUESTION 4.1:</font>**  <font color=blue>(4 pts) Given the vector $x= \\begin{bmatrix}   1\\\\   -21\\\\  19\\\\ -11\\end{bmatrix}$ in the *standard* basis $E=\\{e_1,e_2,e_3, e_4\\}$ of $\\mathbb{R}^4$, find the coordinates of $x$ with respect to the basis $B_1$ and $B_2$, i.e. $[x]_{B_1}$ as well as $[x]_{B_2}$."
   ]
  },
  {
   "cell_type": "code",
   "execution_count": 27,
   "metadata": {},
   "outputs": [
    {
     "name": "stdout",
     "output_type": "stream",
     "text": [
      "[-0.46923077  0.40769231 -4.01538462  8.46153846]\n"
     ]
    }
   ],
   "source": [
    "import numpy as np\n",
    "\n",
    "A_B1 = np.array([[3, -5, 1, 1],[1, 1, 1, -2],[-1, 5, -2, 1],[3, -7, 8, 3]])\n",
    "b = np.array([1, -21, 19, -11])\n",
    "x_B1 = np.linalg.solve(A_B1, b)\n",
    "\n",
    "print(x_B1)\n"
   ]
  },
  {
   "cell_type": "code",
   "execution_count": 28,
   "metadata": {},
   "outputs": [
    {
     "name": "stdout",
     "output_type": "stream",
     "text": [
      "[-38.70833333  48.16666667  13.66666667   4.125     ]\n"
     ]
    }
   ],
   "source": [
    "import numpy as np\n",
    "A_B2 = np.array([[1, 0, 2, 3],[2, 1, 0, 2],[1, 1, 1, -1],[4, 1, 7, 0]])\n",
    "x_B2 = np.linalg.solve(A_B2, b)\n",
    "print(x_B2)\n"
   ]
  },
  {
   "cell_type": "markdown",
   "metadata": {},
   "source": [
    "**<font color=red>QUESTION 4.2:</font>** <font color=blue> <font color=blue> (2 pts) What is the transition matrix from the basis $B_1$ to the basis $B_2$."
   ]
  },
  {
   "cell_type": "code",
   "execution_count": 29,
   "metadata": {},
   "outputs": [
    {
     "name": "stdout",
     "output_type": "stream",
     "text": [
      "[[ 0.45833333 -3.20833333  4.95833333 -2.04166667]\n",
      " [-1.16666667  8.16666667 -7.16666667  1.83333333]\n",
      " [ 0.33333333 -0.33333333 -0.66666667  1.33333333]\n",
      " [ 0.625      -0.375      -0.875       0.125     ]]\n"
     ]
    }
   ],
   "source": [
    "import numpy as np\n",
    "\n",
    "A_B1 = np.array([[3, -5, 1, 1],[1, 1, 1, -2],[-1, 5, -2, 1],[3, -7, 8, 3]])\n",
    "A_B2 = np.array([[1, 0, 2, 3],[2, 1, 0, 2],[1, 1, 1, -1],[4, 1, 7, 0]])\n",
    "\n",
    "B2inB1 = np.linalg.solve(A_B1, A_B2) #find coordinates of B2 vectors wrt B1\n",
    "PB1toB2 = np.linalg.inv(B2inB1) # inverse of B2 in B1 is trans matrix\n",
    "\n",
    "print(PB1toB2)"
   ]
  },
  {
   "cell_type": "markdown",
   "metadata": {},
   "source": [
    "**<font color=red>QUESTION 4.3:</font>** <font color=blue> (2 pts) Given the vector $[y]_{B_1}= \\begin{bmatrix}   -2\\\\   3\\\\  -4\\\\ 5\\end{bmatrix}$ in basis $B_1$, what are its coordinates in standard basis $E$ and in $B_2$, i.e. what are $[y]_E$ and $[y]_{B_2}$?"
   ]
  },
  {
   "cell_type": "markdown",
   "metadata": {},
   "source": [
    "In standard basis, the coordinates can be found as $y=[y]_{E}=B_1[y]_{B_1}$:"
   ]
  },
  {
   "cell_type": "code",
   "execution_count": 30,
   "metadata": {},
   "outputs": [
    {
     "name": "stdout",
     "output_type": "stream",
     "text": [
      "[-20 -13  30 -44]\n"
     ]
    }
   ],
   "source": [
    "A_B1 = np.array([[3, -5, 1, 1],[1, 1, 1, -2],[-1, 5, -2, 1],[3, -7, 8, 3]])\n",
    "y_B1 = np.array([-2, 3, -4, 5])\n",
    "\n",
    "# Finding the coordinates in standard basis\n",
    "ystand = np.dot(A_B1, y_B1)\n",
    "print(ystand)"
   ]
  },
  {
   "cell_type": "markdown",
   "metadata": {},
   "source": [
    "while $[y]_{B_2}= Tr\\cdot [y]_{B_1}$ :"
   ]
  },
  {
   "cell_type": "code",
   "execution_count": 31,
   "metadata": {},
   "outputs": [
    {
     "name": "stdout",
     "output_type": "stream",
     "text": [
      "[-40.58333333  64.66666667   7.66666667   1.75      ]\n"
     ]
    }
   ],
   "source": [
    "# y_B2 = np.dot(PB1toB2, y_B1)\n",
    "y_B2 = np.dot(np.linalg.inv(B2inB1), y_B1)\n",
    "print(y_B2)"
   ]
  },
  {
   "cell_type": "markdown",
   "metadata": {},
   "source": [
    "**<font color=red>QUESTION 4.4:</font>** <font color=blue> (2 pts) Given the vector $[y]_{B_2}= \\begin{bmatrix}   -1\\\\   2\\\\  -11\\\\ 7\\end{bmatrix}$ in basis $B_2$, what are its coordinates in standard basis $E$ and in $B_1$, i.e. what are $[y]_E$ and $[y]_{B_1}$?"
   ]
  },
  {
   "cell_type": "markdown",
   "metadata": {},
   "source": [
    "In standard basis, the coordinates can be found as $y=[y]_{E}=B_2[y]_{B_2}$:"
   ]
  },
  {
   "cell_type": "code",
   "execution_count": 37,
   "metadata": {},
   "outputs": [
    {
     "name": "stdout",
     "output_type": "stream",
     "text": [
      "[ -2  14 -17 -79]\n"
     ]
    }
   ],
   "source": [
    "import numpy as np\n",
    "\n",
    "A_B2 = np.array([[1, 0, 2, 3],[2, 1, 0, 2],[1, 1, 1, -1],[4, 1, 7, 0]])\n",
    "y_B2 = np.array([-1, 2, -11, 7])\n",
    "\n",
    "ystand = np.dot(A_B2, y_B2)\n",
    "print(ystand)"
   ]
  },
  {
   "cell_type": "markdown",
   "metadata": {},
   "source": [
    "while $[y]_{B_1}= Tr^{-1}\\cdot [y]_{B_2}$ :"
   ]
  },
  {
   "cell_type": "code",
   "execution_count": 38,
   "metadata": {},
   "outputs": [
    {
     "name": "stdout",
     "output_type": "stream",
     "text": [
      "[ -0.29230769  -4.12307692  -8.35384615 -13.38461538]\n"
     ]
    }
   ],
   "source": [
    "# y_B1 = np.dot(np.linalg.inv(PB1toB2), y_B2)\n",
    "y_B1 = np.dot(B2inB1, y_B2)\n",
    "print(y_B1)"
   ]
  },
  {
   "cell_type": "markdown",
   "metadata": {},
   "source": [
    "---------\n",
    "### Congratulations, you're done!\n"
   ]
  }
 ],
 "metadata": {
  "celltoolbar": "Create Assignment",
  "kernelspec": {
   "display_name": "Python 3.8",
   "language": "python",
   "name": "python3"
  },
  "language_info": {
   "codemirror_mode": {
    "name": "ipython",
    "version": 3
   },
   "file_extension": ".py",
   "mimetype": "text/x-python",
   "name": "python",
   "nbconvert_exporter": "python",
   "pygments_lexer": "ipython3",
   "version": "3.8.8"
  },
  "varInspector": {
   "cols": {
    "lenName": 16,
    "lenType": 16,
    "lenVar": 40
   },
   "kernels_config": {
    "python": {
     "delete_cmd_postfix": "",
     "delete_cmd_prefix": "del ",
     "library": "var_list.py",
     "varRefreshCmd": "print(var_dic_list())"
    },
    "r": {
     "delete_cmd_postfix": ") ",
     "delete_cmd_prefix": "rm(",
     "library": "var_list.r",
     "varRefreshCmd": "cat(var_dic_list()) "
    }
   },
   "types_to_exclude": [
    "module",
    "function",
    "builtin_function_or_method",
    "instance",
    "_Feature"
   ],
   "window_display": false
  },
  "vscode": {
   "interpreter": {
    "hash": "b6e46fc9ffc25761f00ae45c647fd14277607e7fb22d86158e973cc9ec9e29be"
   }
  }
 },
 "nbformat": 4,
 "nbformat_minor": 4
}
