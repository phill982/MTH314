{
 "cells": [
  {
   "cell_type": "markdown",
   "id": "d974e7d7",
   "metadata": {},
   "source": [
    "# Inner products"
   ]
  },
  {
   "cell_type": "markdown",
   "id": "2c305508",
   "metadata": {},
   "source": [
    "\n",
    "An inner product on a real vector space $V$ is a function that associates a number, denoted as $\\langle u,v \\rangle$, with each pair of vectors $u$ and $v$ of $V$. This function satisfies the following conditions for vectors $u, v, w$ and scalar $c$:\n",
    "\n",
    "\n",
    "$$\\langle u,v \\rangle = \\langle v,u \\rangle \\text{ symmetry}$$ \n",
    "\n",
    "$$\\langle u+v,w \\rangle = \\langle u,w \\rangle + \\langle v,w \\rangle \\text{ additive}$$ \n",
    "\n",
    "$$\\langle cu,v \\rangle = c\\langle u,v \\rangle \\text{ homogeneity}$$ \n",
    "\n",
    "$$\\langle u,u \\rangle \\ge 0 \\text{ and } \\langle u,u \\rangle = 0 \\text{ if and only if } u = 0 \\text{ positive definite}$$ \n",
    "\n",
    "\n",
    "The dot product of $R^n$ is an inner product. However, we can define many other inner products.\n",
    "\n",
    "### Norm of a vector\n",
    "\n",
    "Let $V$ be an inner product space. The norm of a vector $v$ is denoted $\\lVert v \\rVert$ and is defined by:\n",
    "\n",
    "$$\\lVert v \\rVert = \\sqrt{\\langle v,v \\rangle}$$\n",
    "\n",
    "### Angle between two vectors\n",
    "\n",
    "Let $V$ be a real inner product space. The angle $\\theta$ between two nonzero vectors $u$ and $v$ in $V$ is given by:\n",
    "\n",
    "$$cos(\\theta) = \\frac{\\langle u,v \\rangle}{\\lVert u \\rVert \\lVert v \\rVert}$$\n",
    "\n",
    "### Orthogonal Vectors\n",
    "\n",
    "Let $V$ be an inner product space.  Two vectors $u$ and $v$ in $V$ are orthogonal if their inner product is zero:\n",
    "\n",
    "$$\\langle u,v \\rangle = 0$$\n",
    "\n",
    "### Distance\n",
    "Let $V$ be an inner product space. The distance between two vectors (points) $u$ and $v$ in $V$ is denoted $d(u,v)$ and is defined by:\n",
    "\n",
    "$$d(u,v) = \\lVert u-v \\rVert = \\sqrt{\\langle u-v, u-v \\rangle}$$"
   ]
  },
  {
   "cell_type": "markdown",
   "id": "0781c8b2",
   "metadata": {},
   "source": [
    "---\n",
    "<font color=blue>**Example**. Let $R^2$ have an inner product defined by:\n",
    "$$\\langle (a_1,a_2),(b_1,b_2)\\rangle = 2a_1b_1 + 3a_2b_2.$$"
   ]
  },
  {
   "cell_type": "markdown",
   "id": "6c27d559",
   "metadata": {},
   "source": [
    "<font color=blue>Show that indeed this is an inner product (check the four properties)"
   ]
  },
  {
   "cell_type": "code",
   "execution_count": null,
   "id": "2edb4d45",
   "metadata": {},
   "outputs": [],
   "source": []
  },
  {
   "cell_type": "markdown",
   "id": "db354ace",
   "metadata": {},
   "source": [
    "<font color=blue> What is the norm of (1,-2) in this space?"
   ]
  },
  {
   "cell_type": "code",
   "execution_count": null,
   "id": "3df1395a",
   "metadata": {},
   "outputs": [],
   "source": []
  },
  {
   "cell_type": "markdown",
   "id": "ee1609c1",
   "metadata": {},
   "source": [
    "<font color=blue> What is the distance between (1,-2) and (3,2) in this space?"
   ]
  },
  {
   "cell_type": "code",
   "execution_count": null,
   "id": "ee3fa599",
   "metadata": {},
   "outputs": [],
   "source": []
  },
  {
   "cell_type": "markdown",
   "id": "5e0643bf",
   "metadata": {},
   "source": [
    "<font color=blue> What is the angle between (1,-2) and (3,2) in this space?"
   ]
  },
  {
   "cell_type": "code",
   "execution_count": null,
   "id": "d2f76cee",
   "metadata": {},
   "outputs": [],
   "source": []
  },
  {
   "cell_type": "markdown",
   "id": "17054986",
   "metadata": {},
   "source": [
    "<font color=blue> Determine if (1,-2) and (3,2) are orthogonal in this space?"
   ]
  },
  {
   "cell_type": "code",
   "execution_count": null,
   "id": "169050a1",
   "metadata": {},
   "outputs": [],
   "source": []
  },
  {
   "cell_type": "markdown",
   "id": "49236d6d",
   "metadata": {},
   "source": [
    "---\n",
    "\n",
    "### Example: Minkowski Geometry\n",
    "<font color=blue>Consider the following pseudo inner-product which is used to model special relativity in $\\mathbb{R}^4$:\n",
    "\n",
    "<font color=blue>$$\\langle X,Y \\rangle = -x_1y_1 - x_2y_2 -x_3y_3 + x_4y_4$$\n",
    "\n",
    "<font color=blue>It has the following norms and distances:\n",
    "\n",
    "<font color=blue>$$\\lVert X \\rVert = \\sqrt{|\\langle X,X \\rangle|}$$\n",
    "\n",
    "<font color=blue>$$ d(X,Y) = \\lVert X - Y \\rVert = \\lVert ( x_1 - y_1, x_2-y_2, x_3 - y_3, x_4 - y_4) \\rVert= \\sqrt{|-(x_1 - y_1)^2 - (x_2-y_2)^2 - (x_3 - y_3)^2 + (x_4 - y_4)^2|} $$\n"
   ]
  },
  {
   "cell_type": "markdown",
   "id": "be855a39",
   "metadata": {},
   "source": [
    " <font color=blue>The Minkowski Geometry is called pseudo inner product because it violates one of the inner product axioms. Discuss the axioms in your group and decide which one it violates."
   ]
  },
  {
   "cell_type": "code",
   "execution_count": null,
   "id": "b2804733",
   "metadata": {},
   "outputs": [],
   "source": []
  },
  {
   "cell_type": "markdown",
   "id": "c2547aaf",
   "metadata": {},
   "source": [
    "---"
   ]
  },
  {
   "cell_type": "markdown",
   "id": "4fe8720f",
   "metadata": {},
   "source": [
    "Now recall the definition of the vector spaces:\n",
    "\n",
    "A **Vector Space** is a set $V$ of elements called **vectors**, having operations of addition and scalar multiplication defined on it that satisfy the following conditions ($u$, $v$, and $w$ are arbitrary elements of $V$, and $c$ and $d$ are scalars.)\n",
    "\n",
    "### Closure Axioms\n",
    "\n",
    "1. The sum $u + v$ exists and is an element of $V$. ($V$ is closed under addition.)\n",
    "2. $cu$ is an element of $V$. ($V$ is closed under scalar multiplication.)\n",
    "\n",
    "### Addition Axioms\n",
    "\n",
    "3. $u + v = v + u$ (commutative property)\n",
    "4. $u + (v + w) = (u + v) + w$ (associative property)\n",
    "5. There exists an element of $V$, called a **zero vector**, denoted $0$, such that $u+0 = u$\n",
    "6. For every element $u$ of $V$, there exists an element called a **negative** of $u$, denoted $-u$, such that $u + (-u) = 0$.\n",
    "\n",
    "### Scalar Multiplication Axioms\n",
    "\n",
    "7. $c(u+v) = cu + cv$\n",
    "8. $(c + d)u = cu + du$\n",
    "9.  $c(du) = (cd)u$\n",
    "10. $1u = u$"
   ]
  },
  {
   "cell_type": "markdown",
   "id": "aa966366",
   "metadata": {},
   "source": [
    "<font color=blue> **Example** Show, by checking all the properties above, that all the $2x2$ matrices with real entries form a vector space, i.e $$M_{2x2}(\\mathbb{R})=\\left\\{\\begin{bmatrix}a_{11}&a_{12}\\\\a_{21}&a_{22}\\end{bmatrix}: a_{11},a_{12},a_{21},a_{22}\\in\\mathbb{R}\\right\\}$$ is a vector space."
   ]
  },
  {
   "cell_type": "code",
   "execution_count": null,
   "id": "0c3eff61",
   "metadata": {},
   "outputs": [],
   "source": []
  },
  {
   "cell_type": "markdown",
   "id": "bc4394dd",
   "metadata": {},
   "source": [
    "<font color=blue> If $A=[a_{ij}]$ and $B=[b_{ij}]$ are 2x2 matrices, we **define the inner product**\n",
    "$\n",
    "\\langle A, B \\rangle = a_{11}b_{11}+a_{12}b_{12}+a_{21}b_{21}+a_{22}b_{22}\n",
    "$"
   ]
  },
  {
   "cell_type": "markdown",
   "id": "66774d61",
   "metadata": {},
   "source": [
    "<font color=blue> Show that the vector (matrix) $\\begin{bmatrix}0&0\\\\0&1\\end{bmatrix}$ is **orthogonal** to $\\begin{bmatrix}1&0\\\\0&0\\end{bmatrix}$ with this inner product."
   ]
  },
  {
   "cell_type": "code",
   "execution_count": null,
   "id": "22068bf4",
   "metadata": {},
   "outputs": [],
   "source": []
  },
  {
   "cell_type": "markdown",
   "id": "fac21e55",
   "metadata": {},
   "source": [
    "<font color=blue> Calculate the **norm** of the vector (matrix) $\\begin{bmatrix}0&0\\\\0&1\\end{bmatrix}$ with this inner product."
   ]
  },
  {
   "cell_type": "code",
   "execution_count": null,
   "id": "71c93824",
   "metadata": {},
   "outputs": [],
   "source": []
  },
  {
   "cell_type": "markdown",
   "id": "57b8ab28",
   "metadata": {},
   "source": [
    "<font color=blue> Show that $\\left\\{\\begin{bmatrix}1&0\\\\0&0\\end{bmatrix}, \\begin{bmatrix}0&1\\\\0&0\\end{bmatrix}, \\begin{bmatrix}0&0\\\\1&0\\end{bmatrix},\\begin{bmatrix}0&0\\\\0&1\\end{bmatrix} \\right\\}$ is an **orthonormal** basis for $M_{2x2}(\\mathbb{R})$ using this inner product. \n",
    "    \n",
    "(Hint: show first that this is a basis (two things to check) and then that this basis is orthonormal)"
   ]
  },
  {
   "cell_type": "code",
   "execution_count": null,
   "id": "3ee15c80",
   "metadata": {},
   "outputs": [],
   "source": []
  },
  {
   "cell_type": "markdown",
   "id": "be05eef2",
   "metadata": {},
   "source": [
    "---\n",
    "<font color=blue> **Example** Consider the following functions \n",
    "\n",
    "<font color=blue>$$f(x)=3x-1 \\quad \\text{ and } \\quad g(x)=5x+3$$\n",
    "\n",
    "\n",
    "<font color=blue>with inner product defined by $$\\langle f,g\\rangle=\\int_0^1{f(x)g(x)dx}$$\n",
    "\n",
    "<font color=blue>What is the norm of $f(x)$ in this space? Do it by hand."
   ]
  },
  {
   "cell_type": "code",
   "execution_count": null,
   "id": "28879850",
   "metadata": {},
   "outputs": [],
   "source": []
  },
  {
   "cell_type": "markdown",
   "id": "859e73d6",
   "metadata": {},
   "source": [
    "<font color=blue>What is the norm of g(x) in this space? Do it by hand."
   ]
  },
  {
   "cell_type": "code",
   "execution_count": null,
   "id": "6ee78dec",
   "metadata": {},
   "outputs": [],
   "source": []
  },
  {
   "cell_type": "markdown",
   "id": "16eff9cd",
   "metadata": {},
   "source": [
    "<font color=blue>What is the inner product of $f(x)$ and $g(x)$ in this space? Do it by hand."
   ]
  },
  {
   "cell_type": "code",
   "execution_count": null,
   "id": "3d872564",
   "metadata": {},
   "outputs": [],
   "source": []
  },
  {
   "cell_type": "markdown",
   "id": "96a95661",
   "metadata": {},
   "source": [
    "<font color=blue> Now redo the above questions using python."
   ]
  },
  {
   "cell_type": "code",
   "execution_count": 1,
   "id": "8829e7da",
   "metadata": {},
   "outputs": [],
   "source": [
    "# Hint: you can use `sympy.integrate` to compute the integral\n",
    "\n",
    "# for example:\n",
    "# import sympy as sym\n",
    "\n",
    "# # Define a symbol and a function to integrate\n",
    "# x = sp.symbols('x')\n",
    "# f = x**2\n",
    "\n",
    "# # Calculate the indefinite integral of the function\n",
    "# integral = sp.integrate(f, x)\n",
    "\n",
    "# print(\"Indefinite integral:\", integral)\n",
    "\n",
    "# # Calculate the definite integral from a to b\n",
    "# a = 0\n",
    "# b = 1\n",
    "# def_integral = sp.integrate(f, (x, a, b))"
   ]
  }
 ],
 "metadata": {
  "kernelspec": {
   "display_name": "Python 3 (ipykernel)",
   "language": "python",
   "name": "python3"
  },
  "language_info": {
   "codemirror_mode": {
    "name": "ipython",
    "version": 3
   },
   "file_extension": ".py",
   "mimetype": "text/x-python",
   "name": "python",
   "nbconvert_exporter": "python",
   "pygments_lexer": "ipython3",
   "version": "3.11.3"
  }
 },
 "nbformat": 4,
 "nbformat_minor": 5
}
