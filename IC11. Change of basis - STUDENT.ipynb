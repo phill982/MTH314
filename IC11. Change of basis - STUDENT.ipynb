{
 "cells": [
  {
   "cell_type": "markdown",
   "id": "70ee213b",
   "metadata": {},
   "source": [
    "# Change of basis"
   ]
  },
  {
   "cell_type": "markdown",
   "id": "6742dbd4",
   "metadata": {},
   "source": [
    "### 1.  Some review"
   ]
  },
  {
   "cell_type": "markdown",
   "id": "356276fa",
   "metadata": {},
   "source": [
    "<font color='blue'>**Example**. Find a value of $c \\in \\mathbb{N}$ for which the following vectors do NOT form a basis for $\\mathbb{R}^3$?\n",
    "\n",
    "$$B = \\{(1,2,4), (9,7,3), (2,c,8)\\}$$\n",
    "\n",
    "There are many correct ways to do this, but explain how you found the value of $c$ in two ways:\n",
    "1. Using a for loop in python to test different values of c.\n",
    "2. By using mathematics reasoning and comparing the first and third rows."
   ]
  },
  {
   "cell_type": "code",
   "execution_count": null,
   "id": "d518bb53",
   "metadata": {},
   "outputs": [],
   "source": [
    "#Put your answer to the above question here.\n",
    "det=1\n",
    "i=0\n",
    "while ...:\n",
    "    i=...\n",
    "    A=np.array([[1,2,4],[9,7,3],[2,i,8]])\n",
    "    det=...\n",
    "print(f\"For c={i} the matrix is not invertible\")  \n",
    "    "
   ]
  },
  {
   "cell_type": "markdown",
   "id": "0940b617",
   "metadata": {},
   "source": [
    "<font color='blue'>**Example**. Create a function that:\n",
    "    \\\n",
    "(a) Gets the vectors as input in one list of lists.\n",
    "    \\\n",
    "(b) Returns the span of the vectors and the dimension of the space they span."
   ]
  },
  {
   "cell_type": "code",
   "execution_count": 131,
   "id": "49c8f113",
   "metadata": {},
   "outputs": [],
   "source": [
    "import sympy as sym\n",
    "import numpy as np\n",
    "\n",
    "def linearly_independent(X):\n",
    "    #Make V in a sym Matrix\n",
    "    V = \n",
    "    #Reduce to row echelon form\n",
    "    V =\n",
    "    #Get it back to an np.array.\n",
    "    V = np.array(V.tolist())\n",
    "    # Use np.all to delete the 0 rows.\n",
    "    V = V[~np.all(V == 0, axis=1)]\n",
    "    # Make V a sym Matrix again and return it.\n",
    "    V=\n",
    "    print(f\"The vectors span a space of dimension={...}\")\n",
    "    return V\n",
    "    "
   ]
  },
  {
   "cell_type": "markdown",
   "id": "3e957eac",
   "metadata": {},
   "source": [
    "<font color='blue'>**Example**. Apply the function you created on the following set of vectors:\n",
    "    \n",
    "```bash \n",
    "X=[[  76,  -19,  -20,   27,  -41,  -17,  -21,   22,  -38,  -22],\n",
    "       [  79,  -20,   22,   22,   18,   33,   88,  -18,   20,   21],\n",
    "       [ -27,   99,   32,   25,  -45,   89,   53,   85,   51,  -25],\n",
    "       [  16,  -44,  -13,   48,   35,  -20,   70,   96,   90,   -2],\n",
    "       [-390,  587,  143, -115, -280,  367, -153,   66,  -68, -114],\n",
    "       [  -2,  -76,  -73, -310,  -99, -217, -618, -695, -661,   42],\n",
    "       [-165, -170, -179,   58,   37, -298, -216,  297,  101,  -87],\n",
    "       [ 480, -437, -167,  103,   24, -322,  -85,  -89, -195,    6],\n",
    "       [ 433, -505, -215,  177,   76, -395,  -33,  121,  -35,  -19],\n",
    "       [ 633, -488, -129,   26,   35, -305, -102, -402, -386,   77],\n",
    "       [ -75,   44,  -94,  230,  -86,  -35,   80,  652,  326, -165],\n",
    "       [ -10,  492,   43,   20, -485,  282, -258,  176, -258, -224]]\n"
   ]
  },
  {
   "cell_type": "code",
   "execution_count": 1,
   "id": "cd6b24e5",
   "metadata": {},
   "outputs": [],
   "source": [
    "#Put your code here\n"
   ]
  },
  {
   "cell_type": "markdown",
   "id": "c4e2bdea",
   "metadata": {},
   "source": [
    "<font color='green'>**Comment**.The vectors above were created using the following idea. We got 4 random vectors and then we created 8 more that were linear combinations of these 4. So we expected to get at most 4 linearly independent vectors. The following code is how we did this:"
   ]
  },
  {
   "cell_type": "code",
   "execution_count": 142,
   "id": "8e64f0de",
   "metadata": {},
   "outputs": [
    {
     "data": {
      "text/plain": [
       "array([[  82,   22,   10,  -15,   40,   37,   66,   97,  -49,   29],\n",
       "       [  49,  -20,   50,   98,   93,   77,   18,   85,  -17,   27],\n",
       "       [  14,   -8,   89,   14,   27,   19,  -30,  -37,   -6,   50],\n",
       "       [  86,   37,   69,  -45,  -41,  -16,  -21,  -49,   31,   12],\n",
       "       [-484, -100, -120, -156, -100, -168, -108, -292,  -80,   44],\n",
       "       [ 386,  124,  543, -138,  -83,   -7, -174, -307,  106,  198],\n",
       "       [-649, -294, -443,  507,  162,   53, -102,   77,   88, -262],\n",
       "       [-340, -133, -217,  150,   83,   11,   -3,   50,  -44,  -65],\n",
       "       [ 714,   89,  526,  226,  396,  390,  177,  447, -128,  281],\n",
       "       [-189,   68,  106, -434, -357, -309, -210, -573,   61,   65],\n",
       "       [-303,  185, -518, -650, -843, -639, -201, -678,  355, -436],\n",
       "       [-745, -185, -485,   84, -224, -252, -225, -349,  181, -308]])"
      ]
     },
     "execution_count": 142,
     "metadata": {},
     "output_type": "execute_result"
    }
   ],
   "source": [
    "import numpy as np\n",
    "import random\n",
    "#4 random vectors\n",
    "arrays = np.random.randint(-50, 100, size=(4,10))\n",
    "\n",
    "#8 more vectors that are linear combinations\n",
    "for i in range(8):\n",
    "    coefficients=np.random.randint(-5, 5,size=(4,1))\n",
    "    array=np.zeros((1, 10), dtype=int)\n",
    "    for j in range(4):\n",
    "        array+=coefficients[j]*arrays[j]\n",
    "    arrays=np.vstack([arrays,array])\n",
    "arrays\n",
    "    "
   ]
  },
  {
   "cell_type": "markdown",
   "id": "db439ab5",
   "metadata": {},
   "source": [
    "----\n",
    "\n",
    "## 2. Change of basis"
   ]
  },
  {
   "cell_type": "markdown",
   "id": "18dfcb37",
   "metadata": {},
   "source": [
    "<font color=blue>**Example**. What is the coordinate vector of $u=\\begin{bmatrix} 9\\\\-3\\\\21\\end{bmatrix}$ relative to the basis $B=\\left\\{ \\begin{bmatrix} 2\\\\0\\\\-1\\end{bmatrix}, \\begin{bmatrix} 0\\\\1\\\\3\\end{bmatrix}, \\begin{bmatrix} 1\\\\1\\\\1\\end{bmatrix} \\right\\}$ in $\\mathbb R^3$?\n",
    "\n",
    "\n",
    "Store this coordinate in a variable ```ub```:"
   ]
  },
  {
   "cell_type": "code",
   "execution_count": 2,
   "id": "1211cc32",
   "metadata": {},
   "outputs": [],
   "source": [
    "# put your answer here"
   ]
  },
  {
   "cell_type": "markdown",
   "id": "94c437d2",
   "metadata": {},
   "source": [
    "<font color=blue>  What is the transition matrix from the standard basis to the basis $B$? Store this coordinate in a variable ```Pb```:"
   ]
  },
  {
   "cell_type": "code",
   "execution_count": 3,
   "id": "35356720",
   "metadata": {},
   "outputs": [],
   "source": [
    "# put your answer here"
   ]
  },
  {
   "cell_type": "markdown",
   "id": "fc8a873b",
   "metadata": {},
   "source": [
    "<font color=blue> Another basis in $\\mathbb R^3$ is the set $W=\\left\\{ \\begin{bmatrix} 1\\\\1\\\\0\\end{bmatrix}, \\begin{bmatrix} 0\\\\1\\\\1\\end{bmatrix}, \\begin{bmatrix} 1\\\\0\\\\1\\end{bmatrix} \\right\\}$. Find the transition matrix from $W$ to $B$."
   ]
  },
  {
   "cell_type": "code",
   "execution_count": null,
   "id": "68af3712",
   "metadata": {},
   "outputs": [],
   "source": [
    "# put your answer here"
   ]
  },
  {
   "cell_type": "markdown",
   "id": "d83c9f9a",
   "metadata": {},
   "source": [
    "<font color=blue>   Consider the vector $\\begin{bmatrix} 2\\\\1\\\\-1\\end{bmatrix}_W$. Find $\\begin{bmatrix} 2\\\\1\\\\-1\\end{bmatrix}_B$."
   ]
  },
  {
   "cell_type": "code",
   "execution_count": null,
   "id": "0ae1a6c8",
   "metadata": {},
   "outputs": [],
   "source": [
    "# put your answer here"
   ]
  },
  {
   "cell_type": "markdown",
   "id": "709695f8",
   "metadata": {},
   "source": [
    "-----\n",
    "There are three bases $B_1$, $B_2$, and $B_3$ of $\\mathbb{R}^3$. We have the transition matrix $P_{12}$ from $B_1$ to $B_2$ and the transition matrix $P_{23}$ from $B_2$ to $B_3$. \n"
   ]
  },
  {
   "cell_type": "markdown",
   "id": "6416a5ee",
   "metadata": {},
   "source": [
    "<font color=blue> Write down the transition matrices $P_{12}$ and $P_{23}$ in terms of $B_1$ and $B_2$."
   ]
  },
  {
   "cell_type": "markdown",
   "id": "4c855175",
   "metadata": {},
   "source": []
  },
  {
   "cell_type": "markdown",
   "id": "a82928f2",
   "metadata": {},
   "source": [
    "<font color=blue> Using the above answer, find the transition matrices $P_{32}$ and $P_{13}$"
   ]
  },
  {
   "cell_type": "code",
   "execution_count": null,
   "id": "7a0a055d",
   "metadata": {},
   "outputs": [],
   "source": []
  },
  {
   "cell_type": "markdown",
   "id": "062811a0",
   "metadata": {},
   "source": [
    "<font color=blue>**Example**.  Write a function in python such that:\\\n",
    "(a) The input is two bases of a vector space as list lists.\\\n",
    "(b) Return the transition matrix from the first basis to the second."
   ]
  },
  {
   "cell_type": "code",
   "execution_count": 158,
   "id": "8e9d486b",
   "metadata": {},
   "outputs": [],
   "source": [
    "# put your answer here\n",
    "def transition_matrix(B1,B2):\n",
    "    #Change the matrices to np.arrays\n",
    "    B1=np.array(...)\n",
    "    B2=\n",
    "    #Concaatenate them using the np.concatenate function\n",
    "    B12=np.concatenate([B1,B2], axis=1)\n",
    "    #Turn it to sym matrix and apply rref\n",
    "    M = sym.Matrix(B12)\n",
    "    M = \n",
    "    #keep only the part of the matrix that you need.\n",
    "    M=\n",
    "    return M"
   ]
  },
  {
   "cell_type": "markdown",
   "id": "9c0256cf",
   "metadata": {},
   "source": [
    "<font color='blue'>**Example**. Apply the function you created on a random generated set of vectors:\n"
   ]
  },
  {
   "cell_type": "code",
   "execution_count": null,
   "id": "b08a778a",
   "metadata": {},
   "outputs": [],
   "source": [
    "ar1=np.random.randint(-1, 1, size=(10,10))\n",
    "ar2=np.random.randint(-1, 1, size=(10,10))\n",
    "..."
   ]
  }
 ],
 "metadata": {
  "kernelspec": {
   "display_name": "Python 3 (ipykernel)",
   "language": "python",
   "name": "python3"
  },
  "language_info": {
   "codemirror_mode": {
    "name": "ipython",
    "version": 3
   },
   "file_extension": ".py",
   "mimetype": "text/x-python",
   "name": "python",
   "nbconvert_exporter": "python",
   "pygments_lexer": "ipython3",
   "version": "3.11.3"
  }
 },
 "nbformat": 4,
 "nbformat_minor": 5
}
