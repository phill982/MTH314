{
 "cells": [
  {
   "cell_type": "markdown",
   "metadata": {},
   "source": [
    "In order to successfully complete this assignment, you must follow all the instructions in this notebook and upload your edited ipynb file to [D2L](http://d2l.msu.edu/) with **your answers** on or before **11:59 PM ET, Friday, September 08, 2023**.\n",
    "\n",
    " "
   ]
  },
  {
   "cell_type": "markdown",
   "metadata": {},
   "source": [
    "# Homework 1: Solving Systems of Linear Equations\n",
    "\n",
    "These problems are intended to give students exposure to the style of some of the questions asked on quizzes and help you practice. Please finish the entire Jupyter Notebook and turn in your edited file on D2L.\n",
    "\n",
    "You may collaborate with other students in this course. However, you may only share ideas with each other, not code or answers. \n",
    "\n",
    "**Also, note that your section's TA will run your code cells in order (top to bottom) in order to grade your homework submission. So please make sure your code cells work as you intend when you run them in order.**"
   ]
  },
  {
   "cell_type": "markdown",
   "metadata": {},
   "source": [
    "### Outline for Homework 1\n",
    "\n",
    "1. [Some systems](#Basics)\n",
    "1. [Working at MSU](#Working-at-MSU)\n",
    "1. [Balancing Chemical Equations](#Balancing-Chemical-Equations)\n",
    "1. [Traffic Control](#Traffic)\n",
    "\n",
    "\n",
    "For convenience, you can run the following cell to perform all the imports you'll need for this homework. You can also import packages in other cells if you wish."
   ]
  },
  {
   "cell_type": "code",
   "execution_count": 1,
   "metadata": {},
   "outputs": [],
   "source": [
    "#matplotlib inline \n",
    "#import matplotlib.pylab as plt\n",
    "import numpy as np\n",
    "import sympy as sym\n",
    "#sym.init_printing()\n",
    "#import os.path"
   ]
  },
  {
   "cell_type": "markdown",
   "metadata": {},
   "source": [
    "\n",
    "---\n",
    "# 1. Some systems (6 points)"
   ]
  },
  {
   "cell_type": "markdown",
   "metadata": {},
   "source": [
    "**<font color=red>QUESTION 1a:</font>** <font color=blue>(2 points) Consider the following augmented matrix $[A|b]$, in Reduced Row Echelon Form (RREF), representing a system of linear equations, $Ax=b$. Find ALL possible solutions, $x$, of the system, and justify your answer."
   ]
  },
  {
   "cell_type": "markdown",
   "metadata": {},
   "source": [
    "<font color=blue>$$[A|b] = \\left[ \\begin{matrix} 1 & 0 & 0 \\\\ 0 & 1 & 0  \\\\ 0 & 0 & 1  \\end{matrix} \\, \\middle\\vert \\, \\begin{matrix} 5 \\\\ 2 \\\\ -3 \\end{matrix} \\right]$$"
   ]
  },
  {
   "cell_type": "code",
   "execution_count": 10,
   "metadata": {},
   "outputs": [
    {
     "name": "stdout",
     "output_type": "stream",
     "text": [
      "x =5, y=2, and z = -3\n"
     ]
    }
   ],
   "source": [
    "print(\"x =5, y=2, and z = -3\") "
   ]
  },
  {
   "cell_type": "markdown",
   "metadata": {},
   "source": [
    "**<font color=red>QUESTION 1b:</font>** <font color=blue>(2 points) Consider the following augmented matrix $[B|c]$, in Reduced Row Echelon Form (RREF), representing a system of linear equations, $Bx=c$. Find ALL possible solutions, $x$, of the system, and justify your answer.\n",
    "\n",
    "<font color=blue>$$[B|c] = \\left[ \\begin{matrix} 1 & 0 & -3 & 1\\\\ 0 & 1 & 4 & 0\\\\ 0 & 0 & 0 & 1 \\\\ 0 & 0 & 0 & 0 \\end{matrix} \\, \\middle\\vert \\, \\begin{matrix} 4 \\\\ -5 \\\\ 8 \\\\ 3\\end{matrix} \\right]$$"
   ]
  },
  {
   "cell_type": "code",
   "execution_count": 9,
   "metadata": {},
   "outputs": [
    {
     "name": "stdout",
     "output_type": "stream",
     "text": [
      "There are no possible solutions becuase of the bottom row. 0 = 3. 0 does not equal three, so the system is inconsistent.\n"
     ]
    }
   ],
   "source": [
    "print(\"There are no possible solutions becuase of the bottom row. 0 = 3. 0 does not equal three, so the system is inconsistent.\")"
   ]
  },
  {
   "cell_type": "markdown",
   "metadata": {},
   "source": [
    "**<font color=red>QUESTION 1c:</font>** <font color=blue>(2 points) Consider the following augmented matrix $[C|d]$, in Reduced Row Echelon Form (RREF), representing a system of linear equations, $Cx=d$. Find ALL possible solutions, $x$, of the system, and justify your answer.\n",
    "\n",
    "<font color=blue>$$[C|d] = \\left[ \\begin{matrix} 1 & 0 & -2 \\\\ 0 & 1 & 1  \\\\ 0 & 0 & 0  \\end{matrix} \\, \\middle\\vert \\, \\begin{matrix} 3 \\\\ -2 \\\\ 0\\end{matrix} \\right]$$"
   ]
  },
  {
   "cell_type": "code",
   "execution_count": 8,
   "metadata": {},
   "outputs": [
    {
     "name": "stdout",
     "output_type": "stream",
     "text": [
      "There are infinitely many solutions because of the bottom row. 0= 0, so there is a free variable in the system.\n"
     ]
    }
   ],
   "source": [
    "print(\"There are infinitely many solutions because of the bottom row. 0= 0, so there is a free variable in the system.\")"
   ]
  },
  {
   "cell_type": "markdown",
   "metadata": {},
   "source": [
    "---\n",
    "<a name=Working-at-MSU></a>\n",
    "# 2. Working at MSU (6 points)"
   ]
  },
  {
   "cell_type": "markdown",
   "metadata": {},
   "source": [
    "George works at MSU as both a clerical assistant and a learning assistant. He gets paid $\\$15$ an hour for working as a clerical assistant and $\\$18$ an hour for working as a learning assistant. Last week, he worked a total of $25$ hours and earned a total of  $\\$425$. If we let $c$ to be the number of hours George worked as a clerical assistant and $l$ to be the number of hours he worked as a learning assistant then we get a system of two equations:\n"
   ]
  },
  {
   "cell_type": "markdown",
   "metadata": {},
   "source": [
    "**<font color=red>QUESTION 2a:</font>** <font color=blue> (2 points) Write down the two equations."
   ]
  },
  {
   "cell_type": "code",
   "execution_count": null,
   "metadata": {},
   "outputs": [],
   "source": [
    "# c + l = 25\n",
    "# 15c +18l = 425"
   ]
  },
  {
   "cell_type": "markdown",
   "metadata": {},
   "source": [
    "**<font color=red>QUESTION 2b:</font>** <font color=blue> (6 points)  Represent the above system of equations as a matrix equation of the form $Ax = b$ and then solve the system and display your answer. In particular, mention how many hours he worked as a clerical assistant and how many hours as a learning assistant."
   ]
  },
  {
   "cell_type": "code",
   "execution_count": 7,
   "metadata": {},
   "outputs": [
    {
     "name": "stdout",
     "output_type": "stream",
     "text": [
      "so the time he spent as a clerical assistant is approx 8.33 hours\n",
      "and the time he spent as a learning assistant is approx 16.66 hours\n"
     ]
    }
   ],
   "source": [
    "#the matrix is\n",
    "#\n",
    "#  1   1  25\n",
    "# 15  18  425\n",
    "#\n",
    "# This simplifies in RREF form \n",
    "#  1  0 25/3\n",
    "#  0  1  50/3 \n",
    "#\n",
    "print(\"so the time he spent as a clerical assistant is approx 8.33 hours,\") \n",
    "print(\"and the time he spent as a learning assistant is approx 16.66 hours\")\n"
   ]
  },
  {
   "cell_type": "markdown",
   "metadata": {},
   "source": [
    "----\n",
    "<a name=Balancing-Chemical-Equations></a>\n",
    "# 3. Balancing Chemical Equations (6 points)\n",
    "\n",
    "<img src = \"https://upload.wikimedia.org/wikipedia/commons/7/7c/Combustion_reaction_of_methane.jpg\" width = 500>\n",
    "\n",
    "\n",
    "\n",
    "A chemical formula is a symbolic representation which shows how many atoms of each element make up a molecule. For example, water (denoted by $H_2O$) is a molecule with two $H$ (hydrogen) atoms and one $O$ (oxygen) atom. A chemical equation is the symbolic representation of a chemical reaction, wherein the reactant molecules are given on the left-hand side and the product molecules on the right-hand side. The coefficients of the symbols represent the number of molecules of each chemical required to preserve matter in the chemical reaction. \n",
    "\n",
    "For example, the process of burning methane is represented by the chemical equation\n",
    "\n",
    "$$ 1 CH_4 + 2 O_2 \\rightarrow 1CO_2 + 2 H_2O$$\n",
    "\n",
    "The above equation shows that one molecule of $CH_4$ (methane) and two molecules of $O_2$ (oxygen) turn into one molecule of $CO_2$ (carbon dioxide) and two molecules of $H_2O$ (water). We see there are a total of one $C$ (carbon) atom, four $H$ (hydrogen) atoms, and four $O$ (oxygen) atoms on the left side, and the same on the right side. So matter is neither created nor destroyed by the reaction. \n",
    "\n",
    "Now, suppose that we know that burning methane requires $CH_4$ (methane) and $O_2$ (oxygen) molecules and produces $CO_2$ (carbon dioxide) and $H_2O$ (water) molecules, but we don't know how many of each molecule are required for the reaction to take place or how many of each molecule are will be produced by the reaction. \n",
    "\n",
    "We can assign coefficients that represent the number of each molecule involved in the reaction like this:  \n",
    "\n",
    "$$x_1 CH_4 + x_2 O_2 \\rightarrow x_3 CO_2 + x_4 H_2O$$\n",
    "\n",
    "Here we see that each molecule in the reaction gives us an unknown variable. For each element, we can obtain an equation in these variables by using the fact that the total number of atoms of that element on the left side and right side must be equal:\n",
    "\n",
    "$$ C: x_1  = x_3 $$\n",
    "$$ H: 4x_1 = 2x_4$$\n",
    "$$ O: 2x_2 = 2x_3 + x_4$$\n",
    "\n",
    "We can convert represent this system of equations by the augmented matrix $$ \\left[ \\begin{matrix} 1 & 0 & -1 & 0 \\\\ 4 & 0 & 0 &-2 \\\\ 0 & 2 & -2 & -1  \\end{matrix} \\, \\middle\\vert \\, \\begin{matrix} 0 \\\\ 0 \\\\ 0 \\end{matrix} \\right]\n",
    "\\stackrel{RREF}{\\longrightarrow}\n",
    "\\left[ \\begin{matrix} 1 & 0 & 0 & -0.5 \\\\ 0 & 1 & 0 &-1 \\\\ 0 & 0 & 1 & -0.5  \\end{matrix} \\, \\middle\\vert \\, \\begin{matrix} 0 \\\\ 0 \\\\ 0 \\end{matrix} \\right]$$\n",
    "\n",
    "This leads us to equations $$x_1 - \\frac 1 2 x_4 = 0$$\n",
    "\n",
    "$$ x_2 -  x_4 = 0$$\n",
    "\n",
    "$$ x_3 - \\frac 1 2 x_4 = 0$$\n",
    "\n",
    "To get integer values for our solution we can take $x_4 =2$ and see that $x_1 = 1, x_2 = 2,$ and $x_3 = 1$, which is consistent with the chemical equation for burning methane.\n",
    "\n",
    "---\n",
    "<font color=blue> For \"simple\" chemical reactions, balancing the formula by solving a system of linear equations might seem like overkill, as the coefficients are usually small and be obtained by guessing and checking. However, for more complicated chemical reactions, this method has value. \n",
    "\n",
    "<font color=blue>The (unbalanced) chemical reaction \n",
    "<font color=blue>$$\n",
    "\\text{NaOH} +  \\text{S} \\rightarrow  \\text{Na}_2\\text{S} + \\text{Na}_2\\text{S}_2\\text{O}_3 +  \\text{H}_2\\text{O}\n",
    "$$\n",
    "<font color=blue>represents the production of sodium thiosulfate $\\text{Na}_2\\text{S}_2\\text{O}_3$ by boiling aqueous sodium hydroxide $\\text{NaOH}$ and sulfur $\\text{S}$.\n",
    "\n",
    "<font color=blue>To balance this reaction, we will once again assign coefficients for each molecule in the reaction\n",
    "\n",
    "<font color=blue>$$\n",
    "x_1\\text{NaOH} + x_2 \\text{S} \\rightarrow  x_3\\text{Na}_2\\text{S} + x_4\\text{Na}_2\\text{S}_2\\text{O}_3 + x_5 \\text{H}_2\\text{O}\n",
    "$$\n",
    "\n",
    "<font color=blue>Again, for each element, we will have one equation which arises from the fact that the number of atoms of that element on the left and right sides must be equal. Write down the (four) equations:"
   ]
  },
  {
   "cell_type": "code",
   "execution_count": 6,
   "metadata": {},
   "outputs": [
    {
     "name": "stdout",
     "output_type": "stream",
     "text": [
      "Na: x1 = 2x3 + 2x4\n",
      "O: x1 = 3x4+ x5\n",
      "H: x1 = 2x5\n",
      "S: x2 = x3+ 2x4\n"
     ]
    }
   ],
   "source": [
    "print(\"Na: x1 = 2x3 + 2x4\")\n",
    "print(\"O: x1 = 3x4+ x5\")\n",
    "print(\"H: x1 = 2x5\")\n",
    "print(\"S: x2 = x3+ 2x4\")"
   ]
  },
  {
   "cell_type": "markdown",
   "metadata": {},
   "source": [
    "**<font color=red>QUESTION 3a:</font>** <font color=blue>(2 points) Rewrite the above system in **row form** below. We've included $\\LaTeX$ code to display something resembling the row form of a system of equations. All you need to do is replace the $?$'s with the appropriate numbers.\n",
    "\n",
    "**Double click this cell and edit the equations below:**\n",
    "\n",
    "$$1x_1 + 0x_2 - 2x_3 - 2x_4 + 0x_5  = 0$$\n",
    "\n",
    "$$1x_1 + 0x_2 + 0x_3 - 3x_4 - 1x_5  = 0$$\n",
    "\n",
    "$$1x_1 + 0x_2 + 0x_3 + 0x_4 - 2x_5 = 0$$\n",
    "\n",
    "$$0x_1 + 1x_2 - 1x_3 - 2x_4 + 0x_5  = 0$$"
   ]
  },
  {
   "cell_type": "code",
   "execution_count": null,
   "metadata": {},
   "outputs": [],
   "source": [
    "# 1 0 -2 -2 0 0\n",
    "# 1 0 0 -3 -1 0\n",
    "# 1 0 0  0 -2 0\n",
    "# 0 1 -1 -2 0 0"
   ]
  },
  {
   "cell_type": "markdown",
   "metadata": {},
   "source": [
    "**<font color=red>QUESTION 3b:</font>** \n",
    "<font color=blue> (2 points) Find the reduced row echelon form of the system above. Show some work (either by hand or coding)"
   ]
  },
  {
   "cell_type": "code",
   "execution_count": 11,
   "metadata": {},
   "outputs": [
    {
     "name": "stdout",
     "output_type": "stream",
     "text": [
      "RREF:\n",
      "1 0 0 0  -2  0\n",
      "0 1 0 0 -4/3 0\n",
      "0 0 1 0 -2/3 0\n",
      "0 0 0 1 -1/3 0\n"
     ]
    }
   ],
   "source": [
    "# steps: \n",
    "# 1. R2 = R2 - R1\n",
    "# 2. R3 = R3- R1\n",
    "# 3. Swap R2 and R4\n",
    "# 4. R3 = R3/2 \n",
    "# 5. R1 = R1 + 2R3\n",
    "# 6. R2 = R2 + R3\n",
    "# 7. R4 =R4 - 2R3 \n",
    "# 8. R4 = -R4/3 \n",
    "# 9. R2 = R2 + R4\n",
    "# 10. R3 = R3 - R4\n",
    "print(\"RREF:\")\n",
    "print(\"1 0 0 0  -2  0\")  \n",
    "print(\"0 1 0 0 -4/3 0\")\n",
    "print(\"0 0 1 0 -2/3 0\")\n",
    "print(\"0 0 0 1 -1/3 0\")"
   ]
  },
  {
   "cell_type": "markdown",
   "metadata": {},
   "source": [
    "**<font color=red>QUESTION 3c:</font>** <font color=blue> (2 points) Find the solution to this system of equations for which $x_1,x_2,x_3,x_4,x_5$ are all positive integers and $x_5=3$. Save your answer as ``solution`` which is the list $[x_1,x_2,x_3,x_4,x_5]$"
   ]
  },
  {
   "cell_type": "code",
   "execution_count": 5,
   "metadata": {},
   "outputs": [
    {
     "name": "stdout",
     "output_type": "stream",
     "text": [
      "[6, 4, 2, 1, 3]\n"
     ]
    }
   ],
   "source": [
    "# if x5 = 3: \n",
    "# x1 = 2 x 3 \n",
    "# x2 = 4/3 x 3\n",
    "# x3 = 2/3 x 3\n",
    "# x4 = 1/3 x 3\n",
    "solution = [6,4,2,1,3]\n",
    "print(solution)"
   ]
  },
  {
   "attachments": {
    "Traffic-2.png": {
     "image/png": "[encoded data removed]"
    }
   },
   "cell_type": "markdown",
   "metadata": {},
   "source": [
    "---\n",
    "\n",
    "# 4. Traffic Control (7 points)\n",
    "\n",
    "![Traffic-2.png](attachment:Traffic-2.png)\n",
    "\n",
    "#### The city of Lansing is trying to resolve traffic congestion at the intersections of Saginaw, Larch, Michigan, and Cedar, as shown in the figure above. The streets are one-way, as indicated by the arrows.\n",
    "\n",
    "The city wishes to improve the signals at these corners so as to speed the trafic flow. The data the traffic engineers have gathered shows the following:\n",
    "* 200 cars/hour enter intersection A on Saginaw.\n",
    "* 300 cars/hour enter intersection A on Cedar.\n",
    "* 100 cars/hour leave intersection B on Larch.\n",
    "* 200 cars/hour leave intersection B on Saginaw.\n",
    "* 500 cars/hour enter intersection C on Michigan.\n",
    "* 300 cars/hour enter intersection C on Larch.\n",
    "* 400 cars/hour leave intersection D on Cedar.\n",
    "* 600 cars/hour leave intersection D on Michigan.\n",
    "\n",
    "We can then use the variables:\n",
    "* $x_1$ to denote the number of cars/hour leaving intersection A and entering intersection B on Saginaw\n",
    "* $x_2$ to denote the number of cars/hour leaving intersection A and entering intersection D on Cedar\n",
    "* $x_3$ to denote the number of cars/hour leaving intersection C and entering intersection D on Michigan\n",
    "* $x_4$ to denote the number of cars/hour leaving intersection C and entering intersection B on Larch\n",
    "\n",
    "The number of cars entering intersection B must equal the number leaving intersection B, so \n",
    "$$x_1+x_4 = 100+200$$\n",
    "or equivalently\n",
    "$$x_1+x_4 = 300$$"
   ]
  },
  {
   "cell_type": "markdown",
   "metadata": {},
   "source": [
    "**<font color=red>Question 4a:</font>** <font color=blue> Write the three equations represeting the traffic entering and leaving intersections A, C, and D."
   ]
  },
  {
   "cell_type": "markdown",
   "metadata": {},
   "source": [
    "<font color=blue> Put your answer to the above question here.\n",
    "\n",
    "<font color=blue> Intersection A: x1 + x2 = 500\n",
    "\n",
    "<font color=blue> Intersection C: x3 + x4 = 800\n",
    "\n",
    "<font color=blue> Intersection D:x2 + x3 = 1000"
   ]
  },
  {
   "cell_type": "markdown",
   "metadata": {},
   "source": [
    "**<font color=red>Question 4b:</font>** <font color=blue> Write down the above system in matrix form and find the row reduced echelon form of the agumented matrix. Show your work."
   ]
  },
  {
   "cell_type": "code",
   "execution_count": 12,
   "metadata": {},
   "outputs": [],
   "source": [
    "###ANSWER\n",
    "# Matrix Form \n",
    "# 1 1 0 0 500 \n",
    "# 0 0 1 1 800\n",
    "# 0 1 1 0 1000\n",
    "\n",
    "# swap R2 and R3\n",
    "# 1 1 0 0 500\n",
    "# 0 1 1 0 1000\n",
    "# 0 0 1 1 800\n",
    "\n",
    "# R1 = R1 - R2\n",
    "# 1 0 -1 0 -500\n",
    "# 0 1 1 0 1000\n",
    "# 0 0 1 1 800\n",
    "\n",
    "#R1 = R1 + R3\n",
    "# 1 0 0 1 300 \n",
    "# 0 1 1 0 1000\n",
    "# 0 0 1 1 800\n",
    "\n",
    "# R2 = R2 - R3 (FINAL MATRIX in RREF)\n",
    "# 1 0 0 1 300 \n",
    "# 0 1 0 -1 200\n",
    "# 0 0 1 1 800\n",
    "\n",
    "\n",
    "\n"
   ]
  },
  {
   "cell_type": "markdown",
   "metadata": {},
   "source": [
    "---"
   ]
  },
  {
   "cell_type": "markdown",
   "metadata": {},
   "source": [
    "**<font color=red>Question 4c:</font>** <font color=blue> The solution to this system of equations (with $x_4$ as a parameter) is: \n",
    "$$x_1 = 300-x4$$\n",
    "$$x_2 = 200 + x4$$\n",
    "$$x_3 = 800-x4$$\n",
    "$$x_4 = param (120) $$"
   ]
  },
  {
   "cell_type": "markdown",
   "metadata": {},
   "source": [
    "&#9989; **<font color=red>Question 4d:</font>** <font color=blue> Based on your solution in 4c, what is the solution of the system of the number if cars/hour leaving intersection C and entering intersection B on Larch is 120? Justify your answer."
   ]
  },
  {
   "cell_type": "code",
   "execution_count": 15,
   "metadata": {},
   "outputs": [],
   "source": [
    "#Put your answer to the above question here\n",
    "# x1 = 180 cars/ hour \n",
    "# x2 = 320 cars/hour\n",
    "# x3 = 680 card/hour \n",
    "# x4 = 120 (given)"
   ]
  },
  {
   "cell_type": "markdown",
   "metadata": {},
   "source": [
    "##                                       Congratulations! You are done!"
   ]
  }
 ],
 "metadata": {
  "celltoolbar": "Create Assignment",
  "kernelspec": {
   "display_name": "Python 3.8",
   "language": "python",
   "name": "python3"
  },
  "language_info": {
   "codemirror_mode": {
    "name": "ipython",
    "version": 3
   },
   "file_extension": ".py",
   "mimetype": "text/x-python",
   "name": "python",
   "nbconvert_exporter": "python",
   "pygments_lexer": "ipython3",
   "version": "3.8.8"
  },
  "vscode": {
   "interpreter": {
    "hash": "8b2c85dee4b15c10153756b0027e296b51ea001992bd346e27370dd8f71df9c4"
   }
  }
 },
 "nbformat": 4,
 "nbformat_minor": 4
}
