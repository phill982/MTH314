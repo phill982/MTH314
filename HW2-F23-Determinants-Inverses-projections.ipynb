{
 "cells": [
  {
   "cell_type": "markdown",
   "metadata": {},
   "source": [
    "**Deadline:** In order to successfully complete this assignment, you must follow all the instructions in this notebook and upload your edited ipynb file to [D2L](http://d2l.msu.edu/) with your answers on or before **Friday, September 29 at 11:59pm ET**."
   ]
  },
  {
   "cell_type": "markdown",
   "metadata": {},
   "source": [
    "# Homework 2: "
   ]
  },
  {
   "cell_type": "markdown",
   "metadata": {},
   "source": [
    "\n",
    "\n",
    "These problems are intended to give students exposure to the style of some of the questions asked on quizzes and help you practice. Please finish the entire Jupyter Notebook and turn in your edited file on D2L.\n",
    "\n",
    "You may collaborate with other students in this course. However, you may only share ideas with each other, not code or answers.\n",
    "\n",
    "**Also, note that your section's TA will run your code cells in order (top to bottom) in order to grade your homework submission. So please make sure your code cells work as you intend when you run them in order.**\n",
    "\n",
    "**BIG HINT:** Read the entire homework before starting.  "
   ]
  },
  {
   "cell_type": "code",
   "execution_count": null,
   "metadata": {},
   "outputs": [],
   "source": [
    "# Here are some libraries you may need to use\n",
    "%matplotlib inline\n",
    "import matplotlib.pylab as plt\n",
    "\n",
    "import numpy as np\n",
    "import sympy as sym"
   ]
  },
  {
   "cell_type": "markdown",
   "metadata": {},
   "source": [
    "---"
   ]
  },
  {
   "cell_type": "markdown",
   "metadata": {},
   "source": [
    "# 1. (15 pts) Determinants and cross products "
   ]
  },
  {
   "cell_type": "markdown",
   "metadata": {},
   "source": [
    "In $\\mathbb{R}^3$, the vectors\n",
    "$$\n",
    "\\mathbf{i}=\\begin{bmatrix}\n",
    "1\\\\\n",
    "0\\\\\n",
    "0\n",
    "\\end{bmatrix}\n",
    ",\\,\\,\\,\\,\\,\n",
    "\\mathbf{j}=\\begin{bmatrix}\n",
    "0\\\\\n",
    "1\\\\\n",
    "0\n",
    "\\end{bmatrix}\n",
    ",\\,\\,\\,\\,\\,\n",
    "\\mathbf{k}=\\begin{bmatrix}\n",
    "0\\\\\n",
    "0\\\\\n",
    "1\n",
    "\\end{bmatrix}\n",
    "$$\n",
    "define the _standard basis_.\n"
   ]
  },
  {
   "cell_type": "markdown",
   "metadata": {},
   "source": [
    "For any arbitrary two vectors in $\\mathbb{R}^3$\n",
    "$$\n",
    "\\mathbf{x}=\\begin{bmatrix}\n",
    "x_1\\\\\n",
    "x_2\\\\\n",
    "x_3\n",
    "\\end{bmatrix}\n",
    ",\\,\\,\\,\\,\\,\n",
    "\\mathbf{y}=\\begin{bmatrix}\n",
    "y_1\\\\\n",
    "y_2\\\\\n",
    "y_3\n",
    "\\end{bmatrix}\n",
    "\\,\\,\\,\\,\\,\n",
    "$$\n",
    "\n",
    "we define a new **vector** that is called the **cross product** of $\\mathbf{x}$ and $\\mathbf{y}$ (and denoted by $\\mathbf{x} \\times \\mathbf{y}$) by\n",
    "\n",
    "$$\n",
    "\\begin{align*}\n",
    "\\mathbf{x} \\times \\mathbf{y}\n",
    "&= \\det\\begin{bmatrix}x_2 & x_3 \\\\ y_2 & y_3\\end{bmatrix} \\mathbf{i} - \\det\\begin{bmatrix}x_1 & x_3 \\\\ y_1 & y_3\\end{bmatrix} \\mathbf{j} + \\det\\begin{bmatrix}x_1 & x_2 \\\\ y_1 & y_2\\end{bmatrix} \\mathbf{k}, \\qquad \\tag{*}\n",
    "\\end{align*}\n",
    "$$\n",
    "\n",
    "A symbolic way to remember the definition of the cross product is the following:\n",
    "$$\n",
    "\\mathbf{x} \\times \\mathbf{y} \n",
    "\\sim\n",
    "\\det\\begin{bmatrix}\n",
    "\\mathbf{i} & \\mathbf{j} & \\mathbf{k} \\\\ x_1 & x_2 & x_3  \\\\ y_1 & y_2 & y_3 \n",
    "\\end{bmatrix}\n",
    "$$\n",
    "This expression doesn't quite make sense since the entries in the first row of the matrix are vectors while the entries in the second and third rows are scalars. However, if we ignore this fact and perform cofactor expansion along the first row, we will get $(*)$."
   ]
  },
  {
   "cell_type": "markdown",
   "metadata": {},
   "source": [
    "**<font color=red>QUESTION 1.1:</font>** <font color=blue> (3 pts)\n",
    "Complete the calculation in $(*)$ and write down three coordinates of $\\mathbf{x} \\times \\mathbf{y}$."
   ]
  },
  {
   "cell_type": "code",
   "execution_count": null,
   "metadata": {},
   "outputs": [],
   "source": []
  },
  {
   "cell_type": "markdown",
   "metadata": {},
   "source": [
    "**<font color=red>QUESTION 1.2:</font>** <font color=blue> (2 pts) Calculate and show your calculations: $\\mathbf{i} \\times \\mathbf{j}$,$\\ $   $\\mathbf{j} \\times \\mathbf{k}$, $\\ $  $\\mathbf{k} \\times \\mathbf{i}$,  $\\ $  $\\mathbf{j} \\times \\mathbf{i}$, $\\ $   $\\mathbf{k} \\times \\mathbf{j}$,$\\ $   $\\mathbf{i} \\times \\mathbf{k}$.  "
   ]
  },
  {
   "cell_type": "code",
   "execution_count": null,
   "metadata": {},
   "outputs": [],
   "source": []
  },
  {
   "cell_type": "markdown",
   "metadata": {},
   "source": [
    "**<font color=red>QUESTION 1.3:</font>** <font color=blue> (2 pts) Calculate $\\mathbf{x} \\times \\mathbf{x}$. Explain the result."
   ]
  },
  {
   "cell_type": "code",
   "execution_count": null,
   "metadata": {},
   "outputs": [],
   "source": []
  },
  {
   "cell_type": "markdown",
   "metadata": {},
   "source": [
    "**<font color=red>QUESTION 1.4:</font>** <font color=blue> (2 pts)  If $\\mathbf{x}, \\mathbf{y}$ are two arbitrary vectors in $\\mathbb{R}^3$, does it hold $\\mathbf{x} \\times \\mathbf{y}= \\mathbf{y} \\times \\mathbf{x}$? Explain."
   ]
  },
  {
   "cell_type": "code",
   "execution_count": null,
   "metadata": {},
   "outputs": [],
   "source": []
  },
  {
   "cell_type": "markdown",
   "metadata": {},
   "source": [
    "**<font color=red>QUESTION 1.5:</font>** <font color=blue> (2 pts)\n",
    "One intersting fact is that $\\mathbf{x} \\times \\mathbf{y}$ is orthogonal to both $\\mathbf{x}$ and $\\mathbf{y}$. Verify this by calculating $(\\mathbf{x} \\times \\mathbf{y}) \\cdot \\mathbf{x}$ and $(\\mathbf{x} \\times \\mathbf{y}) \\cdot \\mathbf{y}$ for the two arbitrary vectors $\\mathbf{x}$ and $\\mathbf{y}$ in $\\mathbb{R}^3$ defined above. Be sure to show your work."
   ]
  },
  {
   "cell_type": "code",
   "execution_count": null,
   "metadata": {},
   "outputs": [],
   "source": []
  },
  {
   "cell_type": "markdown",
   "metadata": {},
   "source": [
    "**<font color=red>QUESTION 1.6 (a):</font>** <font color=blue> (4 pts)\n",
    "Write your own code for cross product below. Do NOT use numpy. The cross product is only defined for vectors in $\\mathbb{R}^3$. So, make sure that your code checks that both input vectors are in $\\mathbb{R}^3$ before computing the cross product, and displays some sort of error message if either vector is not in $\\mathbb{R}^3$. "
   ]
  },
  {
   "cell_type": "code",
   "execution_count": null,
   "metadata": {},
   "outputs": [],
   "source": [
    "def my_crossproduct(x,y): \n"
   ]
  },
  {
   "cell_type": "markdown",
   "metadata": {},
   "source": [
    "**<font color=red>QUESTION 1.6 (b):</font>** <font color=blue> Test the ```my_crossproduct(x,y)``` with following vectors:"
   ]
  },
  {
   "cell_type": "code",
   "execution_count": null,
   "metadata": {},
   "outputs": [],
   "source": [
    "x0 = np.array( [1,2,3] )\n",
    "y0 = np.array( [2,2,2] )\n"
   ]
  },
  {
   "cell_type": "code",
   "execution_count": null,
   "metadata": {},
   "outputs": [],
   "source": [
    "x1 = np.array( [1,2,3,6] )\n",
    "y1 = np.array( [2,2,2,-1] )\n"
   ]
  },
  {
   "cell_type": "markdown",
   "metadata": {},
   "source": [
    "**<font color=red>QUESTION 1.6 (c):</font>** <font color=blue> Numpy has a built-in function that can caluculate the cross product of two vectors.  Compare the the built-in function ```np.cross(x,y)```."
   ]
  },
  {
   "cell_type": "code",
   "execution_count": null,
   "metadata": {},
   "outputs": [],
   "source": [
    "np.cross(... , ...)"
   ]
  },
  {
   "cell_type": "code",
   "execution_count": null,
   "metadata": {},
   "outputs": [],
   "source": []
  },
  {
   "cell_type": "markdown",
   "metadata": {},
   "source": [
    "---"
   ]
  },
  {
   "cell_type": "markdown",
   "metadata": {},
   "source": [
    "# 2.  (10 pts) Projections and more "
   ]
  },
  {
   "cell_type": "markdown",
   "metadata": {},
   "source": [
    "**<font color=red>QUESTION 2.1:</font>**<font color= blue> (3 pts) Create a function called ```are_orthogonal``` that takes two vectors as arguments and checks if two vectors are orthogonal and prints a message informing us. Make sure the function works for vectors of the same size."
   ]
  },
  {
   "cell_type": "code",
   "execution_count": null,
   "metadata": {},
   "outputs": [],
   "source": [
    "def are_orthogonal(u,v):\n"
   ]
  },
  {
   "cell_type": "markdown",
   "metadata": {},
   "source": [
    "**<font color=red>(a) </font>**<font color= blue> Test the function you created with the vectors $u=[1, 2, 3, 4]$ and $v=[-1, 0, 2, -3]$"
   ]
  },
  {
   "cell_type": "code",
   "execution_count": null,
   "metadata": {},
   "outputs": [],
   "source": []
  },
  {
   "cell_type": "markdown",
   "metadata": {},
   "source": [
    "**<font color=red>(b) </font>**<font color= blue> Test the function you created with the vectors $u=[1, 2, -3, 5]$ and $v=[-1, 0, -2, -1]$"
   ]
  },
  {
   "cell_type": "code",
   "execution_count": null,
   "metadata": {},
   "outputs": [],
   "source": []
  },
  {
   "cell_type": "markdown",
   "metadata": {},
   "source": [
    "**<font color=red>(c) </font>**<font color= blue> Test the function you created with the vectors $u=[1, 2, -3, 4]$ and $v=[-1, 0, -4]$"
   ]
  },
  {
   "cell_type": "code",
   "execution_count": null,
   "metadata": {},
   "outputs": [],
   "source": []
  },
  {
   "cell_type": "markdown",
   "metadata": {},
   "source": [
    "**<font color=red>QUESTION 2.2:</font>**<font color= blue> (3 pts) Create a function called ```my_proj``` that takes two vectors as arguments and calculates the projection of one of the vectors onto the other."
   ]
  },
  {
   "cell_type": "code",
   "execution_count": null,
   "metadata": {},
   "outputs": [],
   "source": [
    "def my_proj(v,u):\n"
   ]
  },
  {
   "cell_type": "markdown",
   "metadata": {},
   "source": [
    "**<font color=red>(a) </font>**<font color= blue> Find the projection of $[1, 2, 3, 4]$ onto $[-1, 0, 2, -3]$"
   ]
  },
  {
   "cell_type": "code",
   "execution_count": null,
   "metadata": {},
   "outputs": [],
   "source": []
  },
  {
   "cell_type": "markdown",
   "metadata": {},
   "source": [
    "**<font color=red>(b)</font>**<font color= blue> Find the projection of $[1, 2, -3, 5]$ onto $[-1, 0, -2, -1]$ and explain your answer."
   ]
  },
  {
   "cell_type": "code",
   "execution_count": null,
   "metadata": {},
   "outputs": [],
   "source": []
  },
  {
   "cell_type": "code",
   "execution_count": null,
   "metadata": {},
   "outputs": [],
   "source": []
  },
  {
   "cell_type": "markdown",
   "metadata": {},
   "source": [
    "**<font color=red>(c)</font>**<font color= blue> Find the projection of $[-1, 0, 2, -3]$ onto $[2, 0, -4, 6]$ and explain your answer."
   ]
  },
  {
   "cell_type": "code",
   "execution_count": null,
   "metadata": {},
   "outputs": [],
   "source": []
  },
  {
   "cell_type": "code",
   "execution_count": null,
   "metadata": {},
   "outputs": [],
   "source": []
  },
  {
   "attachments": {
    "Screenshot%202023-09-19%20202715-2.png": {
     "image/png": "[encoded data removed]"
    }
   },
   "cell_type": "markdown",
   "metadata": {},
   "source": [
    "**<font color=red>QUESTION 2.3:</font>** (4 pts) To define a plane in the 3D space you need to know a point and a vector perpendicular to the plane. Let's take a vector $\\mathbf{n}=[a, b, c]$ and a point $P_0(x_0,y_0,z_0)$. The plane that passes through $P_0$ and is perpendicular to $\\mathbf{n}$ is \n",
    "$$\n",
    "ax+by+cz+d=0\n",
    "$$\n",
    "where $d=-ax_0-by_0-cz_0$.\n",
    "    \n",
    "If $P_1(x_1,y_1,z_1)$ is a point outside of the plane, we can calculate its distance from the plane: \n",
    "    $$\n",
    "    \\text{Distance}=|\\text{proj}_{\\mathbf{n}}\\mathbf{v}|  \\hspace{1cm} (**)\n",
    "    $$\n",
    "    \n",
    "as you can see in the following picture, where $\\mathbf{v}=\\vec{P_1P_0}$.\n",
    "    \n",
    "![Screenshot%202023-09-19%20202715-2.png](attachment:Screenshot%202023-09-19%20202715-2.png)\n"
   ]
  },
  {
   "cell_type": "markdown",
   "metadata": {},
   "source": [
    "<font color= blue> Find the distance between the point $P_1\\left(\\frac{1}{2},0,0\\right)$ from the plane $5x + y - z - 1 = 0$. Follow the steps:  \n",
    "(1) Find a point $P_0$ on the plane i.e. find one solution to the linear equation describing the plane.\\\n",
    "(2) Apply the distance formula $(**)$ and the function you created on 2.2."
   ]
  },
  {
   "cell_type": "code",
   "execution_count": null,
   "metadata": {},
   "outputs": [],
   "source": []
  },
  {
   "cell_type": "code",
   "execution_count": null,
   "metadata": {},
   "outputs": [],
   "source": []
  },
  {
   "cell_type": "markdown",
   "metadata": {},
   "source": [
    "<font color= blue> "
   ]
  },
  {
   "cell_type": "markdown",
   "metadata": {},
   "source": [
    "---"
   ]
  },
  {
   "cell_type": "markdown",
   "metadata": {},
   "source": [
    "# 3.  (10 pts) Elementary matrices"
   ]
  },
  {
   "cell_type": "markdown",
   "metadata": {},
   "source": [
    "$$A=\\begin{bmatrix} 3&0&1\\\\0&2&-8\\\\-2&2&-9 \\end{bmatrix}$$\n",
    "\n",
    "**<font color=red>QUESTION 3.1:</font>**<font color= blue> (7 pts) The matrix $A$ is invertible. Find all the elementary matrices that transform $A$ to the identity matrix $I$. That is, if \n",
    "$$\n",
    "I=E_pE_{p-1}\\cdots E_1 A  \\hspace{1cm} (***)\n",
    "$$\n",
    "find all the matrices $E$ (you will also find how many they are, i.e, $p$).  Recall, an elementary matrix comes from the identiy by performing one of the three row operations."
   ]
  },
  {
   "cell_type": "code",
   "execution_count": null,
   "metadata": {},
   "outputs": [],
   "source": []
  },
  {
   "cell_type": "code",
   "execution_count": null,
   "metadata": {},
   "outputs": [],
   "source": []
  },
  {
   "cell_type": "code",
   "execution_count": null,
   "metadata": {},
   "outputs": [],
   "source": [
    "\n",
    "       "
   ]
  },
  {
   "cell_type": "code",
   "execution_count": null,
   "metadata": {},
   "outputs": [],
   "source": []
  },
  {
   "cell_type": "code",
   "execution_count": null,
   "metadata": {},
   "outputs": [],
   "source": []
  },
  {
   "cell_type": "code",
   "execution_count": null,
   "metadata": {},
   "outputs": [],
   "source": []
  },
  {
   "cell_type": "code",
   "execution_count": null,
   "metadata": {},
   "outputs": [],
   "source": []
  },
  {
   "cell_type": "code",
   "execution_count": null,
   "metadata": {},
   "outputs": [],
   "source": []
  },
  {
   "cell_type": "code",
   "execution_count": null,
   "metadata": {},
   "outputs": [],
   "source": []
  },
  {
   "cell_type": "code",
   "execution_count": null,
   "metadata": {},
   "outputs": [],
   "source": []
  },
  {
   "cell_type": "code",
   "execution_count": null,
   "metadata": {},
   "outputs": [],
   "source": []
  },
  {
   "cell_type": "code",
   "execution_count": null,
   "metadata": {},
   "outputs": [],
   "source": []
  },
  {
   "cell_type": "code",
   "execution_count": null,
   "metadata": {},
   "outputs": [],
   "source": []
  },
  {
   "cell_type": "code",
   "execution_count": null,
   "metadata": {
    "scrolled": true
   },
   "outputs": [],
   "source": []
  },
  {
   "cell_type": "markdown",
   "metadata": {},
   "source": [
    "**<font color=red>QUESTION 3.2:</font>**<font color= blue> (1 pt) Write the inverse $A^{-1}$ as a product of elementary matrices using $(***)$."
   ]
  },
  {
   "cell_type": "code",
   "execution_count": null,
   "metadata": {},
   "outputs": [],
   "source": []
  },
  {
   "cell_type": "markdown",
   "metadata": {},
   "source": [
    "**<font color=red>QUESTION 3.3:</font>**<font color= blue> (2 pts) Now, write the inverse $A$ as a product of elementary matrices using $(***)$. Recall, an elementary matrix is invertible and its inverse will also be elementary matrix."
   ]
  },
  {
   "cell_type": "code",
   "execution_count": null,
   "metadata": {},
   "outputs": [],
   "source": []
  },
  {
   "cell_type": "code",
   "execution_count": null,
   "metadata": {},
   "outputs": [],
   "source": []
  },
  {
   "cell_type": "code",
   "execution_count": null,
   "metadata": {},
   "outputs": [],
   "source": [
    "\n"
   ]
  },
  {
   "cell_type": "markdown",
   "metadata": {},
   "source": [
    "---------\n",
    "### Congratulations, we're done!\n"
   ]
  }
 ],
 "metadata": {
  "celltoolbar": "Create Assignment",
  "kernelspec": {
   "display_name": "Python 3 (ipykernel)",
   "language": "python",
   "name": "python3"
  },
  "language_info": {
   "codemirror_mode": {
    "name": "ipython",
    "version": 3
   },
   "file_extension": ".py",
   "mimetype": "text/x-python",
   "name": "python",
   "nbconvert_exporter": "python",
   "pygments_lexer": "ipython3",
   "version": "3.11.3"
  },
  "varInspector": {
   "cols": {
    "lenName": 16,
    "lenType": 16,
    "lenVar": 40
   },
   "kernels_config": {
    "python": {
     "delete_cmd_postfix": "",
     "delete_cmd_prefix": "del ",
     "library": "var_list.py",
     "varRefreshCmd": "print(var_dic_list())"
    },
    "r": {
     "delete_cmd_postfix": ") ",
     "delete_cmd_prefix": "rm(",
     "library": "var_list.r",
     "varRefreshCmd": "cat(var_dic_list()) "
    }
   },
   "types_to_exclude": [
    "module",
    "function",
    "builtin_function_or_method",
    "instance",
    "_Feature"
   ],
   "window_display": false
  },
  "vscode": {
   "interpreter": {
    "hash": "b6e46fc9ffc25761f00ae45c647fd14277607e7fb22d86158e973cc9ec9e29be"
   }
  }
 },
 "nbformat": 4,
 "nbformat_minor": 4
}
