{
 "cells": [
  {
   "cell_type": "markdown",
   "id": "48db66cd",
   "metadata": {},
   "source": [
    "# Vectors\n",
    "The first concept we deal with in Linear Algebra are vectors. \n",
    "#### Goals\n",
    "- Define vectors in python as lists.\n",
    "- Define vectors in python as numpy arrays.\n",
    "- Understand the differences among the definitions.\n",
    "- Learn how to perform vector operations with both definitions.\n",
    "- Create functions to calculate length, sum, and scalar product of vectors.\n"
   ]
  },
  {
   "cell_type": "markdown",
   "id": "d8f8fdb0",
   "metadata": {},
   "source": [
    "### Lists\n",
    "A list in Python is a collection of items that are **ordered** and **changeable**. \n",
    "- Lists are one of the most commonly used data types in Python. \n",
    "- Lists can be used to store **any type of data**, including other lists.\n",
    "\n"
   ]
  },
  {
   "cell_type": "markdown",
   "id": "39897ae4",
   "metadata": {},
   "source": [
    "#### Creating lists.\n",
    "- To create a list in Python, you can use square brackets and separate the items with commas. For example:\n",
    "\n",
    "```\n",
    "my_list = [1, 2, 3, \"apple\", \"banana\", \"cherry\"]\n",
    "```\n",
    "\n",
    "This creates a list with six items: three integers and three strings.\n",
    "\n"
   ]
  },
  {
   "cell_type": "markdown",
   "id": "9f7ac5cc",
   "metadata": {},
   "source": [
    "<font color='blue'> **Example**. Create a list with 4 elements and print your list."
   ]
  },
  {
   "cell_type": "code",
   "execution_count": null,
   "id": "31358afc",
   "metadata": {},
   "outputs": [],
   "source": [
    "#Remove the dots for your answer.\n",
    "my_list=[..]\n",
    "print(my_list[..])"
   ]
  },
  {
   "cell_type": "markdown",
   "id": "c9060718",
   "metadata": {},
   "source": [
    "#### Order of elements\n",
    "By saying that the elements of a list are **ordered** we mean that its element is associated with a number of its location in the list. For example:\n",
    "```\n",
    "my_list=[\"a\",2,3.14]\n",
    "```\n",
    "The first element is the **string** \"a\", the second is the **integer** 2 and the third is the **float** 3.14.\n"
   ]
  },
  {
   "cell_type": "markdown",
   "id": "74e32237",
   "metadata": {},
   "source": [
    "#### Indexing\n",
    "The numbering in python starts from 0 instead of 1. \n",
    "- A list with n elements will run from position **0** to position **n-1**.\n",
    "- So the element `my_list[1]` is the second element in the list.\n",
    "- To access the last element from a list we use `my_list[-1]`. We use -2 etc to count from the end of the list. "
   ]
  },
  {
   "cell_type": "markdown",
   "id": "b2879df9",
   "metadata": {},
   "source": [
    "<font color='blue'> **Example**. Write down a list in python with 5 elements and print the second and the second to last element in the list.\n"
   ]
  },
  {
   "cell_type": "code",
   "execution_count": null,
   "id": "cd918522",
   "metadata": {},
   "outputs": [],
   "source": [
    "#Remove the dots for your answer.\n",
    "my_list=[..]\n",
    "#Print 2nd element in the list.\n",
    "print(my_list[..])\n",
    "#Print second to last element in the list.\n",
    "print(my_list[..])"
   ]
  },
  {
   "cell_type": "markdown",
   "id": "c141eae5",
   "metadata": {},
   "source": [
    "#### Adding elements to lists.\n",
    "- You can add elements to a list using the function `append()`.\n",
    "- The fact that we can add elements to the list is what makes the list **changeable**.\n",
    "\n",
    "For example:\n",
    "\n",
    "```\n",
    "my_list = [1, 2, 3]\n",
    "my_list.append(4)\n",
    "```\n",
    "\n",
    "This adds the integer 4 to the end of the list."
   ]
  },
  {
   "cell_type": "markdown",
   "id": "9f2b325c",
   "metadata": {},
   "source": [
    "<font color='blue'> **Example**. Add 2 elements to the given list and print the list. Do not include integers or even numbers necessarily."
   ]
  },
  {
   "cell_type": "code",
   "execution_count": null,
   "id": "775b02e5",
   "metadata": {},
   "outputs": [],
   "source": [
    "my_list = [2, 3, 5]\n",
    "#Add elements to the list.\n",
    "my_list\n",
    "#Print the list.\n"
   ]
  },
  {
   "cell_type": "markdown",
   "id": "22a34969",
   "metadata": {},
   "source": [
    "\n",
    "#### Adding Lists\n",
    "\n",
    "Here's an example of what happens when you add two lists together in Python:\n",
    "```\n",
    "list1 = [1, 2, 3]\n",
    "list2 = [4, 5, 6]\n",
    "```\n",
    "```\n",
    "new_list = list1 + list2\n",
    "```\n",
    "```\n",
    "print(new_list)\n",
    "[1, 2, 3, 4, 5, 6]\n",
    "```"
   ]
  },
  {
   "cell_type": "markdown",
   "id": "c27207b3",
   "metadata": {},
   "source": [
    "<font color='blue'> **Example**. Create two lists and add them together."
   ]
  },
  {
   "cell_type": "code",
   "execution_count": null,
   "id": "60cfc999",
   "metadata": {},
   "outputs": [],
   "source": [
    "#Remove the dots for your answer.\n",
    "list1=[..]\n",
    "list2=[..]\n",
    "#Add the two lists in the new list.\n",
    "new_list=\n",
    "#Print the new list.\n",
    "\n",
    "#What happens if we do not add any elements and leave only the brackets there?"
   ]
  },
  {
   "cell_type": "markdown",
   "id": "7cfc662d",
   "metadata": {},
   "source": [
    "<font color='blue'> **Question**. Is this what we expected from adding **vectors**?"
   ]
  },
  {
   "cell_type": "code",
   "execution_count": null,
   "id": "1a9a0b76",
   "metadata": {
    "scrolled": true
   },
   "outputs": [],
   "source": []
  },
  {
   "cell_type": "markdown",
   "id": "66ee9174",
   "metadata": {},
   "source": [
    "#### Length of a list vs length of a vector\n",
    "The length of a list is the number of coordinates it has. \n",
    "\n",
    "So for the list $[5,2,4]$, we can say that its length is 3, meaning it has 3 coordinates.\\\n",
    "In python we can get the length of  a list (or a string or the number of coordinates of a vector), by using the function ```len```.\n",
    "For example\n",
    "```\n",
    "v=[5,2,4]\n",
    "print(len(v))\n",
    "3\n",
    "```\n",
    "\n",
    "P.S. When we want to find the length of a vector we don't mean that. If we say length of $\\vec{v}=[5,2,4]$ we mean $|\\vec{v}|=\\sqrt{5^2+2^2+4^2}$. We will see this later in the class."
   ]
  },
  {
   "cell_type": "markdown",
   "id": "829fae7e",
   "metadata": {},
   "source": [
    "<font color='blue'> **Example**. Complete the code so that we get the list length of each vector in the list. (List of lists)"
   ]
  },
  {
   "cell_type": "code",
   "execution_count": null,
   "id": "ca1b87ca",
   "metadata": {},
   "outputs": [],
   "source": [
    "vector_list=[[1.1,2,-3],[2.1,-2,3],[4,1.1,2,0],[1.1,-3],[0,2,-3,1,1,-2],[2,2,5]]\n",
    "for vector in vector_list:\n",
    "    print()\n"
   ]
  },
  {
   "cell_type": "markdown",
   "id": "0f2ce932",
   "metadata": {},
   "source": [
    "#### Adding lists to act as vectors\n",
    "If we want to represent lists as vectors then the classic addition does not work. \n",
    "As we saw in indexing, each coordinate of a vector (each element of a list) can be accessed by using the square brackets and the coordinate you want. i.e.\n",
    "```\n",
    "v=[1,2,-5.4,7.2,8.8,-4,-5]\n",
    "print(v[5])\n",
    "-4\n",
    "```\n",
    "So v[5] will access the 6th element in the list (remember we start counting at 0).\n",
    "We can use that to add two coordinates together.\n",
    "```\n",
    "v1=[1,3,5]\n",
    "v2=[3,-2,1]\n",
    "print(v1[1]+v2[1])\n",
    "1\n",
    "```\n",
    "But what we want is the two list to get together in one new list/vector. Two ways to do this are the following:\n",
    "\n",
    "1st. \n",
    "```\n",
    "v1=[1,3,5]\n",
    "v2=[3,-2,1]\n",
    "v=[]\n",
    "for i in range(len(v1)):\n",
    "    v.append(v1[i]+v2[i])\n",
    "```\n",
    "2nd. \n",
    "```\n",
    "v=[v1[i]+v2[i] for i in range(len(v1)]\n",
    "```\n",
    "In both cases, for this to work, we need the vectors to have the same length."
   ]
  },
  {
   "cell_type": "markdown",
   "id": "dac1e08b",
   "metadata": {},
   "source": [
    " <font color='blue'> **Example**. Complete the following function so that it checks if two vectors have the same number of coordinates (list length). Remember that the length of a list is given by `len(list)`."
   ]
  },
  {
   "cell_type": "code",
   "execution_count": null,
   "id": "b74b702d",
   "metadata": {},
   "outputs": [],
   "source": [
    "def vector_length_equality(v1,v2):\n",
    "    are_of_equal_length = \n",
    "    return are_of_equal_length  "
   ]
  },
  {
   "cell_type": "markdown",
   "id": "6576bb4b",
   "metadata": {},
   "source": [
    "####  Creating functions for adding vectors."
   ]
  },
  {
   "cell_type": "markdown",
   "id": "69bcc5c9",
   "metadata": {},
   "source": [
    "Of course checking if two vectors have the same number of coordinates is essential on whether we can add them or not.\n",
    "\n",
    "<font color='blue'> **Example**. Complete the function below to do the followng:\n",
    "- <font color='blue'>Check if the two vectors have the same number of coordinates.\n",
    "- <font color='blue'>If they do, return their sum.\n",
    "- <font color='blue'>If they do not, return a message saying \"Addition cannot be performed in such vectors\"."
   ]
  },
  {
   "cell_type": "code",
   "execution_count": null,
   "id": "25b00337",
   "metadata": {},
   "outputs": [],
   "source": [
    "#Remove the .. for your answer.\n",
    "def vector_addition(v1,v2):\n",
    "    equal_length = ....\n",
    "    if equal_length:\n",
    "        v=[... for i in range(len(v1))]\n",
    "        return ...\n",
    "    else:\n",
    "        return ..."
   ]
  },
  {
   "cell_type": "markdown",
   "id": "0d003ec1",
   "metadata": {},
   "source": [
    "<font color='blue'> **Example**. Apply the function to the following pairs of vectors.\n",
    "- <font color='blue'>v1=[0, 9, 4, 0, 8], v2=[9, -1, 10, -2, 10, -3, -9, 2]\n",
    "- <font color='blue'>v1=[-1, 2, 5], v2=[1, -7, 8]\n",
    "- <font color='blue'>v1=[3, 6, 0, 2, -3, 4], v2=[4, 8, -7, -1, -2, -2]\n",
    "- <font color='blue'>v1=[-8, -6, 0, 3, -5], v2=[5, 1]\n",
    "- <font color='blue'>v1=[-7, 10, 3, 2, 3, 5, 9, 9], v2=[9, 2, 1, 6, 3]\n"
   ]
  },
  {
   "cell_type": "code",
   "execution_count": null,
   "id": "c1225361",
   "metadata": {},
   "outputs": [],
   "source": [
    "#Use the function vector_addition and print your answers.\n"
   ]
  },
  {
   "cell_type": "markdown",
   "id": "517bf6a0",
   "metadata": {},
   "source": [
    "<font color='green'> **Comment**. One way to generate two vectors in python, instead of writing them by hand, is the following. You can use the function to generate vectors and you can modify the function to get different results.\n",
    "```\n",
    "import random\n",
    "\n",
    "def generate_random_lists(n):\n",
    "    lists = []\n",
    "    for i in range(n):\n",
    "        v1 = [random.randint(-10, 10) for i in range(random.randint(1, 10))]\n",
    "        v2 = [random.randint(-10, 10) for i in range(random.randint(1, 10))]\n",
    "        lists.append((v1,v2))\n",
    "    return lists\n",
    "\n",
    "lists = generate_random_lists(5)\n",
    "for v1,v2 in lists:\n",
    "    print(f\"v1={v1}, v2={v2}\")\n",
    "```"
   ]
  },
  {
   "cell_type": "markdown",
   "id": "c3477ab1",
   "metadata": {},
   "source": [
    "#### Conclusions About Lists in Python\n",
    "\n",
    "- Lists are a collection of items that are **ordered** and **changeable**.\n",
    "- Lists can be used to store any type of data, including other lists.\n",
    "- You can add elements to a list using the function `append()`.\n",
    "- The length of a list is different than the length of a vector.\n",
    "- If you add two lists together using the `+` operator, Python will concatenate them into a single list.\n",
    "- Lists are not a good representation of vectors in Python. Even though we can get around the list addition with the function we created, we would like to just write `v1+v2` to get the sum of our vectors. For the vector length things are even worse. This is obviously not what we want when we have in our mind addition of vectors and as we shall see later it's not suitable for the rest operations. So, while they are very useful and we can use them in several applications (and we will) **lists are not suitable for representing vectors in python**."
   ]
  },
  {
   "cell_type": "markdown",
   "id": "a30aebc3",
   "metadata": {},
   "source": [
    "#### Fixing mistakes\n",
    "In all the above, we defined and used lists. Of course in programming we can make mistakes when writing our code. Concerning lists most of the mistakes are syntax mistakes. Here is a list of the common mistakes:\n",
    "1. Forgeting to include commas between elements in a list. This can cause a syntax error.\n",
    "2. Including extra parentheses around their lists. This can also cause a syntax error.\n",
    "3. Using parentheses instead of a square bracket."
   ]
  },
  {
   "cell_type": "markdown",
   "id": "0fbe681d",
   "metadata": {},
   "source": [
    "<font color='blue'> **Example**. First print the following block of code to see the message of the mistake. Then, fix the mistakes and print the lists."
   ]
  },
  {
   "cell_type": "code",
   "execution_count": null,
   "id": "32af58fa",
   "metadata": {},
   "outputs": [],
   "source": [
    "import random\n",
    "\n",
    "def generate_random_lists(n):\n",
    "    lists = []\n",
    "    for i in range(n):\n",
    "        v1 = [random.randint(-10, 10) for i in range(random.randint(1, 10))]\n",
    "        v2 = [random.randint(-10, 10) for i in range(random.randint(1, 10))]\n",
    "        lists.append(dd(v1,v2))\n",
    "    return lists\n",
    "\n",
    "lists = generate_random_lists(5)\n",
    "for v1,v2 in lists:\n",
    "    print(f\"v1={v1}, v2={v2}\")"
   ]
  },
  {
   "cell_type": "code",
   "execution_count": null,
   "id": "9516c990",
   "metadata": {},
   "outputs": [],
   "source": [
    "#Lists.\n",
    "x = [1 2 3.4 4]\n",
    "y = [1, 2, 3, 5]]\n",
    "z = [[1, 2, 3, 6.3]\n",
    "#Print the lists.\n",
    "     "
   ]
  },
  {
   "cell_type": "markdown",
   "id": "fbea4800",
   "metadata": {},
   "source": [
    "### Using NumPy Arrays to Represent Vectors\n",
    "\n",
    "NumPy is a Python library that provides support for large, multi-dimensional arrays and matrices. \n",
    "-  Numpy includes a number of mathematical functions that are useful for working with these arrays.\n",
    "- One of the most common uses of NumPy is to represent vectors in Python. \n",
    "- You can create a vector using the `array()` function from NumPy.\n",
    "\n",
    "Let's try it. First we need to import numpy:\n",
    "\n"
   ]
  },
  {
   "cell_type": "code",
   "execution_count": null,
   "id": "db0d71e5",
   "metadata": {},
   "outputs": [],
   "source": [
    "import numpy as np"
   ]
  },
  {
   "cell_type": "markdown",
   "id": "a480b8ff",
   "metadata": {},
   "source": [
    "#### Creating vectors\n",
    "To create vectors using numpy, we use the np.array **method**."
   ]
  },
  {
   "cell_type": "code",
   "execution_count": null,
   "id": "09e5f813",
   "metadata": {},
   "outputs": [],
   "source": [
    "v1=np.array([1,2,3])\n",
    "v2=np.array([3,5,6])\n",
    "print(v1)\n",
    "print(v2)"
   ]
  },
  {
   "cell_type": "markdown",
   "id": "1832bc6c",
   "metadata": {},
   "source": [
    "#### Vector addition\n",
    "Now, vector addition works the way we would like it to work."
   ]
  },
  {
   "cell_type": "code",
   "execution_count": null,
   "id": "e4b455f5",
   "metadata": {},
   "outputs": [],
   "source": [
    "v1=np.array([1,3,1])\n",
    "v2=np.array([-2,4,3])\n",
    "v=v1+v2\n",
    "print(...)"
   ]
  },
  {
   "cell_type": "markdown",
   "id": "fb3c7aa0",
   "metadata": {},
   "source": [
    "<font color='blue'> **Example**. Create two vectors (two numpy arrays) and add them together."
   ]
  },
  {
   "cell_type": "code",
   "execution_count": null,
   "id": "44e61908",
   "metadata": {},
   "outputs": [],
   "source": [
    "#Your two vectors.\n",
    "v1\n",
    "v2\n",
    "#Add them together.\n",
    "v=\n",
    "#Print the result\n"
   ]
  },
  {
   "cell_type": "markdown",
   "id": "09164d81",
   "metadata": {},
   "source": [
    "#### Scalars\n",
    "We have scalar multiplication of a vector with a real number $a\\in \\mathbb{R}$. In python a scalar is different from a 1-element list (or array). Nevertheless scalar multiplication works the way it should independent of whether we have a number, or a 1-element list."
   ]
  },
  {
   "cell_type": "code",
   "execution_count": null,
   "id": "c3a9ed29",
   "metadata": {},
   "outputs": [],
   "source": [
    "x=2.4\n",
    "y=[2.4]\n",
    "#The following is python's way to check if two elements are the same. \n",
    "#The return of such equality is true or false.\n",
    "x==y"
   ]
  },
  {
   "cell_type": "markdown",
   "id": "dbfa8ba5",
   "metadata": {},
   "source": [
    "#### Scalar Multiplication\n",
    "Python does not understand `2.4` being the same as `[2.4]` (and rightly it does not) but both of them work the same if we want to multiply it with a numpy array."
   ]
  },
  {
   "cell_type": "code",
   "execution_count": null,
   "id": "14da1800",
   "metadata": {},
   "outputs": [],
   "source": [
    "#Multiplying with x or y produces the same result for the array.\n",
    "v=np.array([2,3,4])\n",
    "print(f\"multyiplying the vector with the number x: {v*x}\")\n",
    "print(f\"multyiplying the vector with the list y: {v*y}\")"
   ]
  },
  {
   "cell_type": "markdown",
   "id": "4c11c075",
   "metadata": {},
   "source": [
    "<font color='blue'> **Example**. For the following vector do the following:\n",
    "1. <font color='blue'>  Multiply the vector by a factor of your choice.\n",
    "2. <font color='blue'>  Print all the elements from the new vector one by one."
   ]
  },
  {
   "cell_type": "code",
   "execution_count": null,
   "id": "88333d0f",
   "metadata": {
    "scrolled": true
   },
   "outputs": [],
   "source": [
    "v=np.array([2,1.1,3.5,2.79,3.12])\n",
    "#Multiply the vector by x; the factor you choose.\n",
    "x=...\n",
    "v=...\n",
    "#Print all the elements of the vector.\n",
    "for .... :\n",
    "    print(f\"Printing coordinate {i} of the vector v: {v[i]}\")"
   ]
  },
  {
   "cell_type": "markdown",
   "id": "0ccb5df5",
   "metadata": {},
   "source": [
    "#### A few examples to wrap up this section\n",
    "\n",
    "Use any part of code we introduced here to answer the following questions."
   ]
  },
  {
   "cell_type": "markdown",
   "id": "80aa6175",
   "metadata": {},
   "source": [
    "<font color='blue'> **Example**. Create two vectors $v_1,v_2$ of  list length 200 (i.e. $len(v_1)=len(v_2)=200$) and add them together."
   ]
  },
  {
   "cell_type": "code",
   "execution_count": null,
   "id": "b7c67256",
   "metadata": {},
   "outputs": [],
   "source": [
    "v1= \n",
    "v2= \n",
    "v1+v2"
   ]
  },
  {
   "cell_type": "markdown",
   "id": "5bd939bb",
   "metadata": {},
   "source": [
    "<font color='blue'> **Example**. Create a function that will get two vectors (lists or arrays) and it returns:\\\n",
    "    - The sum of the vectors if possible.\\\n",
    "    - A message saying the sum cannot be performed if the sum is not possible. \n",
    "    "
   ]
  },
  {
   "cell_type": "code",
   "execution_count": null,
   "id": "3a87a327",
   "metadata": {},
   "outputs": [],
   "source": [
    "def add(v1,v2):\n",
    "    #Change the vectors to np.arrays\n",
    "    v1=\n",
    "    v2=\n",
    "    equal_length = \n",
    "    if equal_length:\n",
    "        return ...\n",
    "    else:\n",
    "        ...."
   ]
  },
  {
   "cell_type": "markdown",
   "id": "ca52dba2",
   "metadata": {},
   "source": [
    "<font color='blue'> Test the function you created with the following vectors:\\\n",
    "$ v_1=[0, 9, 4, 0, 8], v_2=[9, -1, 10, -2, 10, -3, -9, 2]$ \\\n",
    "$ v_1=[-1, 2, 5], v_2=[1, -7, 8] $"
   ]
  },
  {
   "cell_type": "code",
   "execution_count": null,
   "id": "c2dc7b40",
   "metadata": {},
   "outputs": [],
   "source": []
  }
 ],
 "metadata": {
  "kernelspec": {
   "display_name": "Python 3 (ipykernel)",
   "language": "python",
   "name": "python3"
  },
  "language_info": {
   "codemirror_mode": {
    "name": "ipython",
    "version": 3
   },
   "file_extension": ".py",
   "mimetype": "text/x-python",
   "name": "python",
   "nbconvert_exporter": "python",
   "pygments_lexer": "ipython3",
   "version": "3.9.12"
  }
 },
 "nbformat": 4,
 "nbformat_minor": 5
}
