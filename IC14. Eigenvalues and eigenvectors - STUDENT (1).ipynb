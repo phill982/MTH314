{
 "cells": [
  {
   "cell_type": "markdown",
   "id": "815972af",
   "metadata": {},
   "source": [
    "# Eigenvalues, eigenvectors\n"
   ]
  },
  {
   "cell_type": "markdown",
   "id": "7f904f26",
   "metadata": {},
   "source": [
    "--------------\n",
    "## 1. Eigenvalues and eigenvectors"
   ]
  },
  {
   "cell_type": "markdown",
   "id": "cda721fc",
   "metadata": {},
   "source": [
    "<font color=green>**Definition.** Let $A$ be an $n\\times n$ matrix.  A non-zero vector $x$ in $\\mathbb{R}^n$ is called an **eigenvector** of $A$ such that:\n",
    "\n",
    "<font color=green>$$Ax=\\lambda x$$\n",
    "\n",
    "<font color=green>for some scalar $\\lambda$, which will be called **eigenvalue** corresponding to $x$.\n",
    "\n",
    "<font color=green>The above can be rewritten as the following homogeneous equation: $(A-\\lambda I_n)x = 0$\n",
    "\n",
    "<font color=green>The trivial solution is $x=0$. To find the eigenvalues, you need the determinant of $A - \\lambda I_n $ to be zero, i.e.\n",
    "$$|A-\\lambda I_n| = 0$$ \n",
    "\n",
    "<font color=green>Once you know the eigenvalues $\\lambda$, you use $(A-\\lambda I_n)x = 0$ to find the corresponding eigenvectors."
   ]
  },
  {
   "cell_type": "markdown",
   "id": "aef489be",
   "metadata": {},
   "source": [
    "<font color=blue>**Example**. Consider the matrix $A = \\left[\\begin{matrix}  1 & 2 & 0 \\\\ 2 & 1 & 0 \\\\ 0 & 0 & 3\\end{matrix}\\right] $ along with the calculation $\\left[\\begin{matrix}  1 & 2 & 0 \\\\ 2 & 1 & 0 \\\\ 0 & 0 & 3\\end{matrix}\\right] \\left[\\begin{matrix}  1 \\\\  1 \\\\ 1\\end{matrix}\\right] =\\left[\\begin{matrix}  3 \\\\  3 \\\\ 3\\end{matrix}\\right]  $\n",
    "Given this, which of the following statements are true?\\\n",
    "        a. 1 is an eigenvalue of $A$.\\\n",
    "        b. 2 is an eigenvalue of $A$.\\\n",
    "        c. 3 is an eigenvalue of $A$.\\\n",
    "        d. $\\left[\\begin{matrix}  5 \\\\  5 \\\\ 5\\end{matrix}\\right]$ is an eigenvector of $A$\\\n",
    "        e. $\\left[\\begin{matrix}  1 \\\\  1 \\\\ 1\\end{matrix}\\right]$ is an eigenvector of $A$\n",
    "        "
   ]
  },
  {
   "cell_type": "code",
   "execution_count": null,
   "id": "97866b35",
   "metadata": {},
   "outputs": [],
   "source": [
    "#put your answer here"
   ]
  },
  {
   "cell_type": "markdown",
   "id": "8d021a85",
   "metadata": {},
   "source": [
    "<font color=blue>**Example**. Find the eigenvalues of $A=\\begin{bmatrix}\n",
    "2 & 3  \\\\ \n",
    "3 & -6    \n",
    "\\end{bmatrix}$ and the corresponding eigenvectors by hand."
   ]
  },
  {
   "cell_type": "code",
   "execution_count": 1,
   "id": "2bccae2d",
   "metadata": {},
   "outputs": [],
   "source": [
    "#put your answer here"
   ]
  },
  {
   "cell_type": "markdown",
   "id": "4bb88b90",
   "metadata": {},
   "source": [
    "Now we can use the numpy library to get the eigenvalues and eigenvectors. For example, \n",
    "\n",
    "```\n",
    "A = np.matrix([[4,0,-2],[2,5,4],[0,0,5]])\n",
    "eigvals, eigvecs = np.linalg.eig(A)\n",
    "eigvals, eigvecs\n",
    "\n",
    "```"
   ]
  },
  {
   "cell_type": "markdown",
   "id": "744acf64",
   "metadata": {},
   "source": [
    "<font color=blue> This time you can use numpy to calculate the eigenvalues and eigenvectors of $A$. Store the eigenvector associated with the smallest eigenvalue in a vector named ```v1``` and the eigenvector associated with the biggest eigenvalue in a vector named ```v2``` and **compare with the work you did by hand**. "
   ]
  },
  {
   "cell_type": "code",
   "execution_count": 1,
   "id": "edb706f6",
   "metadata": {},
   "outputs": [],
   "source": [
    "import numpy as np\n",
    "import sympy as sym\n",
    "A = np.matrix(...)\n",
    "vals, vects = \n",
    "\n",
    "e1 = vals[0]\n",
    "e2 = \n",
    "\n",
    "v1 = vects[:,0]\n",
    "v2 = "
   ]
  },
  {
   "cell_type": "code",
   "execution_count": null,
   "id": "88be5b9b",
   "metadata": {},
   "outputs": [],
   "source": [
    "v1 = sym.Matrix(A).eigenvects()[0][2][0]\n",
    "v2 = sym.Matrix(A).eigenvects()[1][2][0]"
   ]
  },
  {
   "cell_type": "markdown",
   "id": "4f9c994a",
   "metadata": {},
   "source": [
    "**<font color=red>DO THIS:</font>** `sympy` can also calculate the eigenvectors/values using some of its own methods. Make $A$ into a sympy matrix and call the `.eigenvects()` methods on it. (Bonus: Try `.charpoly()` to retrieve the characteristic polynomial.)"
   ]
  },
  {
   "cell_type": "code",
   "execution_count": null,
   "id": "9fc0cefd",
   "metadata": {},
   "outputs": [],
   "source": [
    "sym.init_printing()"
   ]
  },
  {
   "cell_type": "code",
   "execution_count": null,
   "id": "8e1f2440",
   "metadata": {},
   "outputs": [],
   "source": [
    "A_sym = sym.Matrix(A)\n",
    "A_sym.charpoly()\n",
    "A_sym.eigenvects()"
   ]
  },
  {
   "cell_type": "markdown",
   "id": "c10aa972",
   "metadata": {},
   "source": [
    "**<font color=red>QUESTION:</font>**  Both **sympy** and **numpy** have their own way to produce the eigenvectors and eigenvalues. How are they are different?"
   ]
  },
  {
   "cell_type": "code",
   "execution_count": null,
   "id": "95ab39e7",
   "metadata": {},
   "outputs": [],
   "source": [
    "#Put your answer to the above question here."
   ]
  },
  {
   "cell_type": "markdown",
   "id": "b8c51ea4",
   "metadata": {},
   "source": [
    "----\n",
    "\n",
    "## 2. Introduction to Markov Models\n",
    "\n",
    "\n",
    ">In probability theory, a Markov model is a stochastic model used to model randomly changing systems. \n",
    "It is assumed that future states depend only on the current state, not on the events that occurred before it.\n",
    ">\n",
    "> <img src=\"https://upload.wikimedia.org/wikipedia/commons/thumb/2/2b/Markovkate_01.svg/1126px-Markovkate_01.svg.png\" alt=\"State space diagram. See text for description\" width=25%>\n",
    "> A diagram representing a two-state Markov process, with the states labelled E and A. \n",
    "Each number represents the probability of the Markov process changing from one state to another state, with the direction indicated by the arrow. \n",
    "For example, if the Markov process is in state A, then the probability it changes to state E is 0.4, while the probability it remains in state A is 0.6.\n"
   ]
  },
  {
   "cell_type": "markdown",
   "id": "18194844",
   "metadata": {},
   "source": [
    "The above state model can be represented by a transition matrix. \n",
    "\n",
    "At each time step ($t$) the probability to move between states depends on the previous state $t-1$:\n",
    "\n",
    "$$A_{t} = 0.6A_{t-1}+0.7E_{t-1}$$\n",
    "\n",
    "$$E_{t} = 0.4A_{t-1}+0.3E_{t-1}$$\n",
    "\n",
    "The above state model ($S_t = [A_t, E_t]^T$) can be represented in the following matrix notation:\n",
    "\n",
    "\n",
    "$$S_t = PS_{t-1}$$\n"
   ]
  },
  {
   "cell_type": "markdown",
   "id": "0cd856fe",
   "metadata": {},
   "source": [
    "**<font color=red>DO THIS:</font>** Create a $2 \\times 2$ matrix $\\begin{array}{cc}\n",
    "P =  \n",
    "\\begin{bmatrix}\n",
    "    p_{A\\rightarrow A} & p_{E\\rightarrow A}  \\\\\n",
    "    p_{A\\rightarrow E} & p_{E\\rightarrow E} \n",
    "\\end{bmatrix}\n",
    "\\end{array}\n",
    "$ representing the transition matrix for the above Markov space."
   ]
  },
  {
   "cell_type": "code",
   "execution_count": null,
   "id": "b34b4236",
   "metadata": {},
   "outputs": [],
   "source": [
    "%matplotlib inline\n",
    "import matplotlib.pylab as plt\n",
    "import numpy as np\n",
    "import sympy as sym\n",
    "sym.init_printing(use_unicode=True)"
   ]
  },
  {
   "cell_type": "code",
   "execution_count": 4,
   "id": "3580b576",
   "metadata": {},
   "outputs": [
    {
     "data": {
      "text/latex": [
       "$\\displaystyle \\left[\\begin{matrix}0.6 & 0.7\\\\0.4 & 0.3\\end{matrix}\\right]$"
      ],
      "text/plain": [
       "⎡0.6  0.7⎤\n",
       "⎢        ⎥\n",
       "⎣0.4  0.3⎦"
      ]
     },
     "execution_count": 4,
     "metadata": {},
     "output_type": "execute_result"
    }
   ],
   "source": [
    "A = np.matrix(...)\n",
    "sym.Matrix(A)"
   ]
  },
  {
   "cell_type": "markdown",
   "id": "f41081c9",
   "metadata": {},
   "source": [
    "Notice how the **columns in the matrix all add to one**. This is because all of the transition probabilities out of a matrix must add to 100 percent. \n",
    "\n",
    "A Markov matrix $P$ always has an **eigenvalue $1$**. All other eigenvalues are in absolute value smaller or equal to $1$."
   ]
  },
  {
   "cell_type": "markdown",
   "id": "908fb530",
   "metadata": {},
   "source": [
    "### Example 1:\n",
    "\n",
    "Now, consider the following house map with cats in each room...\n",
    "\n",
    "At each time step, there is an equal probability of a cat staying in their current room or moving to a new room. \n",
    "If a cat chooses to leave a room, then there is an equal chance of that cat picking any of the doors in the room to leave. \n",
    "\n",
    "<img src=\"https://lh4.googleusercontent.com/CGFHfJgtrPu-2bZPhPul1ll8B3tqC1Vs8jRwnZ13v8MqRAagWhrSmJ0cznYIP3ePg5co5AVI8g=w712\" width=\"50%\">"
   ]
  },
  {
   "cell_type": "markdown",
   "id": "c4c035f6",
   "metadata": {},
   "source": [
    "**<font color=red>DO THIS :</font>** Try to draw a Markov chain (Markov matrix) for the above system of equations. Be prepared to share your diagram with the class. "
   ]
  },
  {
   "cell_type": "markdown",
   "id": "4ed2c509",
   "metadata": {},
   "source": [
    "A Markov chain can be represented as a Markov transition model of the form $Px=b$. \n",
    "Where $P$ is your probability tranisition matrix, $x$ is the state before the transition and $b$ is the state after the transition.\n",
    "\n",
    "**<font color=red>QUESTION:</font>** Generate a Markov transition model represented as a matrix $P$ of the form:\n",
    "$$\n",
    "\\begin{array}{ccc}\n",
    "& \\text{Current Room}  \\\\\n",
    "P =  &\n",
    "\\begin{bmatrix}\n",
    "    p_{11} & p_{12} & p_{13} \\\\\n",
    "    p_{21} & p_{22} & p_{23} \\\\\n",
    "    p_{31} & p_{32} & p_{33} \n",
    "\\end{bmatrix}\n",
    "\\end{array}\n",
    "\\text{Next Room}\n",
    "$$\n",
    "\n",
    "Where $p_{ij}$ are probability transitions of the cat moving between rooms (from room $j$ to room $i$):"
   ]
  },
  {
   "cell_type": "code",
   "execution_count": 5,
   "id": "67cbfbb7",
   "metadata": {},
   "outputs": [
    {
     "data": {
      "text/latex": [
       "$\\displaystyle \\left[\\begin{matrix}0.5 & 0.333333333333333 & 0.25\\\\0.333333333333333 & 0.5 & 0.25\\\\0.166666666666667 & 0.166666666666667 & 0.5\\end{matrix}\\right]$"
      ],
      "text/plain": [
       "⎡       0.5         0.333333333333333  0.25⎤\n",
       "⎢                                          ⎥\n",
       "⎢0.333333333333333         0.5         0.25⎥\n",
       "⎢                                          ⎥\n",
       "⎣0.166666666666667  0.166666666666667  0.5 ⎦"
      ]
     },
     "execution_count": 5,
     "metadata": {},
     "output_type": "execute_result"
    }
   ],
   "source": [
    "P = np.matrix(...)\n",
    "sym.Matrix(P)"
   ]
  },
  {
   "cell_type": "markdown",
   "id": "a6e9e6fa",
   "metadata": {},
   "source": [
    "**<font color=red>QUESTION:</font>**  Let's assume that the system starts with; 6 cats in room 1, 15 cats in room 2, and 3 cats in room 3. On average, how many cats will be in each room after one time step (Store the values in a vector called ```current_state```)?"
   ]
  },
  {
   "cell_type": "code",
   "execution_count": 9,
   "id": "b0ea2c86",
   "metadata": {},
   "outputs": [
    {
     "data": {
      "text/latex": [
       "$\\displaystyle \\left[\\begin{matrix}8.75\\\\10.25\\\\5.0\\end{matrix}\\right]$"
      ],
      "text/plain": [
       "⎡8.75 ⎤\n",
       "⎢     ⎥\n",
       "⎢10.25⎥\n",
       "⎢     ⎥\n",
       "⎣ 5.0 ⎦"
      ]
     },
     "execution_count": 9,
     "metadata": {},
     "output_type": "execute_result"
    }
   ],
   "source": [
    "current_state = np.matrix([[6], ..., ...])\n",
    "\n",
    "current_state = P*current_state\n",
    "sym.Matrix(...)"
   ]
  },
  {
   "cell_type": "markdown",
   "id": "2f6613a4",
   "metadata": {},
   "source": [
    "**<font color=red>QUESTION:</font>** The following code will plot the expected number of cats as a function of time $t$.  When this system converges, what is the steady state?"
   ]
  },
  {
   "cell_type": "code",
   "execution_count": 11,
   "id": "ae9da405",
   "metadata": {},
   "outputs": [
    {
     "name": "stdout",
     "output_type": "stream",
     "text": [
      "[[9.]\n",
      " [9.]\n",
      " [6.]]\n"
     ]
    }
   ],
   "source": [
    "#Define Start State\n",
    "room1 = [6]\n",
    "room2 = [15]\n",
    "room3 = [3]\n",
    "\n",
    "current_state = np.matrix([room1, room2, room3])\n",
    "\n",
    "for i in range(100):\n",
    "    #update Current State\n",
    "    current_state = \n",
    "    \n",
    "    #Store history for each room\n",
    "    room1.append(current_state[0])\n",
    "    room2.append(...)\n",
    "    room3.append(...)\n",
    "    \n",
    "# plt.plot(room1, label=\"room1\");\n",
    "# plt.plot(room2, label=\"room2\");\n",
    "# plt.plot(room3, label=\"room3\");\n",
    "# plt.legend();\n",
    "print(current_state)"
   ]
  },
  {
   "cell_type": "code",
   "execution_count": null,
   "id": "42c75519",
   "metadata": {},
   "outputs": [],
   "source": [
    "qaz = np.matrix([1,2,3])\n",
    "print(qaz)"
   ]
  },
  {
   "cell_type": "code",
   "execution_count": null,
   "id": "479259ed",
   "metadata": {},
   "outputs": [],
   "source": [
    "# Inspect the generated graph and put your answer to the above question here"
   ]
  },
  {
   "cell_type": "markdown",
   "id": "f48f7be3",
   "metadata": {},
   "source": [
    "---\n",
    "**<font color=red>QUESTION:</font>**  Calculate the eigenvalues and eigenvectors of your $P$ transition matrix.  "
   ]
  },
  {
   "cell_type": "code",
   "execution_count": 6,
   "id": "a1a41ffc",
   "metadata": {},
   "outputs": [
    {
     "data": {
      "text/latex": [
       "$\\displaystyle \\left[\\begin{matrix}-0.639602149066831 & -0.707106781186547 & -0.408248290463863\\\\-0.639602149066831 & 0.707106781186548 & -0.408248290463863\\\\-0.426401432711221 & -3.35034232347364 \\cdot 10^{-16} & 0.816496580927726\\end{matrix}\\right]$"
      ],
      "text/plain": [
       "⎡-0.639602149066831   -0.707106781186547    -0.408248290463863⎤\n",
       "⎢                                                             ⎥\n",
       "⎢-0.639602149066831    0.707106781186548    -0.408248290463863⎥\n",
       "⎢                                                             ⎥\n",
       "⎣-0.426401432711221  -3.35034232347364e-16  0.816496580927726 ⎦"
      ]
     },
     "execution_count": 6,
     "metadata": {},
     "output_type": "execute_result"
    }
   ],
   "source": [
    "eigval, eigvec = \n",
    "sym.Matrix(eigvec)"
   ]
  },
  {
   "cell_type": "markdown",
   "id": "e594f9ac",
   "metadata": {},
   "source": [
    "The eigenvector associated with the eigenvalue of 1 represents the **steady state** probability for our original transition matrix $P$.  \n",
    "\n",
    "**<font color=red>DO THIS:</font>** make a new vector called ```steadystate``` from the eigenvector of your $P$ matrix with a eigenvalue of 1."
   ]
  },
  {
   "cell_type": "code",
   "execution_count": 7,
   "id": "3ac249c6",
   "metadata": {},
   "outputs": [
    {
     "data": {
      "text/plain": [
       "matrix([[-0.63960215],\n",
       "        [-0.63960215],\n",
       "        [-0.42640143]])"
      ]
     },
     "execution_count": 7,
     "metadata": {},
     "output_type": "execute_result"
    }
   ],
   "source": [
    "steadystate = eigvec[:,0]\n",
    "steadystate"
   ]
  },
  {
   "cell_type": "markdown",
   "id": "0ac677b9",
   "metadata": {},
   "source": [
    "Since the ```steadystate``` vectors represent long term probabilities, they should sum to one (1).  However, many programming libraries (including numpy) return \"normalized\" eigenvectors to length of 1 (i.e. norm(e)==1). \n",
    "\n",
    "**<font color=red>DO THIS:</font>**  Correct for the normalization by multiplying the ```steadystate``` eigenvector by a constant such that the sum of the vector elements add to 1. "
   ]
  },
  {
   "cell_type": "code",
   "execution_count": 12,
   "id": "8941ff83",
   "metadata": {},
   "outputs": [
    {
     "data": {
      "text/plain": [
       "matrix([[0.375],\n",
       "        [0.375],\n",
       "        [0.25 ]])"
      ]
     },
     "execution_count": 12,
     "metadata": {},
     "output_type": "execute_result"
    }
   ],
   "source": [
    "steadystate = \n",
    "steadystate"
   ]
  },
  {
   "cell_type": "markdown",
   "id": "42633690",
   "metadata": {},
   "source": [
    "**<font color=red>DO THIS:</font>**  The steady state represents the proportion of cats that will be in each room, but since we know the initial number of cats, we can find how these cats arrange themselves in the steady state by multiplying `steadystate` by the total number of cats.  The resulting vector should be identical to the steady state in the above chart."
   ]
  },
  {
   "cell_type": "code",
   "execution_count": 13,
   "id": "c1bf3510",
   "metadata": {},
   "outputs": [
    {
     "data": {
      "text/plain": [
       "matrix([[9.],\n",
       "        [9.],\n",
       "        [6.]])"
      ]
     },
     "execution_count": 13,
     "metadata": {},
     "output_type": "execute_result"
    }
   ],
   "source": [
    "steadystate = \n",
    "steadystate"
   ]
  },
  {
   "cell_type": "markdown",
   "id": "330b30c4",
   "metadata": {},
   "source": [
    "**<font color=red>QUESTION:</font>** Why does the sum of the numbers at every stage remain the same? \n"
   ]
  },
  {
   "cell_type": "code",
   "execution_count": null,
   "id": "70330df7",
   "metadata": {},
   "outputs": [],
   "source": []
  },
  {
   "cell_type": "markdown",
   "id": "b0d613e2",
   "metadata": {},
   "source": [
    "\n",
    "###  Example 2\n",
    "\n",
    "> A sports broadcaster wishes to predict how many Michigan residents prefer University of Michigan teams and how many prefer Michigan State teams. \n",
    "She noticed that, year after year, most people stick with their preferred team; however, about 5% of Michigan fans switch to Michigan State, and about 3% of Michigan State fans switch to Michigan each year. \n",
    "However, there is no noticeable difference in the state's population of 10 million's preference at large; in other words, it seems Michigan sports fans have reached a stationary distribution. What might that be?\n"
   ]
  },
  {
   "cell_type": "markdown",
   "id": "4eaae52c",
   "metadata": {},
   "source": [
    "**<font color=red>DO THIS:</font>** Try to draw a Markov chain for the above system of equations. Discuss your diagram with your classmates."
   ]
  },
  {
   "cell_type": "markdown",
   "id": "b823c5a9",
   "metadata": {},
   "source": [
    "**<font color=red>QUESTION:</font>**  Write a system of linear equations that represents how the populations change each year. Check your equations by writing the matrix ```P``` for the probability transitions matrix in your equations. Make sure your first row/column represents MSU and the second row/column represents UofM. "
   ]
  },
  {
   "cell_type": "code",
   "execution_count": null,
   "id": "75323ed5",
   "metadata": {},
   "outputs": [],
   "source": [
    "P = \n",
    "sym.Matrix(P)"
   ]
  },
  {
   "cell_type": "markdown",
   "id": "4b4a21f2",
   "metadata": {},
   "source": [
    "**<font color=red>QUESTION:</font>**   Use Numpy to calculate the eigenvalues and eigenvectors of your $P$ transition matrix.  "
   ]
  },
  {
   "cell_type": "code",
   "execution_count": null,
   "id": "01fcb4fa",
   "metadata": {},
   "outputs": [],
   "source": [
    "eigval, eigvec =\n",
    "print(eigval)\n",
    "sym.Matrix(eigvec)"
   ]
  },
  {
   "cell_type": "markdown",
   "id": "62b4d981",
   "metadata": {},
   "source": [
    "**<font color=red>QUESTION:</font>**   Assuming both teams start with 500,000 fans each (so 1,000,000 fans total), what is the steady state of this model? (I.e. in the long term how many Spartan and Wolverine fans will there be?)."
   ]
  },
  {
   "cell_type": "code",
   "execution_count": null,
   "id": "d99d6dce",
   "metadata": {},
   "outputs": [],
   "source": [
    "steadystate =     #correct the normalization\n",
    "steadystate =     # mulptiply by the total number\n",
    "\n",
    "spartans = steadystate[0]\n",
    "wolverines = steadystate[1]"
   ]
  }
 ],
 "metadata": {
  "kernelspec": {
   "display_name": "Python 3 (ipykernel)",
   "language": "python",
   "name": "python3"
  },
  "language_info": {
   "codemirror_mode": {
    "name": "ipython",
    "version": 3
   },
   "file_extension": ".py",
   "mimetype": "text/x-python",
   "name": "python",
   "nbconvert_exporter": "python",
   "pygments_lexer": "ipython3",
   "version": "3.11.3"
  }
 },
 "nbformat": 4,
 "nbformat_minor": 5
}
