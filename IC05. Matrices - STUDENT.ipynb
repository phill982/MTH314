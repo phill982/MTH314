{
 "cells": [
  {
   "cell_type": "markdown",
   "id": "a209c6a1",
   "metadata": {},
   "source": [
    "# Matrices"
   ]
  },
  {
   "cell_type": "markdown",
   "id": "1803cc27",
   "metadata": {},
   "source": [
    "## 1. Matrix multiplication\n",
    "We defined matrix multiplication in class. While it's easier to represent vectors using np.arrays rather than lists, it is completely essential to do so when we get in matrices. It is very hard to deal with matrix multiplication if you define the matrices using lists. On the other hand, there are build in functions for matrix multiplication if you use numpy arrays."
   ]
  },
  {
   "cell_type": "markdown",
   "id": "c56e689f",
   "metadata": {},
   "source": [
    "<font color=blue> **Question**. What is the size of the matrix resulting from multiplying a $10 \\times 40$ matrix with a $40 \\times 3$ matrix?"
   ]
  },
  {
   "cell_type": "code",
   "execution_count": null,
   "id": "8466452d",
   "metadata": {},
   "outputs": [],
   "source": [
    "#put your answer here"
   ]
  },
  {
   "cell_type": "markdown",
   "id": "4d1bc725",
   "metadata": {},
   "source": [
    "<img src=\"https://www.mathsisfun.com/algebra/images/matrix-multiply-a.svg\" >"
   ]
  },
  {
   "cell_type": "markdown",
   "id": "8850513f",
   "metadata": {},
   "source": [
    "<font color=blue>**Example**. Complete the rest of the elements of the matrix in the picture (by hand)."
   ]
  },
  {
   "cell_type": "code",
   "execution_count": null,
   "id": "9dd225e1",
   "metadata": {},
   "outputs": [],
   "source": [
    "# put the completed matrix"
   ]
  },
  {
   "cell_type": "markdown",
   "id": "d1866362",
   "metadata": {},
   "source": [
    "Now we are going to use ```numpy``` to do the matrix multiplication. First, we need to import the numpy and sympy classes. Sympy will be used for a nice representation when we print the matrices."
   ]
  },
  {
   "cell_type": "code",
   "execution_count": null,
   "id": "9b09ac33",
   "metadata": {},
   "outputs": [],
   "source": [
    "import numpy as np\n",
    "import sympy as sym"
   ]
  },
  {
   "cell_type": "code",
   "execution_count": null,
   "id": "f5b79bf4",
   "metadata": {},
   "outputs": [],
   "source": [
    "A = np.array([[1,2,3], [4,5,6]])\n",
    "sym.Matrix(A)"
   ]
  },
  {
   "cell_type": "code",
   "execution_count": null,
   "id": "ca2cfacf",
   "metadata": {},
   "outputs": [],
   "source": [
    "B = np.array([[7,8], [9,10], [11,12]])\n",
    "sym.Matrix(B)"
   ]
  },
  {
   "cell_type": "code",
   "execution_count": null,
   "id": "484bcdeb",
   "metadata": {},
   "outputs": [],
   "source": [
    "sym.Matrix(np.matmul(A,B))#The built-in function for matrix multiplication. "
   ]
  },
  {
   "cell_type": "markdown",
   "id": "9f3f0081",
   "metadata": {},
   "source": [
    "<font color=green>**Comment**. Another way to do matrix multiplication is: `A@B`."
   ]
  },
  {
   "cell_type": "markdown",
   "id": "22b100d8",
   "metadata": {},
   "source": [
    "<font color=blue>**Example**. Given two matrices; $A$ and $B$, show that order matters when doing a matrix multiplication. That is, $AB \\neq BA$, in general. \n",
    "Show this with an example by using two $3\\times 3$ matrices and ```numpy```."
   ]
  },
  {
   "cell_type": "code",
   "execution_count": null,
   "id": "4d43da75",
   "metadata": {},
   "outputs": [],
   "source": [
    "# put your matrices here\n",
    "A1=\n",
    "A2="
   ]
  },
  {
   "cell_type": "code",
   "execution_count": null,
   "id": "8fac71c8",
   "metadata": {},
   "outputs": [],
   "source": [
    "sym.Matrix(np.matmul(...))"
   ]
  },
  {
   "cell_type": "code",
   "execution_count": null,
   "id": "fa273136",
   "metadata": {},
   "outputs": [],
   "source": [
    "sym.Matrix(...(A2,A1))"
   ]
  },
  {
   "cell_type": "markdown",
   "id": "78b0d215",
   "metadata": {},
   "source": [
    "Recall that if $A$ is $n\\times d$ and $B$ is $d\\times m$, then if $C=A\\cdot B$ will be $n\\times m$.\n",
    "  \n",
    "_**The $(i,j)$ element in $C$ is the dot product of the $i$th row of $A$ and the $j$th column of $B$.**_\n",
    "\n",
    "The $i$th row of $A$ is:\n",
    "$ [ a_{i1},  a_{i2},  \\dots , a_{id} ],$\n",
    "\n",
    "and the $j$th column of $B$ is:\n",
    "$\n",
    "\\left[\n",
    "\\begin{matrix}\n",
    "    b_{1j}\\\\ \n",
    "    b_{2j}\\\\\n",
    "    \\vdots \\\\\n",
    "    b_{dj}\n",
    "\\end{matrix}\n",
    "\\right] \n",
    "$\n",
    "\n",
    "So, the dot product of these two vectors is:   $c_{ij} = a_{i1}b_{1j} + a_{i2}b_{2j} + \\dots + a_{id}b_{dj}$"
   ]
  },
  {
   "cell_type": "markdown",
   "id": "a77e695c",
   "metadata": {},
   "source": [
    " **<font color=red>DO THIS:</font>**  <font color='blue'> Write your own matrix multiplication function using the template below and compare it to the built-in matrix multiplication that can be found in ```numpy```. Your function should take two \"lists of lists\" as inputs and return the result as a third list of lists.  "
   ]
  },
  {
   "cell_type": "code",
   "execution_count": null,
   "id": "414db344",
   "metadata": {},
   "outputs": [],
   "source": [
    "##### DO NOT RUN THIS\n",
    "\n",
    "def multiply(m1,m2):\n",
    "    #first matrix is nxk in size\n",
    "    #second matrix is dxm in size\n",
    "    n = len(m1) \n",
    "    k = len(m1[0])\n",
    "    d = len(m2)\n",
    "    m = len(m2[0])\n",
    "    \n",
    "    #check to make sure sizes match\n",
    "    if k != d:\n",
    "        print(\"ERROR - inner dimensions not equal\")\n",
    "    else:\n",
    "        \n",
    "        return result"
   ]
  },
  {
   "cell_type": "markdown",
   "id": "c79db24d",
   "metadata": {},
   "source": [
    "Test your code with the following examples."
   ]
  },
  {
   "cell_type": "code",
   "execution_count": null,
   "id": "3c85f235",
   "metadata": {},
   "outputs": [],
   "source": [
    "#Basic test 1\n",
    "import random\n",
    "n = 3\n",
    "d = 2\n",
    "m = 4\n",
    "\n",
    "#generate two random matrices (lists of lists).\n",
    "matrix1 = [[random.randint(0,9) for i in range(d)] for j in range(n)]\n",
    "matrix2 = [[random.randint(-9,9) for i in range(m)] for j in range(d)]"
   ]
  },
  {
   "cell_type": "code",
   "execution_count": null,
   "id": "bb420756",
   "metadata": {},
   "outputs": [],
   "source": [
    "sym.init_printing(use_unicode=True) # Trick to make matrices look nice in jupyter\n",
    "sym.Matrix(matrix1) # Show matrix using sympy"
   ]
  },
  {
   "cell_type": "code",
   "execution_count": null,
   "id": "70b31a60",
   "metadata": {},
   "outputs": [],
   "source": [
    "sym.Matrix(matrix2) # Show matrix using sympy"
   ]
  },
  {
   "cell_type": "code",
   "execution_count": null,
   "id": "ae731a1b",
   "metadata": {},
   "outputs": [],
   "source": [
    "#Compute matrix multiply using your function\n",
    "x = multiply(matrix1, matrix2)\n",
    "sym.Matrix(x)"
   ]
  },
  {
   "cell_type": "code",
   "execution_count": null,
   "id": "b6ecf3fd",
   "metadata": {},
   "outputs": [],
   "source": [
    "#Compare to numpy result\n",
    "np_x = np.matrix(matrix1) @ np.matrix(matrix2)\n",
    "np_x\n",
    "\n",
    "#use allclose function to see if they are numrically \"close enough\"   #Result should be True\n",
    "\n",
    "#print(np.allclose(x, np_x))"
   ]
  },
  {
   "cell_type": "code",
   "execution_count": null,
   "id": "8823d023",
   "metadata": {},
   "outputs": [],
   "source": [
    "#Test identity matrix\n",
    "n = 4\n",
    "\n",
    "# Make a random Matrix\n",
    "matrix1 = [[random.random() for i in range(n)] for j in range(n)]\n",
    "sym.Matrix(matrix1) # Show matrix using sympy"
   ]
  },
  {
   "cell_type": "code",
   "execution_count": null,
   "id": "2c118d37",
   "metadata": {},
   "outputs": [],
   "source": [
    "#generate a 4x4 identity matrix\n",
    "matrix2 = [[0 for i in range(n)] for j in range(n)]\n",
    "for i in range(n):\n",
    "    matrix2[i][i] = 1\n",
    "sym.Matrix(matrix2) # Show matrix using sympy"
   ]
  },
  {
   "cell_type": "code",
   "execution_count": null,
   "id": "cbec8cf0",
   "metadata": {},
   "outputs": [],
   "source": [
    "result = multiply(matrix1, matrix2)\n",
    "\n",
    "#Verify results are the same as the original\n",
    "np.allclose(matrix1, result)"
   ]
  },
  {
   "cell_type": "markdown",
   "id": "8f2ee955",
   "metadata": {},
   "source": [
    "<font color='green'>**Comment**. For arrays there is a built-in function that gives us the dimensions of the matrix.\n",
    "```\n",
    "import numpy as np\n",
    "A=np.array([[1,2,3],[2,2,2]])\n",
    "print(A.shape[0]) #prints the number of rows\n",
    "2\n",
    "print(A.shape[1]) #prints the number of columns\n",
    "3\n",
    "```"
   ]
  },
  {
   "cell_type": "markdown",
   "id": "08ce338e",
   "metadata": {},
   "source": [
    "## 2. Transpose of a matrix\n",
    "\n",
    "The transpose of an $n\\times m$ matrix $A$ is the $m \\times n$ matrix $B$ such that $b_{ij}=a_{ji}$ and we denote it by $A^T$. \n",
    "\n",
    "<font color='blue'> **Example**. Create a function that gets an $n\\times m$ matrix (list of lists) and returns its transpose matrix."
   ]
  },
  {
   "cell_type": "code",
   "execution_count": 7,
   "id": "23c882a2",
   "metadata": {},
   "outputs": [],
   "source": [
    "#Write your answer here.\n",
    "def transpose_matrix(matrix):\n",
    "   \n",
    "    return Transpose"
   ]
  },
  {
   "cell_type": "markdown",
   "id": "0320e64b",
   "metadata": {},
   "source": [
    "As usual, for arrays there are built-in functions that help us with these calculations. "
   ]
  },
  {
   "cell_type": "code",
   "execution_count": null,
   "id": "ac48ca29",
   "metadata": {},
   "outputs": [],
   "source": [
    "# Define a matrix\n",
    "mat = np.array([[1, 2, 3],\n",
    "                [4, 5, 6]])\n",
    "\n",
    "# Compute the transpose of the matrix using the .T attribute\n",
    "transpose_mat = ...\n",
    "\n",
    "sym.Matrix(transpose_mat)"
   ]
  },
  {
   "cell_type": "markdown",
   "id": "4da66091",
   "metadata": {},
   "source": [
    "<font color='blue'> **Example**. Calculate the transpose of the matrix $\\begin{bmatrix}\n",
    "1 & 2 & 3 & 4 \\\\\n",
    "5 & 6 & 7 & 8 \\\\\n",
    "\\end{bmatrix}$ using python."
   ]
  },
  {
   "cell_type": "code",
   "execution_count": null,
   "id": "8992af97",
   "metadata": {},
   "outputs": [],
   "source": []
  },
  {
   "cell_type": "markdown",
   "id": "551c9468",
   "metadata": {},
   "source": [
    "# 3. Inverse of a matrix"
   ]
  },
  {
   "cell_type": "markdown",
   "id": "5bb7947d",
   "metadata": {},
   "source": [
    "### Calculating an Inverse Matrix\n",
    " \n",
    "\n",
    "<font color='blue'> **Example:** Consider the matrix $A$ given by\n",
    "$\n",
    "A=\\left[\n",
    "\\begin{array}{rrr}\n",
    "2 & -1 & 0\\\\\n",
    "-1 & 2 & -1\\\\\n",
    "0 & -1 & 2\n",
    "\\end{array}\n",
    "\\right]. \n",
    "$ \n",
    "Use the Gauss-Jordan Elimination to find $A^{-1}$ by row reducing $\\begin{bmatrix}A | I\\end{bmatrix}$ to $\\begin{bmatrix}I | A^{-1}\\end{bmatrix}$. \n",
    "    \n",
    "<font color='blue'>The first step is $\\frac{1}{2}$ (row 1) + (row 2):\n",
    "\n",
    "<font color='blue'>$$\n",
    "\\left[\n",
    "\\begin{array}{rrr|rrr}\n",
    "2 & -1 & 0& 1 & 0 &0 \\\\\n",
    "-1 & 2 & -1 & 0 & 1 &0 \\\\\n",
    "0 & -1 & 2 & 0 & 0 &1 \n",
    "\\end{array}\n",
    "\\right] \\sim \\left[\n",
    "\\begin{array}{rrr|rrr}\n",
    "2 & -1 & 0& 1 & 0 &0 \\\\\n",
    "0 & \\frac{3}{2} & 0 & \\frac{1}{2} & 1 &0 \\\\\n",
    "0 & -1 & 2 & 0 & 0 &1 \n",
    "\\end{array}\n",
    "\\right]\\sim\\dots \\begin{bmatrix}I | A^{-1}\\end{bmatrix}\n",
    "$$\n",
    "\n",
    "<font color='blue'>What are the corresponding elementary matrices you used?\n",
    "\n",
    "<font color='blue'>Complete the rest of the steps to find $A^{-1}$ by hand (on paper)."
   ]
  },
  {
   "cell_type": "code",
   "execution_count": null,
   "id": "f9d15b68",
   "metadata": {},
   "outputs": [],
   "source": [
    "#put your answers here"
   ]
  },
  {
   "cell_type": "markdown",
   "id": "37195747",
   "metadata": {},
   "source": [
    "### Inverse matrix in Numpy\n",
    "\n",
    "As usual, Python has a built-in function for numpy arrays that will calculate the inverse of a matrix   ```np.linalg.inv()``` \n",
    "\n",
    "```\n",
    "import numpy as np\n",
    "A = np.matrix([[1, 2, 3], [4, 5, 6], [7,8,7]])\n",
    "A_inv= np.linalg.inv(A)\n",
    "\n",
    "```\n",
    "\n",
    "\n"
   ]
  },
  {
   "cell_type": "code",
   "execution_count": null,
   "id": "626272e8",
   "metadata": {},
   "outputs": [],
   "source": [
    "import numpy as np\n",
    "import sympy as sym\n",
    "sym.init_printing(use_unicode=True) # Trick to make matrixes look nice in jupyter"
   ]
  },
  {
   "cell_type": "markdown",
   "id": "f61c2655",
   "metadata": {},
   "source": [
    "<font color=blue>**Example**. Invert the following matrix A.  Store the inverse in a new matirx named A_inv."
   ]
  },
  {
   "cell_type": "code",
   "execution_count": null,
   "id": "602043ce",
   "metadata": {},
   "outputs": [],
   "source": [
    "A = np.matrix([[1, 2, 3], [4, 5, 6], [7,8,7]])\n",
    "sym.Matrix(A)"
   ]
  },
  {
   "cell_type": "code",
   "execution_count": null,
   "id": "044d638f",
   "metadata": {},
   "outputs": [],
   "source": [
    "#put your answer to the above question here.\n",
    "A_inv="
   ]
  },
  {
   "cell_type": "markdown",
   "id": "d84e0dd4",
   "metadata": {},
   "source": [
    "Let's check your answer by multiplying ```A``` by ```A_inv```. "
   ]
  },
  {
   "cell_type": "code",
   "execution_count": null,
   "id": "fc9c622c",
   "metadata": {},
   "outputs": [],
   "source": [
    "A @ A_inv"
   ]
  },
  {
   "cell_type": "markdown",
   "id": "c35f67dc",
   "metadata": {},
   "source": [
    "If you look at the answer, it might look wrong at a first glance. This is the way python performs behind the scenes the operations and gives a result that seems wrong but is actually pretty accurate. A number of this form ```-4.4408921e-16``` is a number that is pretty close to zero. Actually it is equal to ```-0.0000000000000004408921```(having 16 zeroes before the first non-zero decimal). One way to check that this is pretty close to the identity matrix is the following code.\n",
    "```\n",
    "np.allclose(A@A_inv, [[1,0,0],[0,1,0],[0,0,1]])\n",
    "```"
   ]
  },
  {
   "cell_type": "code",
   "execution_count": null,
   "id": "a3dbad4d",
   "metadata": {},
   "outputs": [],
   "source": [
    "#Run the code to check that A@A_inv is indeed the identity matrix.\n",
    "np.allclose(A@A_inv, [[1,0,0],[0,1,0],[0,0,1]])"
   ]
  },
  {
   "cell_type": "markdown",
   "id": "ef18ab51",
   "metadata": {},
   "source": [
    "**<font color=red>DO THIS:</font>** Now, consider the following matrix ```B```. Try to find its inverse. Explain why you are getting the result you are getting."
   ]
  },
  {
   "cell_type": "code",
   "execution_count": null,
   "id": "db354999",
   "metadata": {},
   "outputs": [],
   "source": [
    "sym.init_printing(use_unicode=True) # Trick to make matrixes look nice in jupyter\n",
    "\n",
    "B = np.matrix([[1, 2, 3], [4, 5, 6], [2,4,6]])\n",
    "\n",
    "sym.Matrix(B)"
   ]
  },
  {
   "cell_type": "code",
   "execution_count": null,
   "id": "32e462aa",
   "metadata": {},
   "outputs": [],
   "source": [
    "#put your answer to the above question here."
   ]
  },
  {
   "cell_type": "markdown",
   "id": "2f9cfa62",
   "metadata": {},
   "source": [
    "---\n",
    "\n",
    "### How do we create an inverse matrix?"
   ]
  },
  {
   "cell_type": "markdown",
   "id": "d75801f8",
   "metadata": {},
   "source": [
    "**<font color=red>QUESTION:</font>** Is an invertible matrix always square? Why or why not? "
   ]
  },
  {
   "cell_type": "code",
   "execution_count": null,
   "id": "8a2c1f76",
   "metadata": {},
   "outputs": [],
   "source": [
    "# put your answer here"
   ]
  },
  {
   "cell_type": "markdown",
   "id": "a9496ecb",
   "metadata": {},
   "source": [
    "**<font color=red>QUESTION:</font>** Is a square matrix always invertible? Why or why not? Provide an example."
   ]
  },
  {
   "cell_type": "code",
   "execution_count": null,
   "id": "4ae756bf",
   "metadata": {},
   "outputs": [],
   "source": [
    "# put your answer here"
   ]
  },
  {
   "cell_type": "markdown",
   "id": "82547425",
   "metadata": {},
   "source": [
    "<font color=blue>**Example**. Describe the Elementary Row Operation that is implemented by the following matrix\n",
    "$$E_1=\n",
    "\\left[\n",
    "\\begin{matrix}\n",
    "    0 & 1 & 0 \\\\ \n",
    "    1 & 0 & 0 \\\\ \n",
    "    0 & 0 & 1 \n",
    "\\end{matrix}\n",
    "\\right]\n",
    "$$"
   ]
  },
  {
   "cell_type": "code",
   "execution_count": null,
   "id": "bdc3e52d",
   "metadata": {},
   "outputs": [],
   "source": [
    "# put your answer here"
   ]
  },
  {
   "cell_type": "markdown",
   "id": "5f3b09df",
   "metadata": {},
   "source": [
    "Consider the matrix $A$ given by:"
   ]
  },
  {
   "cell_type": "code",
   "execution_count": null,
   "id": "a6b66d79",
   "metadata": {},
   "outputs": [],
   "source": [
    "A = np.matrix([[3, -3,9], [2, -2, 7], [-1, 2, -4]])\n",
    "sym.Matrix(A)"
   ]
  },
  {
   "cell_type": "markdown",
   "id": "774bdf9b",
   "metadata": {},
   "source": [
    "Multiply the matrix $E_1$ from the left with $A$. What happened to the matrix $A$ ?"
   ]
  },
  {
   "cell_type": "code",
   "execution_count": null,
   "id": "4fc9c79a",
   "metadata": {},
   "outputs": [],
   "source": [
    "E1 = np.matrix([[0,1,0], [1,0,0], [0,0,1]])"
   ]
  },
  {
   "cell_type": "code",
   "execution_count": null,
   "id": "6901e2a5",
   "metadata": {},
   "outputs": [],
   "source": [
    "A1 = \n",
    "sym.Matrix(A1)"
   ]
  },
  {
   "cell_type": "code",
   "execution_count": null,
   "id": "676e2a37",
   "metadata": {},
   "outputs": [],
   "source": [
    "# put your answer here"
   ]
  },
  {
   "cell_type": "markdown",
   "id": "a2c07901",
   "metadata": {},
   "source": [
    "**<font color=red>DO THIS</font>**: Define a $3\\times 3$ elementary matrix named ```E2``` that swaps row 3 with row 1. Apply it to the matrix `A`, and store the result as a new variable `A2`."
   ]
  },
  {
   "cell_type": "code",
   "execution_count": null,
   "id": "7f66bcc7",
   "metadata": {},
   "outputs": [],
   "source": [
    "# Put your answer here.  \n",
    "E2 =\n",
    "A2 = E2@A\n",
    "sym.Matrix(A2)"
   ]
  },
  {
   "cell_type": "markdown",
   "id": "332e791e",
   "metadata": {},
   "source": [
    "**<font color=red>DO THIS</font>**: Give a $3\\times 3$ elementary matrix named ```E3``` that adds $3$ times the first row to the third row. Apply this elementary matrix to the matrix `A2`, and store the result as a new variable `A3`."
   ]
  },
  {
   "cell_type": "code",
   "execution_count": null,
   "id": "63a674ea",
   "metadata": {},
   "outputs": [],
   "source": [
    "# Put your answer here.  \n",
    "E3 = \n",
    "A3 = E3@A2\n",
    "sym.Matrix(A3)"
   ]
  },
  {
   "cell_type": "markdown",
   "id": "9a232e85",
   "metadata": {},
   "source": [
    "**<font color=red>DO THIS</font>**: Give a $3\\times 3$ elementary matrix named ```E4``` that multiplies the second row by $1/2$. Apply this to matrix `A3`, and store the result as a new variable `A4`."
   ]
  },
  {
   "cell_type": "code",
   "execution_count": null,
   "id": "06a71437",
   "metadata": {},
   "outputs": [],
   "source": [
    "# Put your answer here.  \n",
    "E4 = \n",
    "A4 = E4@A3\n",
    "sym.Matrix(A4)"
   ]
  },
  {
   "cell_type": "markdown",
   "id": "967f2cc3",
   "metadata": {},
   "source": [
    "If the above are correct then we can combine the three operators `E2`, `E3`, and `E4` on the original matrix `A` to get `A4` as follows. "
   ]
  },
  {
   "cell_type": "code",
   "execution_count": null,
   "id": "bae97b49",
   "metadata": {},
   "outputs": [],
   "source": [
    "A = np.matrix([[3, -3,9], [2, -2, 7], [-1, 2, -4]])\n",
    "\n",
    "sym.Matrix(E4@E3@E2@A)"
   ]
  },
  {
   "cell_type": "markdown",
   "id": "c9509f31",
   "metadata": {},
   "source": [
    "From previous assignments, we learned that we could string together a bunch of Elementary Row Operations to get matrix $A$ into its Reduced Row Echelon Form. We later discussed that each Elementary Row Operation can be represented by a multiplication by an Elementary Matrix. Thus, the Gauss-Jordan Elimination (using Elementary Row Operations) can be represented as multiplication by a number of Elementary Matrices as follows:\n",
    "\n",
    "$$ E_n \\dots E_3 E_2 E_1 A = RREF $$\n",
    "\n",
    "If $A$ reduces to the identity matrix (i.e. $A$ is row equivalent to $I$, or $RREF=I$), then $A$ has an inverse, and its inverse is just all of the Elementary Matrices multiplied together:\n",
    "\n",
    "$$ A^{-1} = E_n \\dots E_3 E_2 E_1 $$"
   ]
  },
  {
   "cell_type": "markdown",
   "id": "e4f1d304",
   "metadata": {},
   "source": [
    "**<font color=red>DO THIS:</font>** Describe the Reduced Row Echelon Form of a square, invertible matrix."
   ]
  },
  {
   "cell_type": "code",
   "execution_count": null,
   "id": "fb14d5c6",
   "metadata": {},
   "outputs": [],
   "source": [
    "# put your answer here"
   ]
  },
  {
   "cell_type": "markdown",
   "id": "db72d5a5",
   "metadata": {},
   "source": [
    "<font color='blue'> **Example:** Consider the matrix  $A = \\left[\n",
    "\\begin{matrix}\n",
    "    1 & 2 \\\\ \n",
    "    4 & 6 \n",
    "\\end{matrix}\n",
    "\\right] \n",
    "$. Write $A$ in python as an numpy array."
   ]
  },
  {
   "cell_type": "code",
   "execution_count": null,
   "id": "e20bf8bd",
   "metadata": {},
   "outputs": [],
   "source": [
    "# Write your code here."
   ]
  },
  {
   "cell_type": "markdown",
   "id": "056d58f3",
   "metadata": {},
   "source": [
    "$A$ can be reduced into an identity matrix using the following elementary operators\n",
    "\n",
    "| Operation | Elementary Matrix|\n",
    "|:---:|:---:|\n",
    "| Add -4 times row 1 to row 2. | $$E_1 = \\left[\\begin{matrix}1 & 0 \\\\ -4 & 1 \\end{matrix}\\right]$$ |\n",
    "|Add row 2 to row 1. |$$ E_2 = \\left[\\begin{matrix}1 & 1 \\\\ 0 & 1 \\end{matrix}\\right] $$ |\n",
    "| Multiply row 2 by $-\\frac{1}{2}$.| $$E_3 = \\left[\\begin{matrix}1 & 0 \\\\     0 & -\\frac{1}{2} \\end{matrix}\\right]$$ |"
   ]
  },
  {
   "cell_type": "markdown",
   "id": "c227a0b9",
   "metadata": {},
   "source": [
    "<font color=blue>**Example**. Write the above matrices in python and use them to calculate $A^{-1}$. Verify your result."
   ]
  },
  {
   "cell_type": "code",
   "execution_count": null,
   "id": "6b1933a2",
   "metadata": {},
   "outputs": [],
   "source": [
    "# introduce E1, E2, E3 using numpy\n",
    "E1=\n",
    "E2=\n",
    "E3=\n",
    "#Calculate A_inv by using E1,E2,E3\n",
    "A_inv=\n",
    "#Check the fact that A_inv is the inverse of A\n",
    "np.allclose(A_inv@A, [[1,0],[0,1]])"
   ]
  },
  {
   "cell_type": "markdown",
   "id": "0430cbf0",
   "metadata": {},
   "source": [
    "<font color='blue'>**Example**. Let $T$ be the transformation $T(x)=Ax$, where $A=\\begin{bmatrix} 1&2\\\\-1&3\\end{bmatrix}$.\\\n",
    "(a) Is $A$ invertible?\\\n",
    "(b) Using (a), find the vector $x$ has $T(x)=\\begin{bmatrix} -6\\\\-14\\end{bmatrix}$. "
   ]
  },
  {
   "cell_type": "code",
   "execution_count": null,
   "id": "eb83d48a",
   "metadata": {},
   "outputs": [],
   "source": [
    "#put your answer here"
   ]
  },
  {
   "cell_type": "markdown",
   "id": "a98a495d",
   "metadata": {},
   "source": [
    "<font color='blue'>**Example**. Create a function that will get a matrix $A$ and do the following:\\\n",
    "(a) Check if it's square and print a message.\\\n",
    "(b) Calculate its inverse if possible.\\\n",
    "(c) Return a message saying that the matrix is not invertible if it does not have an inverse."
   ]
  },
  {
   "cell_type": "code",
   "execution_count": null,
   "id": "89b60691",
   "metadata": {},
   "outputs": [],
   "source": [
    "#Complete the following code:\n",
    "def inverse(A):\n",
    "    A=np.array(A)\n",
    "    if A.shape[...]!=A.shape[...]:\n",
    "        print('the matrix is not square')\n",
    "    else:\n",
    "        try:\n",
    "            A_inv=...\n",
    "            return A_inv\n",
    "        except Exception as e:\n",
    "            print(f\"The Matrix is not invertible!\")\n",
    "        \n",
    "    "
   ]
  },
  {
   "cell_type": "code",
   "execution_count": null,
   "id": "f9f46460",
   "metadata": {},
   "outputs": [],
   "source": [
    "A=np.array([[1,2],[2,1]])\n",
    "inverse(...)"
   ]
  },
  {
   "cell_type": "code",
   "execution_count": null,
   "id": "6fd5addd",
   "metadata": {},
   "outputs": [],
   "source": [
    "B=np.array([[1,2],[1,2]])\n",
    "inverse(...)"
   ]
  }
 ],
 "metadata": {
  "kernelspec": {
   "display_name": "Python 3 (ipykernel)",
   "language": "python",
   "name": "python3"
  },
  "language_info": {
   "codemirror_mode": {
    "name": "ipython",
    "version": 3
   },
   "file_extension": ".py",
   "mimetype": "text/x-python",
   "name": "python",
   "nbconvert_exporter": "python",
   "pygments_lexer": "ipython3",
   "version": "3.9.12"
  }
 },
 "nbformat": 4,
 "nbformat_minor": 5
}
