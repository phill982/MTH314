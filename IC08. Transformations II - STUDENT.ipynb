{
 "cells": [
  {
   "cell_type": "markdown",
   "metadata": {},
   "source": [
    "# Transformations II\n",
    "<img alt=\"Alternative visual representation showing how the four Fundamental Subspaces spaces map to each other\" src=\"https://upload.wikimedia.org/wikipedia/commons/4/4c/KerIm_2015Joz_L2.png\" width=\"40%\">"
   ]
  },
  {
   "cell_type": "markdown",
   "metadata": {},
   "source": [
    "## Kernel and Image"
   ]
  },
  {
   "cell_type": "markdown",
   "metadata": {},
   "source": [
    "Recall, if $L:V\\to W$ is a transformation then we define\n",
    "\n",
    "$$\\text{ker}(L)=\\{x\\in V: L(x)=0\\}$$\n",
    "$$\\text{Im}(L)=\\{w\\in W: \\text{there is x in }V\\text{ with } L(x)=w\\} $$"
   ]
  },
  {
   "cell_type": "code",
   "execution_count": null,
   "metadata": {},
   "outputs": [],
   "source": [
    "import sympy as sym\n",
    "import numpy as np"
   ]
  },
  {
   "cell_type": "markdown",
   "metadata": {},
   "source": [
    "<font color='blue'> **Example** Let $L:\\mathbb{R}^4 \\to \\mathbb{R}^3$ be a matrix transformation with $L(\\mathbf{x})=A\\mathbf{x}$, where $A=\\begin{bmatrix} 0&1&2&-1\\\\ 2& 8& 2& -6\\\\ 2& 7& 0&-5 \\end{bmatrix} $. Find the **kernel** of $L$ and describe it geometrically."
   ]
  },
  {
   "cell_type": "code",
   "execution_count": null,
   "metadata": {},
   "outputs": [],
   "source": [
    "A = np.array([[ 0, 1, 2, -1], [2, 8, 2, -6],  [2, 7, 0, -5]])"
   ]
  },
  {
   "cell_type": "markdown",
   "metadata": {},
   "source": [
    "<font color='blue'>  Is the vector $b_1=\\begin{bmatrix} 0\\\\ 2\\\\ 2 \\end{bmatrix} $ in the **image** of $L$?"
   ]
  },
  {
   "cell_type": "code",
   "execution_count": null,
   "metadata": {},
   "outputs": [],
   "source": []
  },
  {
   "cell_type": "markdown",
   "metadata": {},
   "source": [
    "<font color='blue'>  Is the vector $b_2=\\begin{bmatrix} -1\\\\ 3\\\\ 1 \\end{bmatrix} $ in the **image** of $L$?"
   ]
  },
  {
   "cell_type": "code",
   "execution_count": null,
   "metadata": {},
   "outputs": [],
   "source": []
  },
  {
   "cell_type": "markdown",
   "metadata": {},
   "source": [
    "\n",
    "##  One-to-one, onto, and Inverse transforms\n",
    "\n",
    "**Definition:** A transformation $T:U\\mapsto V$ is said to be *one-to-one* if each element in the range is the image of just one element in the domain. That is, for two elements ($x$ and $y$) in $U$, $T(x)=T(y)$ happens only when $x=y$.\n",
    "\n",
    "**Definition:** A transformation $T:U\\mapsto V$ is said to be *onto* if for each $b\\in V$, there is at least one solution to the equation $T(x)=b$.\n",
    "\n",
    "**Definition:** A linear transformation $T:U\\mapsto V$ is said to be *invertible* if there exists a transformation $S:V\\mapsto U$, such that \n",
    "$$S(T(u))=u,\\quad\\text{and}\\quad T(S(v))=v,$$\n",
    "for any $v$ in $V$ and any $u$ in $U$. (invertible are both one-to-one and onto)"
   ]
  },
  {
   "cell_type": "markdown",
   "metadata": {},
   "source": [
    "<font color='blue'> **Example** Check whether the following transformations are one-to-one, onto, both or neither. Justify your answers."
   ]
  },
  {
   "cell_type": "markdown",
   "metadata": {},
   "source": [
    "<font color='blue'> $L_1:\\mathbb{R}^4 \\to \\mathbb{R}^3$ be a matrix transformation with $L(\\mathbf{x})=A_1\\mathbf{x}$, where $A_1=\\begin{bmatrix} 0&1&2&-1\\\\ 2& 8& 2& -6\\\\ 2& 7& 0&-5 \\end{bmatrix} $."
   ]
  },
  {
   "cell_type": "code",
   "execution_count": null,
   "metadata": {},
   "outputs": [],
   "source": [
    "L1= np.array([[ 0, 1, 2, -1], [2, 8, 2, -6],  [2, 7, 0, -5]])\n"
   ]
  },
  {
   "cell_type": "markdown",
   "metadata": {},
   "source": [
    "<font color='blue'> $L_2:\\mathbb{R}^4 \\to \\mathbb{R}^3$ be a matrix transformation with $L(\\mathbf{x})=A_2\\mathbf{x}$, where $A_2=\\begin{bmatrix} 0&1&2&-1\\\\ 2& 8& 2& -6\\\\ 2& 3& 0&2 \\end{bmatrix} $."
   ]
  },
  {
   "cell_type": "code",
   "execution_count": null,
   "metadata": {},
   "outputs": [],
   "source": [
    "L2= np.array([[ 0, 1, 2, -1], [2, 8, 2, -6],  [2, 3, 0, 2]])\n"
   ]
  },
  {
   "cell_type": "markdown",
   "metadata": {},
   "source": [
    "<font color='blue'> $L_3:\\mathbb{R}^3 \\to \\mathbb{R}^3$ be a matrix transformation with $L(\\mathbf{x})=A_3\\mathbf{x}$, where $A_3=\\begin{bmatrix} 1&2&-2\\\\ 0& 1& 1\\\\ -1& -1& 4 \\end{bmatrix} $."
   ]
  },
  {
   "cell_type": "code",
   "execution_count": null,
   "metadata": {},
   "outputs": [],
   "source": [
    "L3=np.array([[ 1, 2, -2], [0, 1, 1],  [-1, -1, 4]])\n"
   ]
  },
  {
   "cell_type": "markdown",
   "metadata": {},
   "source": [
    "<font color='blue'> $L_4:\\mathbb{R}^3 \\to \\mathbb{R}^3$ be a matrix transformation with $L(\\mathbf{x})=A_4\\mathbf{x}$, where $A_4=\\begin{bmatrix} 1&2&7\\\\ 0& 1& 3\\\\ -1& -1& -4 \\end{bmatrix} $."
   ]
  },
  {
   "cell_type": "code",
   "execution_count": null,
   "metadata": {},
   "outputs": [],
   "source": [
    "L4=np.array([[ 1, 2, 7], [0, 1, 3],  [-1, -1, -4]])\n"
   ]
  },
  {
   "cell_type": "markdown",
   "metadata": {},
   "source": [
    "<font color='blue'> $L_5:\\mathbb{R}^2 \\to \\mathbb{R}^3$ be a matrix transformation with $L(\\mathbf{x})=A_5\\mathbf{x}$, where $A_4=\\begin{bmatrix} 1&2\\\\ 0& 1\\\\ -1& -1 \\end{bmatrix} $."
   ]
  },
  {
   "cell_type": "code",
   "execution_count": null,
   "metadata": {},
   "outputs": [],
   "source": [
    "L5=np.array([[ 1, 2], [0, 1],  [-1, -1]])\n"
   ]
  },
  {
   "cell_type": "markdown",
   "metadata": {},
   "source": [
    "**<font color=red>QUESTION :</font>** <font color=blue> What do you notice? If $L:\\mathbb{R}^n \\to \\mathbb{R}^m$ is a matrix transformation, what should be the necessary conditions to have one-to-one, onto, or both? "
   ]
  },
  {
   "cell_type": "code",
   "execution_count": null,
   "metadata": {},
   "outputs": [],
   "source": []
  },
  {
   "cell_type": "markdown",
   "metadata": {},
   "source": [
    "Notice: The relations you observed are not sufficient. For example, if $n=m$, we do not have always both one-to-one and onto transformations."
   ]
  },
  {
   "cell_type": "markdown",
   "metadata": {},
   "source": [
    "**<font color=red>QUESTION :</font>** <font color=blue> If linear transformation $T:\\mathbb{R}^8\\mapsto \\mathbb{R}^m$ is invertible, what is $m$? Why?"
   ]
  },
  {
   "cell_type": "code",
   "execution_count": null,
   "metadata": {},
   "outputs": [],
   "source": []
  },
  {
   "cell_type": "markdown",
   "metadata": {},
   "source": [
    "<font color='blue'> **Example**: Find the **inverse** of the transformation $L_3$"
   ]
  },
  {
   "cell_type": "code",
   "execution_count": null,
   "metadata": {},
   "outputs": [],
   "source": [
    "L3_inv= \n"
   ]
  },
  {
   "cell_type": "markdown",
   "metadata": {},
   "source": [
    "<font color='blue'> **Example**: Find a matrix transformation $T:\\mathbb{R}^2\\to\\mathbb{R}^2$ that projects all the point onto x-axis, then rotates them counterclockwise by 45 degrees and then reflects them about y-axis."
   ]
  },
  {
   "cell_type": "code",
   "execution_count": null,
   "metadata": {},
   "outputs": [],
   "source": [
    "Proj=\n",
    "Rot = \n",
    "Ref = \n",
    "Mat =\n",
    "Mat"
   ]
  },
  {
   "cell_type": "markdown",
   "metadata": {},
   "source": [
    "<font color='blue'> **Example**: Find the matrix transformation $T:\\mathbb{R}^2\\to\\mathbb{R}^2$ that projects all the vectors $\\begin{bmatrix} x\\\\y\\end{bmatrix}$ onto the vector $\\begin{bmatrix} 1\\\\2\\end{bmatrix}$. Is this transformation one-to-one? Hint: Think of the orthogonal projection of the vector $(x,y)$ onto $(1,2)$."
   ]
  },
  {
   "cell_type": "code",
   "execution_count": null,
   "metadata": {},
   "outputs": [],
   "source": []
  },
  {
   "cell_type": "markdown",
   "metadata": {},
   "source": [
    "<font color='blue'> **Example**: Create a function in python that takes as an input an $n\\times n$ matrix $A$ and returns a message about whether the matrix transform $T(x)=Ax$ is one-to-one, onto, both or neither."
   ]
  },
  {
   "cell_type": "code",
   "execution_count": null,
   "metadata": {},
   "outputs": [],
   "source": [
    "def check_transform(A):\n",
    "    A =  #turn A to np.array\n",
    "    if       :  #check if the number of rows equals the number of columns of A\n",
    "        rref_A = \n",
    "        identity_matrix = \n",
    "        if np.array_equal( ... , ... ): #checks if rref and identity are equal as np.arrays\n",
    "         \n",
    "     "
   ]
  },
  {
   "cell_type": "markdown",
   "metadata": {},
   "source": [
    "Test your function with the transformations $L_2$, $L_3$, $L_4$ and $L_5$."
   ]
  },
  {
   "cell_type": "code",
   "execution_count": null,
   "metadata": {},
   "outputs": [],
   "source": []
  }
 ],
 "metadata": {
  "kernelspec": {
   "display_name": "Python 3 (ipykernel)",
   "language": "python",
   "name": "python3"
  },
  "language_info": {
   "codemirror_mode": {
    "name": "ipython",
    "version": 3
   },
   "file_extension": ".py",
   "mimetype": "text/x-python",
   "name": "python",
   "nbconvert_exporter": "python",
   "pygments_lexer": "ipython3",
   "version": "3.9.12"
  },
  "vscode": {
   "interpreter": {
    "hash": "8b2c85dee4b15c10153756b0027e296b51ea001992bd346e27370dd8f71df9c4"
   }
  }
 },
 "nbformat": 4,
 "nbformat_minor": 4
}
