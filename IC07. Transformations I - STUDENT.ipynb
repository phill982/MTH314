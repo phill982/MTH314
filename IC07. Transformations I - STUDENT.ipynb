{
 "cells": [
  {
   "cell_type": "markdown",
   "metadata": {},
   "source": [
    "# Transformations I\n",
    "<img alt=\"Alternative visual representation showing how the four Fundamental Subspaces spaces map to each other\" src=\"https://upload.wikimedia.org/wikipedia/commons/4/4c/KerIm_2015Joz_L2.png\" width=\"40%\">"
   ]
  },
  {
   "cell_type": "markdown",
   "metadata": {},
   "source": [
    "\n",
    "##  Affine Transforms in 2D\n",
    "\n",
    "We are going to explore different types of transformation matrices. \n",
    "The following code is designed to demonstrate the properties of some different transformation matrices.  "
   ]
  },
  {
   "cell_type": "markdown",
   "metadata": {},
   "source": [
    "<font color='blue'>**Example**. Let $T$ be the transformation $T(x)=Ax$, where $A=\\begin{bmatrix} 1&2\\\\-1&3\\end{bmatrix}$.\\\n",
    "    (a) Find where $T$ maps the vector $\\begin{bmatrix} -5\\\\4\\end{bmatrix}$."
   ]
  },
  {
   "cell_type": "code",
   "execution_count": null,
   "metadata": {},
   "outputs": [],
   "source": [
    "#put your answer here\n",
    "import numpy as np "
   ]
  },
  {
   "cell_type": "markdown",
   "metadata": {},
   "source": [
    "<font color='blue'> (b) Find the vector $x$ has $T(x)=\\begin{bmatrix} -6\\\\-14\\end{bmatrix}$"
   ]
  },
  {
   "cell_type": "code",
   "execution_count": null,
   "metadata": {},
   "outputs": [],
   "source": [
    "#put your answer here (solve a system)"
   ]
  },
  {
   "cell_type": "markdown",
   "metadata": {},
   "source": [
    "<font color='blue'>**Example**. Let $T$ be the transformation $T(x)=Mx$. Find the matrix $M=\\begin{bmatrix} a&b\\\\c&d\\end{bmatrix}$ such that $T$ maps $\\begin{bmatrix} -1\\\\2\\end{bmatrix}$ to $\\begin{bmatrix} -7\\\\0\\end{bmatrix}$ and $\\begin{bmatrix} 3\\\\-8\\end{bmatrix}$ to $\\begin{bmatrix} 27\\\\-2\\end{bmatrix}$."
   ]
  },
  {
   "cell_type": "code",
   "execution_count": null,
   "metadata": {},
   "outputs": [],
   "source": [
    "#put your answer here (solve two systems)"
   ]
  },
  {
   "cell_type": "markdown",
   "metadata": {},
   "source": [
    "\n",
    "\n",
    "**<font color=red>DO THIS:</font>** Now let's see some nice transformations and their matrices: rotation, scaling, reflection and shear."
   ]
  },
  {
   "cell_type": "code",
   "execution_count": null,
   "metadata": {},
   "outputs": [],
   "source": [
    "#Some python packages we will be using\n",
    "%matplotlib inline\n",
    "import numpy as np\n",
    "import matplotlib.pylab as plt\n",
    "from mpl_toolkits.mplot3d import Axes3D # Lets make 3D plots\n",
    "import numpy as np\n",
    "import sympy as sym\n",
    "sym.init_printing(use_unicode=True) # Trick to make matrixes look nice in jupyter\n",
    "import copy"
   ]
  },
  {
   "cell_type": "code",
   "execution_count": null,
   "metadata": {},
   "outputs": [],
   "source": [
    "# Define some points\n",
    "x = [0.0,  0.0,  2.0,  8.0, 10.0, 10.0, 8.0, 4.0, 3.0, 3.0, 4.0, 6.0, 7.0, 7.0, 10.0, \n",
    "     10.0,  8.0,  2.0, 0.0, 0.0, 2.0, 6.0, 7.0,  7.0,  6.0,  4.0,  3.0, 3.0, 0.0]\n",
    "y = [0.0, -2.0, -4.0, -4.0, -2.0,  2.0, 4.0, 4.0, 5.0, 7.0, 8.0, 8.0, 7.0, 6.0,  6.0,\n",
    "     8.0, 10.0, 10.0, 8.0, 4.0, 2.0, 2.0, 1.0, -1.0, -2.0, -2.0, -1.0, 0.0, 0.0]\n",
    "con = [ 1.0 for i in range(len(x))] \n",
    "\n",
    "p = np.matrix([x,y])\n",
    "\n",
    "\n",
    "#mp = p.copy()\n",
    "mp = copy.deepcopy(p)\n",
    "\n",
    "#Plot Points\n",
    "plt.plot(mp[0,:].tolist()[0],mp[1,:].tolist()[0], color='green');\n",
    "plt.axis('scaled');\n",
    "plt.axis([-20,20,-15,30]);\n",
    "plt.title('Start Location');"
   ]
  },
  {
   "cell_type": "markdown",
   "metadata": {},
   "source": [
    "<font color='blue'> **Example**. **Scaling transformation**. Try different scales in the following plot and get different results."
   ]
  },
  {
   "cell_type": "code",
   "execution_count": null,
   "metadata": {},
   "outputs": [],
   "source": [
    "#Example Scaling Matrix\n",
    "\n",
    "#Define Matrix\n",
    "scale =                        #The amount that coordinates are scaled.\n",
    "S = np.matrix([[scale,0], [0,scale]])\n",
    "\n",
    "#Apply matrix\n",
    "\n",
    "mp = p.copy()\n",
    "mp = S*mp\n",
    "\n",
    "#Plot points after transform\n",
    "plt.plot(mp[0,:].tolist()[0],mp[1,:].tolist()[0], color='green')\n",
    "plt.axis('scaled');\n",
    "plt.axis([-20,20,-15,30]);\n",
    "#plt.axis('equal');\n",
    "plt.title('After Scaling')\n",
    "#plt.plot([p[0,14],mp[0,14]],[p[1,14],mp[1,14]], color='blue');\n",
    "\n",
    "#Uncomment the next line if you want to see the original.\n",
    "plt.plot(p[0,:].tolist()[0],p[1,:].tolist()[0], color='blue',alpha=0.3);\n",
    "\n",
    "sym.Matrix(S)"
   ]
  },
  {
   "cell_type": "markdown",
   "metadata": {},
   "source": [
    "<font color='blue'> **Example**. **Reflection transformation**. Try reflecting across the x-axis, y-axis."
   ]
  },
  {
   "cell_type": "code",
   "execution_count": null,
   "metadata": {},
   "outputs": [],
   "source": [
    "#Example Reflection Matrix\n",
    "\n",
    "#Define Matrix\n",
    "Re = np.matrix([[-1,0],[0,1]]) ## Makes all x-values opposite so it reflects about the y-axis.\n",
    "\n",
    "#Apply matrix\n",
    "\n",
    "mp = p.copy()\n",
    "\n",
    "mp = Re*mp\n",
    "\n",
    "#Plot points after transform\n",
    "plt.plot(mp[0,:].tolist()[0],mp[1,:].tolist()[0], color='green')\n",
    "plt.axis('scaled');\n",
    "plt.axis([-20,20,-15,30]);\n",
    "plt.title('After Reflection Along y-axis')\n",
    "\n",
    "\n",
    "#Uncomment the next line if you want to see the original.\n",
    "plt.plot(p[0,:].tolist()[0],p[1,:].tolist()[0], color='blue',alpha=0.3);\n",
    "\n",
    "sym.Matrix(Re)"
   ]
  },
  {
   "cell_type": "markdown",
   "metadata": {},
   "source": [
    "<font color='blue'> **Example**. **Rotation Matrix**. Try rotating for different angles."
   ]
  },
  {
   "cell_type": "markdown",
   "metadata": {},
   "source": [
    "We can rotate these points around the origin by using the following simple set of equations:\n",
    "\n",
    "$$ x \\cos(\\theta) - y \\sin(\\theta) = x_{\\text{rotated}} $$\n",
    "$$ x \\sin(\\theta) + y \\cos(\\theta) = y_{\\text{rotated}} $$\n",
    "\n",
    "This can be rewritten in the following matrix form:\n",
    "\n",
    "$$\n",
    "\\left[\n",
    "\\begin{matrix}\n",
    "    \\cos(\\theta) & -\\sin(\\theta) \\\\ \n",
    "    \\sin(\\theta) & \\cos(\\theta)\n",
    "\\end{matrix}\n",
    "\\right] \n",
    "\\left[\n",
    "\\begin{matrix}\n",
    "    x \\\\\n",
    "    y\n",
    "\\end{matrix}\n",
    "\\right] \n",
    "=\n",
    "\\left[\n",
    "\\begin{matrix}\n",
    "    x_{\\text{rotated}}\\\\ \n",
    "    y_{\\text{rotated}}\n",
    "\\end{matrix}\n",
    "\\right]\n",
    "$$"
   ]
  },
  {
   "cell_type": "code",
   "execution_count": null,
   "metadata": {},
   "outputs": [],
   "source": [
    "#Example Rotation Matrix\n",
    "\n",
    "#Define Matrix\n",
    "degrees =   # how many do you want?\n",
    "theta = degrees * np.pi / 180  ##Make sure to always convert from degrees to radians. \n",
    "\n",
    "# Rotates the points _?_ degrees counterclockwise.\n",
    "R = np.matrix([[np.cos(theta),-np.sin(theta)],[np.sin(theta), np.cos(theta)]]) \n",
    "\n",
    "#Apply matrix\n",
    "mp = p.copy()\n",
    "\n",
    "mp = R*mp\n",
    "\n",
    "#Plot points after transform\n",
    "plt.plot(mp[0,:].tolist()[0],mp[1,:].tolist()[0], color='green')\n",
    "plt.axis('scaled')\n",
    "plt.axis([-10,20,-15,30])\n",
    "plt.title('After Rotation')\n",
    "\n",
    "#Uncomment the next line if you want to see the original.\n",
    "# plt.plot(p[0,:].tolist()[0],p[1,:].tolist()[0], color='blue',alpha=0.3);\n",
    "\n",
    "sym.Matrix(R)"
   ]
  },
  {
   "cell_type": "markdown",
   "metadata": {},
   "source": [
    "\n",
    "We can even have a little fun and keep applying the same rotation over and over again. "
   ]
  },
  {
   "cell_type": "code",
   "execution_count": null,
   "metadata": {},
   "outputs": [],
   "source": [
    "points = np.matrix([x,y])\n",
    "rot=R*points\n",
    "\n",
    "\n",
    "# Apply R and plot ? times\n",
    "for i in range(0, ?): #Change ? to the times you want to rotate the points\n",
    "    rot = R * rot\n",
    "    plt.plot(rot[0].T,rot[1].T);\n",
    "\n",
    "#plt.axis('equal');\n",
    "plt.axis('scaled');\n",
    "plt.axis([-20,20,-15,30]);"
   ]
  },
  {
   "cell_type": "markdown",
   "metadata": {},
   "source": [
    "<font color='blue'> **Example**. **Shear Transformation**. Experiment with different values of ``shx`` to see its effect."
   ]
  },
  {
   "cell_type": "code",
   "execution_count": null,
   "metadata": {},
   "outputs": [],
   "source": [
    "#Example Shear Matrix\n",
    "\n",
    "#Define Matrix\n",
    "shx=1.1 # shear in the x-direction\n",
    "SHx =   np.matrix([[1,shx], [0,1]])\n",
    "\n",
    "#Apply matrix\n",
    "mp = p.copy()\n",
    "\n",
    "mp = SHx*mp\n",
    "\n",
    "#Plot points after transform\n",
    "plt.plot(mp[0,:].tolist()[0],mp[1,:].tolist()[0], color='green')\n",
    "plt.axis('scaled')\n",
    "plt.axis([-10,20,-15,30])\n",
    "plt.title('After Shear along x-axis')\n",
    "\n",
    "#Uncomment the next line if you want to see the original.\n",
    "plt.plot(p[0,:].tolist()[0],p[1,:].tolist()[0], color='blue',alpha=0.3);\n",
    "\n",
    "sym.Matrix(SHx)"
   ]
  },
  {
   "cell_type": "markdown",
   "metadata": {},
   "source": [
    "<font color='blue'> **Example**. Modify the code above to make the shear for the y-axis. Hint: You only need to modify `shx` and a little bit of the matrix to make it work. To avoid confusion call the new matrix `SHy` and the variable `shy`."
   ]
  },
  {
   "cell_type": "code",
   "execution_count": null,
   "metadata": {},
   "outputs": [],
   "source": [
    "#Example Shear Matrix y-axis\n",
    "\n",
    "#Define Matrix\n",
    "shy =      # shear in the x-direction\n",
    "SHy =   np.matrix([[1,0], [shy,1]])\n",
    "\n",
    "#Apply matrix\n",
    "mp = p.copy()\n",
    "\n",
    "mp = SHy*mp\n",
    "\n",
    "#Plot points after transform\n",
    "plt.plot(mp[0,:].tolist()[0],mp[1,:].tolist()[0], color='green')\n",
    "plt.axis('scaled')\n",
    "plt.axis([-10,20,-15,30])\n",
    "plt.title('After Shear along x-axis')\n",
    "\n",
    "#Uncomment the next line if you want to see the original.\n",
    "plt.plot(p[0,:].tolist()[0],p[1,:].tolist()[0], color='blue',alpha=0.3);\n",
    "\n",
    "sym.Matrix(SHy)"
   ]
  },
  {
   "cell_type": "markdown",
   "metadata": {},
   "source": [
    "<font color='blue'> **Example**. **Translation Transformation**. Try translating for different values of dx and dy and see the results."
   ]
  },
  {
   "cell_type": "code",
   "execution_count": null,
   "metadata": {},
   "outputs": [],
   "source": [
    "#import sympy as Sym\n",
    "\n",
    "\n",
    "#Define Matrix\n",
    "dx =   #The amount shifted in the x-direction\n",
    "dy =  #The amount shifted in the y-direction\n",
    "\n",
    "mp = p.copy()\n",
    "\n",
    "Tr=np.array([[dx]*mp.shape[1],[dy]*mp.shape[1]])\n",
    "\n",
    "T=mp+Tr\n",
    "\n",
    "#Plot points after transform\n",
    "plt.plot(T[0,:].tolist()[0],T[1,:].tolist()[0], color='green')\n",
    "#plt.axis('equal');\n",
    "plt.axis('scaled');\n",
    "plt.axis([-20,20,-15,30]);\n",
    "plt.title('After Translation')\n",
    "\n",
    "#Uncomment the next line if you want to see the original.\n",
    "plt.plot(p[0,:].tolist()[0],p[1,:].tolist()[0], color='blue',alpha=0.3);\n"
   ]
  },
  {
   "cell_type": "markdown",
   "metadata": {},
   "source": [
    "### Combine Transforms\n",
    "\n",
    "We have five transforms `R`, `S`, `Re`, `SHx`, and `SHy`.\n",
    "\n",
    "<font color=blue>**Example**. Construct a ($2 \\times 2$) transformation Matrix (called `M`) which combines these five transforms into a single matrix. You can choose different orders for these six matrices, then compare your result with other students. "
   ]
  },
  {
   "cell_type": "code",
   "execution_count": null,
   "metadata": {},
   "outputs": [],
   "source": [
    "#Put your code here \n",
    "\n",
    "M=\n",
    "#Plot combined transformed points\n",
    "mp = p.copy()\n",
    "mp = M*mp\n",
    "plt.plot(mp[0,:].tolist()[0],mp[1,:].tolist()[0], color='green');\n",
    "plt.axis('scaled');\n",
    "plt.axis([-50,60,-50,100]);\n",
    "plt.title('Start Location');\n",
    "\n",
    "#Uncomment the next line if you want to see the original.\n",
    "plt.plot(p[0,:].tolist()[0],p[1,:].tolist()[0], color='blue',alpha=0.3);"
   ]
  },
  {
   "cell_type": "markdown",
   "metadata": {},
   "source": [
    "**<font color=red>Question:</font>** Did you get the same result with the rest of your group-mates? You can compare the matrix `M` to see the difference. If not, can you explain why it happens?"
   ]
  },
  {
   "cell_type": "code",
   "execution_count": null,
   "metadata": {},
   "outputs": [],
   "source": [
    "#Put your answer here"
   ]
  },
  {
   "cell_type": "markdown",
   "metadata": {},
   "source": [
    "<font color=red> **DO THIS:**</font> Create a function that first rotates the points ```p``` by 45 degrees, then scales them by 2, then translates them by $dx = -12$, $dy = 15$ and finally reflectects them about the x-axis!"
   ]
  },
  {
   "cell_type": "code",
   "execution_count": null,
   "metadata": {},
   "outputs": [],
   "source": [
    "#Put your answer here\n",
    "def transformation(p): #p = np.array([x,y])\n",
    "    R= \n",
    "    S= \n",
    "    Tr= \n",
    "    Re= \n",
    "    W_xy = \n",
    "    W = W_xy #rename the transform W_xy to W in order to simplify the notation; Notice that W is not a matrix, but a transform\n",
    "    return W"
   ]
  },
  {
   "cell_type": "markdown",
   "metadata": {},
   "source": [
    "<font color=blue> **Example**. Apply the function to the list of points we have from the beginning (`p = np.array([x,y])`). Then complete the code to plot the new graph."
   ]
  },
  {
   "cell_type": "code",
   "execution_count": null,
   "metadata": {},
   "outputs": [],
   "source": [
    "#Plot combined transformed points\n",
    "W= transformation(...)\n",
    "\n",
    "plt.plot(W[0,:].tolist()[0],W[1,:].tolist()[0], color='green');\n",
    "plt.axis('scaled');\n",
    "plt.axis([-50,60,-50,100]);\n",
    "plt.title('Start Location');\n",
    "\n",
    "#Uncomment the next line if you want to see the original.\n",
    "plt.plot(p[0,:].tolist()[0],p[1,:].tolist()[0], color='blue',alpha=0.3);"
   ]
  },
  {
   "cell_type": "markdown",
   "metadata": {},
   "source": [
    "### An Interactive Example\n",
    "First, run the following block of code."
   ]
  },
  {
   "cell_type": "code",
   "execution_count": null,
   "metadata": {},
   "outputs": [],
   "source": [
    "from ipywidgets import interact,interact_manual\n",
    "\n",
    "def affine_image(angle=0.0,scale=1.0,dx=0,dy=0, shx=0, shy=0):\n",
    "    theta = -angle/180  * np.pi\n",
    "    \n",
    "    \n",
    "    plt.plot(p[0,:].tolist()[0],p[1,:].tolist()[0], color='green')\n",
    "    \n",
    "    S = np.matrix([[scale,0], [0,scale] ])\n",
    "    SH1 = np.matrix([[1,shx], [0,1]])\n",
    "    SH2 = np.matrix([[1,0], [shy,1]])\n",
    "    T2 = np.array([[dx]*mp.shape[1],[dy]*mp.shape[1]])\n",
    "    R = np.matrix([[np.cos(theta),-np.sin(theta)],[np.sin(theta), np.cos(theta)]])\n",
    "    \n",
    "    # Create transform:\n",
    "    FT = SH2@SH1@R@S;\n",
    "    \n",
    "    p2 =  FT*p+T2;\n",
    "    \n",
    "    #Plot Output\n",
    "    plt.plot(p2[0,:].tolist()[0],p2[1,:].tolist()[0], color='black')\n",
    "    plt.axis('equal')\n",
    "    plt.axis([-20,30,-15,15])\n",
    "    return sym.Matrix(FT)"
   ]
  },
  {
   "cell_type": "markdown",
   "metadata": {},
   "source": [
    "Second, modify the following code at free will to test different values of scaling,rotating etc...\n",
    "The following command might be slow on some peoples computers."
   ]
  },
  {
   "cell_type": "code",
   "execution_count": null,
   "metadata": {},
   "outputs": [],
   "source": [
    "interact(affine_image, angle=(-180,180), scale_manual=(0.01,2), dx=(-5,15,0.5), dy=(-15,15,0.5), shx = (-1,1,0.1), shy = (-1,1,0.1)); "
   ]
  },
  {
   "cell_type": "markdown",
   "metadata": {},
   "source": [
    "**<font color=red>DO THIS:</font>**  Using the above interactive enviornment to see if you can figure out the transformation matrix to make the following image:\n",
    "<img src=\"https://lh6.googleusercontent.com/_0-jr5Z0DQzqVM3TD3Xa3QWC43PBT6ru5M-B-_7dfbib2SSvkNkxtioBFaU__jTvEJMMG9SAVg=w380\">"
   ]
  },
  {
   "cell_type": "markdown",
   "metadata": {},
   "source": [
    "**<font color=red>Question:</font>** What were the input values?"
   ]
  },
  {
   "cell_type": "markdown",
   "metadata": {},
   "source": [
    "r = \n",
    "\n",
    "scale = \n",
    "\n",
    "dx = \n",
    "\n",
    "dy = \n",
    "\n",
    "shx = \n",
    "\n",
    "shy = "
   ]
  },
  {
   "cell_type": "markdown",
   "metadata": {},
   "source": [
    "##  Affine Transforms in 3D\n",
    "We are not going to investigate a lot on plotting 3 dimensional objects but it is worth noting, and worth studying, what are the analogs of what we did in two dimensions."
   ]
  },
  {
   "cell_type": "markdown",
   "metadata": {},
   "source": [
    "### Rotation about the $x$-axis\n",
    "\n",
    "$$ \n",
    "\\left[ \\begin{matrix}\n",
    "    x' \\\\\n",
    "    y' \\\\\n",
    "    z' \n",
    " \\end{matrix}\n",
    "\\right] \n",
    "=\n",
    "\\left[ \\begin{matrix}\n",
    "    1 & 0 & 0 \\\\\n",
    "    0 & \\cos(q) & -\\sin(q)   \\\\\n",
    "    0 & \\sin(q) & \\cos(q) \\\\\n",
    " \\end{matrix}\n",
    "\\right] \n",
    "\\left[ \\begin{matrix}\n",
    "    x \\\\\n",
    "    y \\\\\n",
    "    z \n",
    " \\end{matrix}\n",
    "\\right] \n",
    "$$ \n",
    "\n",
    "\n",
    "\n",
    "### Rotation about the $y$-axis\n",
    "$$ \n",
    "\\left[ \\begin{matrix}\n",
    "    x' \\\\\n",
    "    y' \\\\\n",
    "    z'\n",
    " \\end{matrix}\n",
    "\\right] \n",
    "=\n",
    "\\left[ \\begin{matrix}\n",
    "    \\cos(q) & 0 &\\sin(q)  \\\\\n",
    "    0 & 1 & 0 \\\\\n",
    "    -\\sin(q) & 0 &\\cos(q)  \\\\\n",
    " \\end{matrix}\n",
    "\\right] \n",
    "\\left[ \\begin{matrix}\n",
    "    x \\\\\n",
    "    y \\\\\n",
    "    z \n",
    " \\end{matrix}\n",
    "\\right] \n",
    "$$ \n",
    "\n",
    "\n",
    "\n",
    "### Rotation about the $z$-axis\n",
    "\n",
    "$$ \n",
    "\\left[ \\begin{matrix}\n",
    "    x' \\\\\n",
    "    y' \\\\\n",
    "    z' \\\\\n",
    " \\end{matrix}\n",
    "\\right] \n",
    "=\n",
    "\\left[ \\begin{matrix}\n",
    "    \\cos(q) & -\\sin(q) & 0  \\\\\n",
    "    \\sin(q) & \\cos(q) & 0 \\\\\n",
    "    0 & 0 & 1  \n",
    " \\end{matrix}\n",
    "\\right] \n",
    "\\left[ \\begin{matrix}\n",
    "    x \\\\\n",
    "    y \\\\\n",
    "    z\n",
    " \\end{matrix}\n",
    "\\right] \n",
    "$$ \n",
    "\n",
    "\n",
    "### Scaling by $s>0$\n",
    "$$ \n",
    "\\left[ \\begin{matrix}\n",
    "    x' \\\\\n",
    "    y' \\\\\n",
    "    z' \\\\\n",
    " \\end{matrix}\n",
    "\\right] \n",
    "=\n",
    "\\left[ \\begin{matrix}\n",
    "    s & 0 & 0  \\\\\n",
    "    0 & s & 0 \\\\\n",
    "    0 & 0 & s  \n",
    " \\end{matrix}\n",
    "\\right] \n",
    "\\left[ \\begin{matrix}\n",
    "    x \\\\\n",
    "    y \\\\\n",
    "    z\n",
    " \\end{matrix}\n",
    "\\right] \n",
    "$$"
   ]
  },
  {
   "cell_type": "markdown",
   "metadata": {},
   "source": [
    "### Reflection about $xy$-plane\n",
    "$$ \n",
    "\\left[ \\begin{matrix}\n",
    "    x' \\\\\n",
    "    y' \\\\\n",
    "    z' \\\\\n",
    " \\end{matrix}\n",
    "\\right] \n",
    "=\n",
    "\\left[ \\begin{matrix}\n",
    "    1 & 0 & 0  \\\\\n",
    "    0 & 1 & 0 \\\\\n",
    "    0 & 0 & -1  \n",
    " \\end{matrix}\n",
    "\\right] \n",
    "\\left[ \\begin{matrix}\n",
    "    x \\\\\n",
    "    y \\\\\n",
    "    z\n",
    " \\end{matrix}\n",
    "\\right] \n",
    "$$"
   ]
  },
  {
   "cell_type": "markdown",
   "metadata": {},
   "source": [
    "<font color=blue> **Example** Find the matrix of the 3D transform that represents a rotation about $y$-axis by 30 degrees, followed by a reflection about $yz$-plane, and a scaling by 5. "
   ]
  },
  {
   "cell_type": "code",
   "execution_count": null,
   "metadata": {},
   "outputs": [],
   "source": [
    "#put your answer here"
   ]
  }
 ],
 "metadata": {
  "kernelspec": {
   "display_name": "Python 3 (ipykernel)",
   "language": "python",
   "name": "python3"
  },
  "language_info": {
   "codemirror_mode": {
    "name": "ipython",
    "version": 3
   },
   "file_extension": ".py",
   "mimetype": "text/x-python",
   "name": "python",
   "nbconvert_exporter": "python",
   "pygments_lexer": "ipython3",
   "version": "3.9.12"
  },
  "vscode": {
   "interpreter": {
    "hash": "8b2c85dee4b15c10153756b0027e296b51ea001992bd346e27370dd8f71df9c4"
   }
  }
 },
 "nbformat": 4,
 "nbformat_minor": 4
}
