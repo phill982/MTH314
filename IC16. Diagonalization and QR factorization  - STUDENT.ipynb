{
 "cells": [
  {
   "cell_type": "markdown",
   "id": "1ad107c0",
   "metadata": {},
   "source": [
    "\n",
    "## 1. Diagonalization"
   ]
  },
  {
   "cell_type": "markdown",
   "id": "2e69141b",
   "metadata": {},
   "source": [
    " **<font color=blue> Example:** <font color=blue>Consider $ A = \\begin{bmatrix}-4& -6\\\\3& 5\\end{bmatrix}.$\n",
    "Find a matrix $C$ such that $CAC^{-1}$ is diagonal (by hand)"
   ]
  },
  {
   "cell_type": "code",
   "execution_count": null,
   "id": "1842853b",
   "metadata": {},
   "outputs": [],
   "source": [
    "# put your answers here"
   ]
  },
  {
   "cell_type": "code",
   "execution_count": null,
   "id": "46de1087",
   "metadata": {},
   "outputs": [],
   "source": [
    "%matplotlib inline\n",
    "import matplotlib.pylab as plt\n",
    "import numpy as np\n",
    "import sympy as sym\n",
    "sym.init_printing(use_unicode=True)"
   ]
  },
  {
   "cell_type": "markdown",
   "id": "057db5c6",
   "metadata": {},
   "source": [
    "**<font color=red>DO THIS:</font>** Using ```numpy```, Diagonalize (i.e. calculate  C and D) the following matrix (Hint: consider `np.diag`):"
   ]
  },
  {
   "cell_type": "code",
   "execution_count": null,
   "id": "42e5a60e",
   "metadata": {},
   "outputs": [],
   "source": [
    "A = np.matrix([[5, -2, 2], [4, -3, 4], [4,-6,7]])\n",
    "sym.Matrix(A)"
   ]
  },
  {
   "cell_type": "code",
   "execution_count": null,
   "id": "0fc2d6fa",
   "metadata": {},
   "outputs": [],
   "source": [
    "lbd,C = np.linalg.eig(A)\n",
    "sym.Matrix(C)"
   ]
  },
  {
   "cell_type": "code",
   "execution_count": null,
   "id": "b2c75d44",
   "metadata": {},
   "outputs": [],
   "source": [
    "D1 = np.diag(lbd)\n",
    "sym.Matrix(D1)"
   ]
  },
  {
   "cell_type": "markdown",
   "id": "923a76bf",
   "metadata": {},
   "source": [
    "**<font color=red>DO THIS:</font>** Verify that $A$ was diagonalized by confirming that $A$ is equal to $CDC^{-1}$ using ```np.allclose```. (Note that since `np.linalg.eig` outputs the eigenvectors as columns rather than rows, it 'starts' as the inverse, which would be akin to computing $C^{-1}DC$, which fits our original definition of **similar**)"
   ]
  },
  {
   "cell_type": "code",
   "execution_count": null,
   "id": "0becfa34",
   "metadata": {},
   "outputs": [],
   "source": [
    "A2 = .. @ ..  @ .."
   ]
  },
  {
   "cell_type": "code",
   "execution_count": null,
   "id": "6600b31f",
   "metadata": {},
   "outputs": [],
   "source": [
    "np.allclose(A,A2)"
   ]
  },
  {
   "cell_type": "code",
   "execution_count": null,
   "id": "3d47db5c",
   "metadata": {},
   "outputs": [],
   "source": [
    "A = np.matrix([[5, -2, 2], [4, -3, 4], [4,-6,7]])\n",
    "A=sym.Matrix(A)\n",
    "P1, D1 = A.diagonalize()\n",
    "# print P1 and compare with the previous result"
   ]
  },
  {
   "cell_type": "code",
   "execution_count": null,
   "id": "ca59eae8",
   "metadata": {},
   "outputs": [],
   "source": [
    "# Print D1"
   ]
  },
  {
   "cell_type": "markdown",
   "id": "a8295e41",
   "metadata": {},
   "source": [
    "### Benefits of Diagonalization"
   ]
  },
  {
   "cell_type": "code",
   "execution_count": null,
   "id": "29bd0a6b",
   "metadata": {
    "scrolled": true
   },
   "outputs": [],
   "source": [
    "B = np.matrix([[1,1,3], [-3, -5, -3], [3, 3, 1]])\n",
    "sym.Matrix(B)"
   ]
  },
  {
   "cell_type": "markdown",
   "id": "a646b6a4",
   "metadata": {},
   "source": [
    "<font color=blue>**Example:** Calculate the Eigenvalues and Eigenvectors for the above matrix $B$. name the eigenvalues (vals) and the eigenvectors (vecs)"
   ]
  },
  {
   "cell_type": "code",
   "execution_count": null,
   "id": "20eb3fbf",
   "metadata": {},
   "outputs": [],
   "source": [
    "vals, vecs =\n",
    "vals, vecs"
   ]
  },
  {
   "cell_type": "markdown",
   "id": "7125dc0c",
   "metadata": {},
   "source": [
    "The following code sorts the eigenvectors based on the ordering of the eigenvalues. It does this using the argsort algorithm which puts the values in ascending order.  The ```[::-1]``` notation reverses the order of the indexes.  We will put the sorted vectors into a matrix called $P$"
   ]
  },
  {
   "cell_type": "code",
   "execution_count": null,
   "id": "c11d4ee3",
   "metadata": {
    "scrolled": true
   },
   "outputs": [],
   "source": [
    "idx = vals.argsort()[::-1]   \n",
    "vals = vals[idx]\n",
    "vecs = vecs[:,idx]\n",
    "\n",
    "\n",
    "#print(idx)\n",
    "V = vecs\n",
    "sym.Matrix(V)\n",
    "\n",
    "print(V)\n",
    "\n",
    "P = vecs\n",
    "sym.Matrix(P)"
   ]
  },
  {
   "cell_type": "markdown",
   "id": "32e4fdb0",
   "metadata": {},
   "source": [
    "The following code generates a matrix of the same size as $B$ and puts the eigenvalues on the diagonals. "
   ]
  },
  {
   "cell_type": "code",
   "execution_count": null,
   "id": "98f04733",
   "metadata": {
    "scrolled": true
   },
   "outputs": [],
   "source": [
    "D = np.zeros(B.shape)\n",
    "for i in range(len(vals)):\n",
    "    D[i,i] = vals[i]\n",
    "sym.Matrix(D)"
   ]
  },
  {
   "cell_type": "markdown",
   "id": "3ebd95f3",
   "metadata": {},
   "source": [
    "<font color=red>**DO THIS:**</font> Show that $B=PDP^{-1}$"
   ]
  },
  {
   "cell_type": "code",
   "execution_count": null,
   "id": "edb654cc",
   "metadata": {},
   "outputs": [],
   "source": [
    "###Answer###\n",
    "B2 = \n",
    "np.allclose(B,B2)\n",
    "###Answer###"
   ]
  },
  {
   "cell_type": "markdown",
   "id": "3270d1c9",
   "metadata": {},
   "source": [
    "<font color=red>**DO THIS:**</font> Calculate $B^{10}$ using ONLY the above factorization"
   ]
  },
  {
   "cell_type": "code",
   "execution_count": null,
   "id": "e058267d",
   "metadata": {},
   "outputs": [],
   "source": [
    "#Put your answer to the above question here"
   ]
  },
  {
   "cell_type": "markdown",
   "id": "eb2465a9",
   "metadata": {},
   "source": [
    "<font color=red>**DO THIS:**</font>  Now check that this answer is correct by finding $B^{10}$ by multiplying $B$ 10 times."
   ]
  },
  {
   "cell_type": "code",
   "execution_count": null,
   "id": "ead6a4f9",
   "metadata": {},
   "outputs": [],
   "source": [
    "#Put your answer to the above question here"
   ]
  },
  {
   "cell_type": "markdown",
   "id": "5303ede2",
   "metadata": {},
   "source": [
    "<font color=red>**QUESTION:**</font> What is the estimated complexity of multiplying an arbitrary $n\\times n$ matrix by itself $m$ times? (Hint: both $m$ and $n$ should be included in your Big-O notation answer). "
   ]
  },
  {
   "cell_type": "code",
   "execution_count": null,
   "id": "a5e7dfcb",
   "metadata": {},
   "outputs": [],
   "source": [
    "#Put your answer to the above question here"
   ]
  },
  {
   "cell_type": "markdown",
   "id": "7cf1ccd9",
   "metadata": {},
   "source": [
    "<font color=green>**Comment:** Diagonalization of an $n\\times n$ matrix takes $O(n^3)$ operations.\n"
   ]
  },
  {
   "cell_type": "markdown",
   "id": "0ef692b3",
   "metadata": {},
   "source": [
    " **<font color=blue> Example:** <font color=blue>Consider $ L = \\begin{bmatrix}2&4&3\\\\-4&-6&-3 \\\\3& 3& 1\\end{bmatrix}.$\n",
    "Is $L$ diagonalizable?"
   ]
  },
  {
   "cell_type": "code",
   "execution_count": null,
   "id": "7843c573",
   "metadata": {},
   "outputs": [],
   "source": [
    "L=np.array([[2,4,3],[-4,-6,-3],[3,3,1]])\n",
    "L1=sym.Matrix(L).diagonalize()\n",
    "L1"
   ]
  },
  {
   "cell_type": "markdown",
   "id": "b5d8818a",
   "metadata": {},
   "source": [
    "---\n",
    "<font color=blue> Write a function that has input a matrix and checks if this matrix is diagonalizable. If it is, the function needs to print a diagonal matrix $D$ and an invertible matrix $P$ such that $A=PDP^{-1}$. If the matrix is not diagonalizable, then the function needs to print a message."
   ]
  },
  {
   "cell_type": "code",
   "execution_count": null,
   "id": "7028201b",
   "metadata": {},
   "outputs": [],
   "source": [
    "def checkDIAG(A):\n",
    "    A = sym.Matrix(A)\n",
    "    try:\n",
    "        ...\n",
    "        print('An invertible matrix is', ...)\n",
    "        print('A diagonal matrix is',...)\n",
    "    except:\n",
    "        print(...)\n",
    "    "
   ]
  },
  {
   "cell_type": "code",
   "execution_count": null,
   "id": "a1d478f1",
   "metadata": {},
   "outputs": [],
   "source": [
    "checkDIAG(B)"
   ]
  },
  {
   "cell_type": "markdown",
   "id": "b8c51ea4",
   "metadata": {},
   "source": [
    "----\n",
    "\n",
    "\n",
    "## 2. QR factorization (linearly independent columns)\n",
    "\n"
   ]
  },
  {
   "cell_type": "markdown",
   "id": "cedaacf1",
   "metadata": {},
   "source": [
    "We will write a function in python that has as input an $m\\times n$ matrix $A$ and that\n",
    "1. checks if the columns of $A$ are linearly independent. If not, the algorithm will end with a suitable message.\n",
    "2. If the columns of $A$ are linearly independent, the function would return an $m\\times n$ matrix $Q$ that has orthonormal columns and an $n\\times n$ upper triangular invertible matrix $R$ with positive entries on its diagonal.\n",
    "\n",
    "Note: DO NOT use numpy to get the matrices $Q$ and $R$."
   ]
  },
  {
   "cell_type": "code",
   "execution_count": null,
   "id": "92024dad",
   "metadata": {},
   "outputs": [],
   "source": [
    "import numpy as np\n",
    "import sympy as sym"
   ]
  },
  {
   "cell_type": "markdown",
   "id": "190b84c4",
   "metadata": {},
   "source": [
    "Recall the projection function we have already seen:"
   ]
  },
  {
   "cell_type": "code",
   "execution_count": null,
   "id": "614790af",
   "metadata": {},
   "outputs": [],
   "source": [
    "def projection(v,u):\n",
    "    u=np.array(u)\n",
    "    v=np.array(v)\n",
    "    if len(u)==len(v):\n",
    "        return np.dot(u,v)/np.dot(u,u)*u\n",
    "    else:\n",
    "        print('The vectors are not of equal dimension')"
   ]
  },
  {
   "cell_type": "markdown",
   "id": "b0266bcc",
   "metadata": {},
   "source": [
    "and the Gram-Schmidt function that creates an orthonormal set from a given linearly independent one:"
   ]
  },
  {
   "cell_type": "code",
   "execution_count": null,
   "id": "87ae54e9",
   "metadata": {},
   "outputs": [],
   "source": [
    "def ortho_GramSchmidt(A):\n",
    "    # Get the transpose of A\n",
    "    A=np.array(A)\n",
    "    AT = A.T\n",
    "\n",
    "    # Create a new empty matrix GT\n",
    "    GT = np.zeros(AT.shape)\n",
    "\n",
    "    # Loop over the rows of AT\n",
    "    for i in range(AT.shape[0]):   # AT.shape[0]=len(AT)\n",
    "        # Set the i-th row of GT to be the i-th row of AT\n",
    "        GT[i] = AT[i]\n",
    "\n",
    "        # Loop over the previous rows of GT\n",
    "        for j in range(i):\n",
    "            # Subtract the projection of AT[i] onto GT[j]\n",
    "            GT[i] -= projection(AT[i],GT[j])\n",
    "            \n",
    "        # Normalize the vector by dividing it by its magnitude\n",
    "        GT[i] = ...\n",
    "\n",
    "    # Transpose GT to get the orthogonal matrix G\n",
    "    G = GT.T\n",
    "\n",
    "    return G"
   ]
  },
  {
   "cell_type": "markdown",
   "id": "6e6c31fa",
   "metadata": {},
   "source": [
    "Now, it is time to get our ```qr_factorization()``` function:"
   ]
  },
  {
   "cell_type": "code",
   "execution_count": null,
   "id": "dd8e2339",
   "metadata": {},
   "outputs": [],
   "source": [
    "def qr_factorization(A):\n",
    "    A=np.array(A)\n",
    "    #find a condition that checks that the columns are linearly independent\n",
    "        Q=\n",
    "        R=\n",
    "        return Q,R\n",
    "    else:\n",
    "        print('The columns of the matrix are not linearly independent')\n",
    "         "
   ]
  },
  {
   "cell_type": "markdown",
   "id": "c8c32a8a",
   "metadata": {},
   "source": [
    "Let's test our function to the following matrices:"
   ]
  },
  {
   "cell_type": "code",
   "execution_count": null,
   "id": "b16d7c60",
   "metadata": {},
   "outputs": [],
   "source": [
    "A=[[1,2],[1,1],[-1,1]]\n"
   ]
  },
  {
   "cell_type": "markdown",
   "id": "09b8f67f",
   "metadata": {},
   "source": [
    "Is this what we expect? What are the disadvantages of using the Gram-Schmidt othonormalization on a computer to QR factor a matrix?"
   ]
  },
  {
   "cell_type": "code",
   "execution_count": null,
   "id": "0992b5c7",
   "metadata": {},
   "outputs": [],
   "source": [
    "# put your answer here"
   ]
  },
  {
   "cell_type": "code",
   "execution_count": null,
   "id": "c94f1466",
   "metadata": {},
   "outputs": [],
   "source": [
    "B=[[1,2,3],[1,-1,0]]\n"
   ]
  },
  {
   "cell_type": "markdown",
   "id": "c739fbae",
   "metadata": {},
   "source": [
    "<font color=blue>**Example**. Use the ```qr_factorization()``` function to factor $C=\\begin{bmatrix}1&3&6\\\\1&2&2 \\\\1&3&8 \\\\1&2&4 \\end{bmatrix}$. Then simplify the system $Cx=\\begin{bmatrix}3 \\\\ -1 \\\\ 5 \\\\1 \\end{bmatrix}$ using the QR factorization of $C$. Finally, solve the simplified system by hand."
   ]
  },
  {
   "cell_type": "code",
   "execution_count": null,
   "id": "012e7863",
   "metadata": {},
   "outputs": [],
   "source": [
    "C="
   ]
  },
  {
   "cell_type": "code",
   "execution_count": null,
   "id": "8fa2dffe",
   "metadata": {
    "scrolled": true
   },
   "outputs": [],
   "source": [
    "b=np.array([[3],[-1],[5],[1]])\n",
    "R=\n",
    "W=\n"
   ]
  }
 ],
 "metadata": {
  "kernelspec": {
   "display_name": "Python 3 (ipykernel)",
   "language": "python",
   "name": "python3"
  },
  "language_info": {
   "codemirror_mode": {
    "name": "ipython",
    "version": 3
   },
   "file_extension": ".py",
   "mimetype": "text/x-python",
   "name": "python",
   "nbconvert_exporter": "python",
   "pygments_lexer": "ipython3",
   "version": "3.11.3"
  }
 },
 "nbformat": 4,
 "nbformat_minor": 5
}
